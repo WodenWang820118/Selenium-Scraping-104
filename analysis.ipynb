{
 "cells": [
  {
   "cell_type": "markdown",
   "metadata": {},
   "source": [
    "# Import libraries and data"
   ]
  },
  {
   "cell_type": "code",
   "execution_count": 29,
   "metadata": {},
   "outputs": [],
   "source": [
    "import pandas as pd\n",
    "import numpy as np\n",
    "import matplotlib.pyplot as plt\n",
    "import re"
   ]
  },
  {
   "cell_type": "code",
   "execution_count": 30,
   "metadata": {},
   "outputs": [],
   "source": [
    "df = pd.read_csv('104_IT_jobs.csv')"
   ]
  },
  {
   "cell_type": "code",
   "execution_count": 31,
   "metadata": {},
   "outputs": [
    {
     "data": {
      "text/html": [
       "<div>\n",
       "<style scoped>\n",
       "    .dataframe tbody tr th:only-of-type {\n",
       "        vertical-align: middle;\n",
       "    }\n",
       "\n",
       "    .dataframe tbody tr th {\n",
       "        vertical-align: top;\n",
       "    }\n",
       "\n",
       "    .dataframe thead th {\n",
       "        text-align: right;\n",
       "    }\n",
       "</style>\n",
       "<table border=\"1\" class=\"dataframe\">\n",
       "  <thead>\n",
       "    <tr style=\"text-align: right;\">\n",
       "      <th></th>\n",
       "      <th>job_item_name</th>\n",
       "      <th>job_item_comapny</th>\n",
       "      <th>job_item_area</th>\n",
       "      <th>job_item_experience</th>\n",
       "      <th>job_item_degree</th>\n",
       "      <th>job_item_salary</th>\n",
       "      <th>job_item_description</th>\n",
       "    </tr>\n",
       "  </thead>\n",
       "  <tbody>\n",
       "    <tr>\n",
       "      <th>0</th>\n",
       "      <td>Senior Embedded Software Engineer -觸控優先</td>\n",
       "      <td>邁新科技有限公司</td>\n",
       "      <td>新北市林口區</td>\n",
       "      <td>經歷不拘</td>\n",
       "      <td>專科</td>\n",
       "      <td>月薪100,000~190,000元</td>\n",
       "      <td>We are looking forward to building a team of S...</td>\n",
       "    </tr>\n",
       "  </tbody>\n",
       "</table>\n",
       "</div>"
      ],
      "text/plain": [
       "                             job_item_name job_item_comapny job_item_area  \\\n",
       "0  Senior Embedded Software Engineer -觸控優先         邁新科技有限公司        新北市林口區   \n",
       "\n",
       "  job_item_experience job_item_degree     job_item_salary  \\\n",
       "0                經歷不拘              專科  月薪100,000~190,000元   \n",
       "\n",
       "                                job_item_description  \n",
       "0  We are looking forward to building a team of S...  "
      ]
     },
     "execution_count": 31,
     "metadata": {},
     "output_type": "execute_result"
    }
   ],
   "source": [
    "df.head(1)"
   ]
  },
  {
   "cell_type": "markdown",
   "metadata": {},
   "source": [
    "# Analysis"
   ]
  },
  {
   "cell_type": "markdown",
   "metadata": {},
   "source": [
    "## Helper functions"
   ]
  },
  {
   "cell_type": "code",
   "execution_count": 32,
   "metadata": {},
   "outputs": [],
   "source": [
    "def extract_number(x):\n",
    "    \"\"\" Extract the number from a string\n",
    "    \"\"\"\n",
    "    x = x.replace(',','')\n",
    "    return re.findall(r'\\d+', x)\n",
    "\n",
    "def extract_bottom(x):\n",
    "    return x[0]\n",
    "\n",
    "def extract_top(x):\n",
    "    return x[1]"
   ]
  },
  {
   "cell_type": "code",
   "execution_count": 49,
   "metadata": {},
   "outputs": [],
   "source": [
    "def to_numeric(x):\n",
    "    return pd.to_numeric(x)"
   ]
  },
  {
   "cell_type": "markdown",
   "metadata": {},
   "source": [
    "## Classify the salary into three categories"
   ]
  },
  {
   "cell_type": "code",
   "execution_count": 33,
   "metadata": {},
   "outputs": [],
   "source": [
    "df_annual_sal = df[df['job_item_salary'].str.contains('年薪')]\n",
    "df_month_sal = df[df['job_item_salary'].str.contains('月薪')]\n",
    "df_negotiate = df[df['job_item_salary'].str.contains('面議')]"
   ]
  },
  {
   "cell_type": "markdown",
   "metadata": {},
   "source": [
    "- It seems in the IT field, most of the jobs are negotiable, but opaque.\n",
    "- roughly 37% of the jobs provide the salary information, and mostly the monthly paid."
   ]
  },
  {
   "cell_type": "code",
   "execution_count": 34,
   "metadata": {},
   "outputs": [
    {
     "data": {
      "text/plain": [
       "(0.019939577039274924, 0.3619335347432024, 0.6114803625377644)"
      ]
     },
     "execution_count": 34,
     "metadata": {},
     "output_type": "execute_result"
    }
   ],
   "source": [
    "# pie chart\n",
    "len(df_annual_sal)/len(df), len(df_month_sal)/len(df), len(df_negotiate)/len(df)"
   ]
  },
  {
   "cell_type": "code",
   "execution_count": 35,
   "metadata": {},
   "outputs": [
    {
     "data": {
      "text/plain": [
       "list"
      ]
     },
     "execution_count": 35,
     "metadata": {},
     "output_type": "execute_result"
    }
   ],
   "source": [
    "x = extract_number('月薪100,000~190,000元')\n",
    "type(x)"
   ]
  },
  {
   "cell_type": "markdown",
   "metadata": {},
   "source": [
    "### Get the bottom salary from the monthly salary group\n",
    "- There is not top salary in some of the jobs."
   ]
  },
  {
   "cell_type": "code",
   "execution_count": 46,
   "metadata": {},
   "outputs": [
    {
     "name": "stderr",
     "output_type": "stream",
     "text": [
      "C:\\Users\\alex0\\AppData\\Local\\Temp/ipykernel_4532/32509577.py:1: SettingWithCopyWarning: \n",
      "A value is trying to be set on a copy of a slice from a DataFrame.\n",
      "Try using .loc[row_indexer,col_indexer] = value instead\n",
      "\n",
      "See the caveats in the documentation: https://pandas.pydata.org/pandas-docs/stable/user_guide/indexing.html#returning-a-view-versus-a-copy\n",
      "  df_month_sal['sal_list'] = df_month_sal['job_item_salary'].map((extract_number))\n"
     ]
    }
   ],
   "source": [
    "df_month_sal['sal_list'] = df_month_sal['job_item_salary'].map((extract_number))"
   ]
  },
  {
   "cell_type": "code",
   "execution_count": 48,
   "metadata": {},
   "outputs": [
    {
     "name": "stderr",
     "output_type": "stream",
     "text": [
      "C:\\Users\\alex0\\AppData\\Local\\Temp/ipykernel_4532/2085977989.py:2: SettingWithCopyWarning: \n",
      "A value is trying to be set on a copy of a slice from a DataFrame.\n",
      "Try using .loc[row_indexer,col_indexer] = value instead\n",
      "\n",
      "See the caveats in the documentation: https://pandas.pydata.org/pandas-docs/stable/user_guide/indexing.html#returning-a-view-versus-a-copy\n",
      "  df_month_sal['bottom_sal'] = df_month_sal['sal_list'].map((extract_bottom))\n"
     ]
    }
   ],
   "source": [
    "# extract the data from job_item_salary column\n",
    "df_month_sal['bottom_sal'] = df_month_sal['sal_list'].map((extract_bottom))"
   ]
  },
  {
   "cell_type": "code",
   "execution_count": 42,
   "metadata": {},
   "outputs": [
    {
     "data": {
      "text/plain": [
       "0    100000\n",
       "Name: bottom_sal, dtype: object"
      ]
     },
     "execution_count": 42,
     "metadata": {},
     "output_type": "execute_result"
    }
   ],
   "source": [
    "df_month_sal['bottom_sal'].head(1)"
   ]
  },
  {
   "cell_type": "code",
   "execution_count": 50,
   "metadata": {},
   "outputs": [
    {
     "name": "stderr",
     "output_type": "stream",
     "text": [
      "C:\\Users\\alex0\\AppData\\Local\\Temp/ipykernel_4532/1394088323.py:1: SettingWithCopyWarning: \n",
      "A value is trying to be set on a copy of a slice from a DataFrame.\n",
      "Try using .loc[row_indexer,col_indexer] = value instead\n",
      "\n",
      "See the caveats in the documentation: https://pandas.pydata.org/pandas-docs/stable/user_guide/indexing.html#returning-a-view-versus-a-copy\n",
      "  df_month_sal['bottom_sal'] = df_month_sal['bottom_sal'].map(to_numeric)\n"
     ]
    }
   ],
   "source": [
    "df_month_sal['bottom_sal'] = df_month_sal['bottom_sal'].map(to_numeric)"
   ]
  },
  {
   "cell_type": "markdown",
   "metadata": {},
   "source": [
    "### Summary\n",
    "- Mostly, the bottom salary is around 30,000 NTD.\n",
    "- The average salary is around 38,000 NTD.\n",
    "- The lowest salary is around 27,000 NTD.\n",
    "- The highest salary is around 100,000 NTD."
   ]
  },
  {
   "cell_type": "code",
   "execution_count": 57,
   "metadata": {},
   "outputs": [
    {
     "data": {
      "text/plain": [
       "<AxesSubplot:>"
      ]
     },
     "execution_count": 57,
     "metadata": {},
     "output_type": "execute_result"
    },
    {
     "data": {
      "image/png": "[encoded data removed]",
      "text/plain": [
       "<Figure size 432x288 with 1 Axes>"
      ]
     },
     "metadata": {
      "needs_background": "light"
     },
     "output_type": "display_data"
    }
   ],
   "source": [
    "df_month_sal['bottom_sal'].plot(kind='box')"
   ]
  },
  {
   "cell_type": "code",
   "execution_count": 61,
   "metadata": {},
   "outputs": [
    {
     "data": {
      "text/plain": [
       "<AxesSubplot:ylabel='Frequency'>"
      ]
     },
     "execution_count": 61,
     "metadata": {},
     "output_type": "execute_result"
    },
    {
     "data": {
      "image/png": "[encoded data removed]",
      "text/plain": [
       "<Figure size 432x288 with 1 Axes>"
      ]
     },
     "metadata": {
      "needs_background": "light"
     },
     "output_type": "display_data"
    }
   ],
   "source": [
    "df_month_sal['bottom_sal'].plot(kind='hist', bins=20)"
   ]
  },
  {
   "cell_type": "code",
   "execution_count": 62,
   "metadata": {},
   "outputs": [
    {
     "data": {
      "text/plain": [
       "count      1198.000000\n",
       "mean      38281.552588\n",
       "std       15318.904820\n",
       "min       27000.000000\n",
       "25%       30000.000000\n",
       "50%       32000.000000\n",
       "75%       38000.000000\n",
       "max      100000.000000\n",
       "Name: bottom_sal, dtype: float64"
      ]
     },
     "execution_count": 62,
     "metadata": {},
     "output_type": "execute_result"
    }
   ],
   "source": [
    "df_month_sal['bottom_sal'].describe()"
   ]
  },
  {
   "cell_type": "markdown",
   "metadata": {},
   "source": [
    "## Annual salary analysis"
   ]
  },
  {
   "cell_type": "code",
   "execution_count": 63,
   "metadata": {},
   "outputs": [
    {
     "data": {
      "text/plain": [
       "626    年薪840,000~1,300,000元\n",
       "627    年薪840,000~1,300,000元\n",
       "628    年薪840,000~1,300,000元\n",
       "629    年薪840,000~1,300,000元\n",
       "630    年薪840,000~1,300,000元\n",
       "Name: job_item_salary, dtype: object"
      ]
     },
     "execution_count": 63,
     "metadata": {},
     "output_type": "execute_result"
    }
   ],
   "source": [
    "df_annual_sal['job_item_salary'].head()"
   ]
  },
  {
   "cell_type": "code",
   "execution_count": 67,
   "metadata": {},
   "outputs": [
    {
     "name": "stderr",
     "output_type": "stream",
     "text": [
      "C:\\Users\\alex0\\AppData\\Local\\Temp/ipykernel_4532/473244264.py:1: SettingWithCopyWarning: \n",
      "A value is trying to be set on a copy of a slice from a DataFrame.\n",
      "Try using .loc[row_indexer,col_indexer] = value instead\n",
      "\n",
      "See the caveats in the documentation: https://pandas.pydata.org/pandas-docs/stable/user_guide/indexing.html#returning-a-view-versus-a-copy\n",
      "  df_annual_sal['bottom_sal'] = df_annual_sal['job_item_salary'].map(extract_number)\n",
      "C:\\Users\\alex0\\AppData\\Local\\Temp/ipykernel_4532/473244264.py:2: SettingWithCopyWarning: \n",
      "A value is trying to be set on a copy of a slice from a DataFrame.\n",
      "Try using .loc[row_indexer,col_indexer] = value instead\n",
      "\n",
      "See the caveats in the documentation: https://pandas.pydata.org/pandas-docs/stable/user_guide/indexing.html#returning-a-view-versus-a-copy\n",
      "  df_annual_sal['bottom_sal'] = df_annual_sal['bottom_sal'].map(extract_bottom)\n"
     ]
    }
   ],
   "source": [
    "df_annual_sal['bottom_sal'] = df_annual_sal['job_item_salary'].map(extract_number)\n",
    "df_annual_sal['bottom_sal'] = df_annual_sal['bottom_sal'].map(extract_bottom)"
   ]
  },
  {
   "cell_type": "code",
   "execution_count": 68,
   "metadata": {},
   "outputs": [
    {
     "name": "stderr",
     "output_type": "stream",
     "text": [
      "C:\\Users\\alex0\\AppData\\Local\\Temp/ipykernel_4532/1589032523.py:1: SettingWithCopyWarning: \n",
      "A value is trying to be set on a copy of a slice from a DataFrame.\n",
      "Try using .loc[row_indexer,col_indexer] = value instead\n",
      "\n",
      "See the caveats in the documentation: https://pandas.pydata.org/pandas-docs/stable/user_guide/indexing.html#returning-a-view-versus-a-copy\n",
      "  df_annual_sal['top_sal'] = df_annual_sal['job_item_salary'].map(extract_number)\n",
      "C:\\Users\\alex0\\AppData\\Local\\Temp/ipykernel_4532/1589032523.py:2: SettingWithCopyWarning: \n",
      "A value is trying to be set on a copy of a slice from a DataFrame.\n",
      "Try using .loc[row_indexer,col_indexer] = value instead\n",
      "\n",
      "See the caveats in the documentation: https://pandas.pydata.org/pandas-docs/stable/user_guide/indexing.html#returning-a-view-versus-a-copy\n",
      "  df_annual_sal['top_sal'] = df_annual_sal['top_sal'].map(extract_top)\n"
     ]
    }
   ],
   "source": [
    "df_annual_sal['top_sal'] = df_annual_sal['job_item_salary'].map(extract_number)\n",
    "df_annual_sal['top_sal'] = df_annual_sal['top_sal'].map(extract_top)"
   ]
  },
  {
   "cell_type": "code",
   "execution_count": 69,
   "metadata": {},
   "outputs": [
    {
     "name": "stderr",
     "output_type": "stream",
     "text": [
      "C:\\Users\\alex0\\AppData\\Local\\Temp/ipykernel_4532/2369787870.py:1: SettingWithCopyWarning: \n",
      "A value is trying to be set on a copy of a slice from a DataFrame.\n",
      "Try using .loc[row_indexer,col_indexer] = value instead\n",
      "\n",
      "See the caveats in the documentation: https://pandas.pydata.org/pandas-docs/stable/user_guide/indexing.html#returning-a-view-versus-a-copy\n",
      "  df_annual_sal['bottom_sal'] = df_annual_sal['bottom_sal'].map(to_numeric)\n",
      "C:\\Users\\alex0\\AppData\\Local\\Temp/ipykernel_4532/2369787870.py:2: SettingWithCopyWarning: \n",
      "A value is trying to be set on a copy of a slice from a DataFrame.\n",
      "Try using .loc[row_indexer,col_indexer] = value instead\n",
      "\n",
      "See the caveats in the documentation: https://pandas.pydata.org/pandas-docs/stable/user_guide/indexing.html#returning-a-view-versus-a-copy\n",
      "  df_annual_sal['top_sal'] = df_annual_sal['top_sal'].map(to_numeric)\n"
     ]
    }
   ],
   "source": [
    "df_annual_sal['bottom_sal'] = df_annual_sal['bottom_sal'].map(to_numeric)\n",
    "df_annual_sal['top_sal'] = df_annual_sal['top_sal'].map(to_numeric)"
   ]
  },
  {
   "cell_type": "code",
   "execution_count": 74,
   "metadata": {},
   "outputs": [
    {
     "name": "stderr",
     "output_type": "stream",
     "text": [
      "C:\\Users\\alex0\\AppData\\Local\\Temp/ipykernel_4532/829888425.py:1: SettingWithCopyWarning: \n",
      "A value is trying to be set on a copy of a slice from a DataFrame.\n",
      "Try using .loc[row_indexer,col_indexer] = value instead\n",
      "\n",
      "See the caveats in the documentation: https://pandas.pydata.org/pandas-docs/stable/user_guide/indexing.html#returning-a-view-versus-a-copy\n",
      "  df_annual_sal['bottom_monthly_transform'] = df_annual_sal['bottom_sal']/12\n",
      "C:\\Users\\alex0\\AppData\\Local\\Temp/ipykernel_4532/829888425.py:2: SettingWithCopyWarning: \n",
      "A value is trying to be set on a copy of a slice from a DataFrame.\n",
      "Try using .loc[row_indexer,col_indexer] = value instead\n",
      "\n",
      "See the caveats in the documentation: https://pandas.pydata.org/pandas-docs/stable/user_guide/indexing.html#returning-a-view-versus-a-copy\n",
      "  df_annual_sal['top_monthly_transform'] = df_annual_sal['top_sal']/12\n"
     ]
    }
   ],
   "source": [
    "df_annual_sal['bottom_monthly_transform'] = df_annual_sal['bottom_sal']/12\n",
    "df_annual_sal['top_monthly_transform'] = df_annual_sal['top_sal']/12"
   ]
  },
  {
   "cell_type": "markdown",
   "metadata": {},
   "source": [
    "### Summary\n",
    "- In the bottom annual salary group, the average annual salary is around 54,000 NTD; 90,000 NTD in the top annual salary group.\n",
    "- overall, divided the annual salary into twelve months, the average salary is higher than monthly paid group."
   ]
  },
  {
   "cell_type": "code",
   "execution_count": 76,
   "metadata": {},
   "outputs": [
    {
     "data": {
      "text/plain": [
       "count       66.000000\n",
       "mean     53888.888889\n",
       "std      15412.652515\n",
       "min      33333.333333\n",
       "25%      33333.333333\n",
       "50%      58333.333333\n",
       "75%      70000.000000\n",
       "max      70000.000000\n",
       "Name: bottom_monthly_transform, dtype: float64"
      ]
     },
     "execution_count": 76,
     "metadata": {},
     "output_type": "execute_result"
    }
   ],
   "source": [
    "df_annual_sal['bottom_monthly_transform'].describe()"
   ]
  },
  {
   "cell_type": "code",
   "execution_count": 77,
   "metadata": {},
   "outputs": [
    {
     "data": {
      "text/plain": [
       "count        66.000000\n",
       "mean      92222.222222\n",
       "std       35502.899043\n",
       "min       43333.333333\n",
       "25%       43333.333333\n",
       "50%      108333.333333\n",
       "75%      125000.000000\n",
       "max      125000.000000\n",
       "Name: top_monthly_transform, dtype: float64"
      ]
     },
     "execution_count": 77,
     "metadata": {},
     "output_type": "execute_result"
    }
   ],
   "source": [
    "df_annual_sal['top_monthly_transform'].describe()"
   ]
  },
  {
   "cell_type": "code",
   "execution_count": null,
   "metadata": {},
   "outputs": [],
   "source": []
  }
 ],
 "metadata": {
  "interpreter": {
   "hash": "779b8ca6f8dbfd082ef66503071b5909bd7a71cd82c6f58549dd15043117d78f"
  },
  "kernelspec": {
   "display_name": "Python 3.9.6 64-bit ('Selenium-Scraping-104-6qPnSbTP': pipenv)",
   "language": "python",
   "name": "python3"
  },
  "language_info": {
   "codemirror_mode": {
    "name": "ipython",
    "version": 3
   },
   "file_extension": ".py",
   "mimetype": "text/x-python",
   "name": "python",
   "nbconvert_exporter": "python",
   "pygments_lexer": "ipython3",
   "version": "3.9.6"
  },
  "orig_nbformat": 4
 },
 "nbformat": 4,
 "nbformat_minor": 2
}
