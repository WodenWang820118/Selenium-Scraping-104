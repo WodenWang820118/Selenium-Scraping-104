{
 "cells": [
  {
   "cell_type": "code",
   "execution_count": 1,
   "metadata": {},
   "outputs": [],
   "source": [
    "from selenium import webdriver\n",
    "from webdriver_manager.chrome import ChromeDriverManager\n",
    "from time import sleep\n",
    "import logging"
   ]
  },
  {
   "cell_type": "markdown",
   "metadata": {},
   "source": [
    "# Use the webdriver to scrape the target website\n",
    "- to search the jobs based on categories.\n",
    "- focus on IT and related jobs first, get all the data if complete IT jobs scraping."
   ]
  },
  {
   "cell_type": "markdown",
   "metadata": {},
   "source": [
    "## Open the browser and query the database"
   ]
  },
  {
   "cell_type": "code",
   "execution_count": 2,
   "metadata": {},
   "outputs": [
    {
     "name": "stderr",
     "output_type": "stream",
     "text": [
      "\n",
      "\n",
      "====== WebDriver manager ======\n",
      "Current google-chrome version is 95.0.4638\n",
      "Get LATEST chromedriver version for 95.0.4638 google-chrome\n",
      "Driver [C:\\Users\\alex0\\.wdm\\drivers\\chromedriver\\win32\\95.0.4638.54\\chromedriver.exe] found in cache\n"
     ]
    }
   ],
   "source": [
    "logger = logging.getLogger(__name__)\n",
    "TARGET_WEBSITE = \"https://www.104.com.tw/jobs/main/\"\n",
    "\n",
    "driver = webdriver.Chrome(ChromeDriverManager().install()) # open chrome\n",
    "driver.get(TARGET_WEBSITE) # open the target website\n",
    "driver.fullscreen_window() # fullscreen to locate the element\n",
    "\n",
    "def search_IT_jobs():\n",
    "  \"\"\"\n",
    "  The function to search the IT jobs\n",
    "  \"\"\"\n",
    "  sleep(5) # to wait for the elements loading complete\n",
    "  try:\n",
    "    btn_cancel = driver.find_element_by_xpath('/html/body/div[6]/div/div[2]/div[2]/div[3]/div/div/button[1]')\n",
    "    btn_cancel.click()\n",
    "  except:\n",
    "    print(\"no cancel button\")\n",
    "  sleep(1)\n",
    "  # open the category filter\n",
    "  category = driver.find_element_by_id('ijob')\n",
    "  category.click()\n",
    "  sleep(1)\n",
    "  # open the IT category\n",
    "  categories = driver.find_elements_by_class_name('category-item')\n",
    "  for category in categories:\n",
    "    if category.text == '資訊軟體系統類':\n",
    "      category.click()\n",
    "      break\n",
    "  sleep(1)\n",
    "  btn_all = driver.find_element_by_xpath('/html/body/div[12]/div/div[2]/div/div[2]/div[2]/li/a/span[1]/input')\n",
    "  btn_all.click()\n",
    "  # confirm\n",
    "  sleep(1)\n",
    "  btn_confirm = driver.find_element_by_xpath('/html/body/div[12]/div/div[2]/div/div[3]/button')\n",
    "  btn_confirm.click()\n",
    "  sleep(1)\n",
    "  # search\n",
    "  btn_search = driver.find_element_by_xpath('/html/body/article[1]/div/div/div[4]/div/button')\n",
    "  btn_search.click()\n",
    "search_IT_jobs()\n"
   ]
  },
  {
   "cell_type": "markdown",
   "metadata": {},
   "source": [
    "## Get the desired data according to the query\n",
    "- get the job title, company name, location, salary, and job description.\n",
    "- from 104:\n",
    "  - first line: job title\n",
    "  - second line: company name\n",
    "  - third line: location\n",
    "  - fourth line: experience\n",
    "  - fifth line: degree\n",
    "  - sixth line: job description\n",
    "  - seventh line: job salary"
   ]
  },
  {
   "cell_type": "markdown",
   "metadata": {},
   "source": [
    "### Save the data as an object into a list\n",
    "- each page has 20-30 jobs, so we need to loop through the pages to get all the data."
   ]
  },
  {
   "cell_type": "code",
   "execution_count": 16,
   "metadata": {},
   "outputs": [],
   "source": [
    "\n",
    "page = 1\n",
    "def crawl_one_page_info(job_info):\n",
    "  \"\"\"\n",
    "  Crawl one page of the job information. There could a bug since the\n",
    "  human power bank advertise certain position without format.\n",
    "  \"\"\"\n",
    "  global page # for counting the page\n",
    "  sleep(1)\n",
    "  try:\n",
    "    job_items = driver.find_elements_by_tag_name('article')\n",
    "    num_jobs = len(job_items)\n",
    "    print(f\"Page {page} with {num_jobs} jobs.\")\n",
    "    page += 1\n",
    "  except Exception as e:\n",
    "    logger.error(e)\n",
    "  \n",
    "  for job_item in job_items:\n",
    "    try:\n",
    "      job_item_name = job_item.get_attribute('data-job-name')\n",
    "    except Exception as e:\n",
    "      logger.error(f\"Failed to get job name: {e}\")\n",
    "      job_item_name = 'None'\n",
    "    try:\n",
    "      job_item_comapny = job_item.get_attribute('data-cust-name')\n",
    "    except Exception as e:\n",
    "      logger.error(f\"Failed to get job company: {e}\")\n",
    "      job_item_comapny = 'None'\n",
    "    try:\n",
    "      job_item_area = job_item.find_element_by_class_name('job-list-intro').find_elements_by_tag_name('li')[0].text\n",
    "    except Exception as e:\n",
    "      logger.error(f\"Failed to get job area: {e}\")\n",
    "      job_item_area = 'None'\n",
    "    try:\n",
    "      job_item_experience = job_item.find_element_by_class_name('job-list-intro').find_elements_by_tag_name('li')[1].text\n",
    "    except Exception as e:\n",
    "      logger.error(f\"Failed to get job experience: {e}\")\n",
    "      job_item_experience = 'None'\n",
    "    try:\n",
    "      job_item_degree = job_item.find_element_by_class_name('job-list-intro').find_elements_by_tag_name('li')[2].text\n",
    "    except Exception as e:\n",
    "      logger.error(f\"Failed to get job degree: {e}\")\n",
    "      job_item_degree = 'None'\n",
    "    try:\n",
    "      job_item_salary = job_items[0].find_element_by_class_name('job-list-tag').find_elements_by_tag_name('span')[0].text\n",
    "    except Exception as e:\n",
    "      logger.error(f\"Failed to get job salary: {e}\")\n",
    "      job_item_salary = 'None'\n",
    "    try:\n",
    "      job_item_description = job_item.find_elements_by_class_name('job-list-item__info')[0].text\n",
    "    except Exception as e:\n",
    "      logger.error(f\"Failed to get job description: {e}\")\n",
    "      job_item_description = 'None'\n",
    "\n",
    "    try:\n",
    "      # sleep(0.5)\n",
    "      job_info.append({\n",
    "        'job_item_name': job_item_name,\n",
    "        'job_item_comapny': job_item_comapny,\n",
    "        'job_item_area': job_item_area,\n",
    "        'job_item_experience': job_item_experience,\n",
    "        'job_item_degree': job_item_degree,\n",
    "        'job_item_salary': job_item_salary,\n",
    "        'job_item_description': job_item_description\n",
    "      })\n",
    "    except:\n",
    "      print(\"saving process failed\")\n",
    "  return job_info\n",
    "  "
   ]
  },
  {
   "cell_type": "markdown",
   "metadata": {},
   "source": [
    "### Crawl all the pages"
   ]
  },
  {
   "cell_type": "code",
   "execution_count": 17,
   "metadata": {},
   "outputs": [],
   "source": [
    "def crawl_all_page_info():\n",
    "  \"\"\"\n",
    "  The function to crawl all the pages\n",
    "  \"\"\"\n",
    "  page = 1 # reset the page start\n",
    "  job_info = []\n",
    "  page_num = len(driver.find_elements_by_xpath('//*[@id=\"js-job-header\"]/div[1]/label[1]/select')[0].find_elements_by_tag_name('option'))\n",
    "  for i in range(page_num):\n",
    "    # 第 n/150頁\n",
    "    sleep(1)\n",
    "    page_selector = driver.find_elements_by_xpath('//*[@id=\"js-job-header\"]/div[1]/label[1]/select')[0]\n",
    "    page_selector.click()\n",
    "    sleep(0.5)\n",
    "    # 選擇第 n/150頁\n",
    "    page = page_selector.find_elements_by_tag_name('option')[i]\n",
    "    sleep(0.5)\n",
    "    page.click()\n",
    "    sleep(2) # to wait for the elements loading complete\n",
    "    crawl_one_page_info(job_info)\n",
    "  return job_info"
   ]
  },
  {
   "cell_type": "markdown",
   "metadata": {},
   "source": [
    "# Data processing\n",
    "- convert the data into a dataframe\n",
    "- save the dataframe as a csv file"
   ]
  },
  {
   "cell_type": "markdown",
   "metadata": {},
   "source": [
    "## Data scraping"
   ]
  },
  {
   "cell_type": "code",
   "execution_count": 18,
   "metadata": {},
   "outputs": [
    {
     "name": "stdout",
     "output_type": "stream",
     "text": [
      "Page 1 with 32 jobs.\n"
     ]
    },
    {
     "name": "stderr",
     "output_type": "stream",
     "text": [
      "Failed to get job area: Message: no such element: Unable to locate element: {\"method\":\"css selector\",\"selector\":\".job-list-intro\"}\n",
      "  (Session info: chrome=95.0.4638.69)\n",
      "\n",
      "Failed to get job experience: Message: no such element: Unable to locate element: {\"method\":\"css selector\",\"selector\":\".job-list-intro\"}\n",
      "  (Session info: chrome=95.0.4638.69)\n",
      "\n",
      "Failed to get job degree: Message: no such element: Unable to locate element: {\"method\":\"css selector\",\"selector\":\".job-list-intro\"}\n",
      "  (Session info: chrome=95.0.4638.69)\n",
      "\n",
      "Failed to get job description: list index out of range\n",
      "Failed to get job area: Message: no such element: Unable to locate element: {\"method\":\"css selector\",\"selector\":\".job-list-intro\"}\n",
      "  (Session info: chrome=95.0.4638.69)\n",
      "\n",
      "Failed to get job experience: Message: no such element: Unable to locate element: {\"method\":\"css selector\",\"selector\":\".job-list-intro\"}\n",
      "  (Session info: chrome=95.0.4638.69)\n",
      "\n",
      "Failed to get job degree: Message: no such element: Unable to locate element: {\"method\":\"css selector\",\"selector\":\".job-list-intro\"}\n",
      "  (Session info: chrome=95.0.4638.69)\n",
      "\n",
      "Failed to get job description: list index out of range\n"
     ]
    },
    {
     "name": "stdout",
     "output_type": "stream",
     "text": [
      "Page 2 with 22 jobs.\n"
     ]
    },
    {
     "name": "stderr",
     "output_type": "stream",
     "text": [
      "Failed to get job area: Message: no such element: Unable to locate element: {\"method\":\"css selector\",\"selector\":\".job-list-intro\"}\n",
      "  (Session info: chrome=95.0.4638.69)\n",
      "\n",
      "Failed to get job experience: Message: no such element: Unable to locate element: {\"method\":\"css selector\",\"selector\":\".job-list-intro\"}\n",
      "  (Session info: chrome=95.0.4638.69)\n",
      "\n",
      "Failed to get job degree: Message: no such element: Unable to locate element: {\"method\":\"css selector\",\"selector\":\".job-list-intro\"}\n",
      "  (Session info: chrome=95.0.4638.69)\n",
      "\n",
      "Failed to get job description: list index out of range\n",
      "Failed to get job area: Message: no such element: Unable to locate element: {\"method\":\"css selector\",\"selector\":\".job-list-intro\"}\n",
      "  (Session info: chrome=95.0.4638.69)\n",
      "\n",
      "Failed to get job experience: Message: no such element: Unable to locate element: {\"method\":\"css selector\",\"selector\":\".job-list-intro\"}\n",
      "  (Session info: chrome=95.0.4638.69)\n",
      "\n",
      "Failed to get job degree: Message: no such element: Unable to locate element: {\"method\":\"css selector\",\"selector\":\".job-list-intro\"}\n",
      "  (Session info: chrome=95.0.4638.69)\n",
      "\n",
      "Failed to get job description: list index out of range\n"
     ]
    },
    {
     "name": "stdout",
     "output_type": "stream",
     "text": [
      "Page 3 with 22 jobs.\n"
     ]
    },
    {
     "name": "stderr",
     "output_type": "stream",
     "text": [
      "Failed to get job area: Message: no such element: Unable to locate element: {\"method\":\"css selector\",\"selector\":\".job-list-intro\"}\n",
      "  (Session info: chrome=95.0.4638.69)\n",
      "\n",
      "Failed to get job experience: Message: no such element: Unable to locate element: {\"method\":\"css selector\",\"selector\":\".job-list-intro\"}\n",
      "  (Session info: chrome=95.0.4638.69)\n",
      "\n",
      "Failed to get job degree: Message: no such element: Unable to locate element: {\"method\":\"css selector\",\"selector\":\".job-list-intro\"}\n",
      "  (Session info: chrome=95.0.4638.69)\n",
      "\n",
      "Failed to get job description: list index out of range\n",
      "Failed to get job area: Message: no such element: Unable to locate element: {\"method\":\"css selector\",\"selector\":\".job-list-intro\"}\n",
      "  (Session info: chrome=95.0.4638.69)\n",
      "\n",
      "Failed to get job experience: Message: no such element: Unable to locate element: {\"method\":\"css selector\",\"selector\":\".job-list-intro\"}\n",
      "  (Session info: chrome=95.0.4638.69)\n",
      "\n",
      "Failed to get job degree: Message: no such element: Unable to locate element: {\"method\":\"css selector\",\"selector\":\".job-list-intro\"}\n",
      "  (Session info: chrome=95.0.4638.69)\n",
      "\n",
      "Failed to get job description: list index out of range\n"
     ]
    },
    {
     "name": "stdout",
     "output_type": "stream",
     "text": [
      "Page 4 with 22 jobs.\n"
     ]
    },
    {
     "name": "stderr",
     "output_type": "stream",
     "text": [
      "Failed to get job area: Message: no such element: Unable to locate element: {\"method\":\"css selector\",\"selector\":\".job-list-intro\"}\n",
      "  (Session info: chrome=95.0.4638.69)\n",
      "\n",
      "Failed to get job experience: Message: no such element: Unable to locate element: {\"method\":\"css selector\",\"selector\":\".job-list-intro\"}\n",
      "  (Session info: chrome=95.0.4638.69)\n",
      "\n",
      "Failed to get job degree: Message: no such element: Unable to locate element: {\"method\":\"css selector\",\"selector\":\".job-list-intro\"}\n",
      "  (Session info: chrome=95.0.4638.69)\n",
      "\n",
      "Failed to get job description: list index out of range\n",
      "Failed to get job area: Message: no such element: Unable to locate element: {\"method\":\"css selector\",\"selector\":\".job-list-intro\"}\n",
      "  (Session info: chrome=95.0.4638.69)\n",
      "\n",
      "Failed to get job experience: Message: no such element: Unable to locate element: {\"method\":\"css selector\",\"selector\":\".job-list-intro\"}\n",
      "  (Session info: chrome=95.0.4638.69)\n",
      "\n",
      "Failed to get job degree: Message: no such element: Unable to locate element: {\"method\":\"css selector\",\"selector\":\".job-list-intro\"}\n",
      "  (Session info: chrome=95.0.4638.69)\n",
      "\n",
      "Failed to get job description: list index out of range\n"
     ]
    },
    {
     "name": "stdout",
     "output_type": "stream",
     "text": [
      "Page 5 with 22 jobs.\n"
     ]
    },
    {
     "name": "stderr",
     "output_type": "stream",
     "text": [
      "Failed to get job area: Message: no such element: Unable to locate element: {\"method\":\"css selector\",\"selector\":\".job-list-intro\"}\n",
      "  (Session info: chrome=95.0.4638.69)\n",
      "\n",
      "Failed to get job experience: Message: no such element: Unable to locate element: {\"method\":\"css selector\",\"selector\":\".job-list-intro\"}\n",
      "  (Session info: chrome=95.0.4638.69)\n",
      "\n",
      "Failed to get job degree: Message: no such element: Unable to locate element: {\"method\":\"css selector\",\"selector\":\".job-list-intro\"}\n",
      "  (Session info: chrome=95.0.4638.69)\n",
      "\n",
      "Failed to get job description: list index out of range\n",
      "Failed to get job area: Message: no such element: Unable to locate element: {\"method\":\"css selector\",\"selector\":\".job-list-intro\"}\n",
      "  (Session info: chrome=95.0.4638.69)\n",
      "\n",
      "Failed to get job experience: Message: no such element: Unable to locate element: {\"method\":\"css selector\",\"selector\":\".job-list-intro\"}\n",
      "  (Session info: chrome=95.0.4638.69)\n",
      "\n",
      "Failed to get job degree: Message: no such element: Unable to locate element: {\"method\":\"css selector\",\"selector\":\".job-list-intro\"}\n",
      "  (Session info: chrome=95.0.4638.69)\n",
      "\n",
      "Failed to get job description: list index out of range\n"
     ]
    },
    {
     "name": "stdout",
     "output_type": "stream",
     "text": [
      "Page 6 with 22 jobs.\n"
     ]
    },
    {
     "name": "stderr",
     "output_type": "stream",
     "text": [
      "Failed to get job area: Message: no such element: Unable to locate element: {\"method\":\"css selector\",\"selector\":\".job-list-intro\"}\n",
      "  (Session info: chrome=95.0.4638.69)\n",
      "\n",
      "Failed to get job experience: Message: no such element: Unable to locate element: {\"method\":\"css selector\",\"selector\":\".job-list-intro\"}\n",
      "  (Session info: chrome=95.0.4638.69)\n",
      "\n",
      "Failed to get job degree: Message: no such element: Unable to locate element: {\"method\":\"css selector\",\"selector\":\".job-list-intro\"}\n",
      "  (Session info: chrome=95.0.4638.69)\n",
      "\n",
      "Failed to get job description: list index out of range\n",
      "Failed to get job area: Message: no such element: Unable to locate element: {\"method\":\"css selector\",\"selector\":\".job-list-intro\"}\n",
      "  (Session info: chrome=95.0.4638.69)\n",
      "\n",
      "Failed to get job experience: Message: no such element: Unable to locate element: {\"method\":\"css selector\",\"selector\":\".job-list-intro\"}\n",
      "  (Session info: chrome=95.0.4638.69)\n",
      "\n",
      "Failed to get job degree: Message: no such element: Unable to locate element: {\"method\":\"css selector\",\"selector\":\".job-list-intro\"}\n",
      "  (Session info: chrome=95.0.4638.69)\n",
      "\n",
      "Failed to get job description: list index out of range\n"
     ]
    },
    {
     "name": "stdout",
     "output_type": "stream",
     "text": [
      "Page 7 with 22 jobs.\n"
     ]
    },
    {
     "name": "stderr",
     "output_type": "stream",
     "text": [
      "Failed to get job area: Message: no such element: Unable to locate element: {\"method\":\"css selector\",\"selector\":\".job-list-intro\"}\n",
      "  (Session info: chrome=95.0.4638.69)\n",
      "\n",
      "Failed to get job experience: Message: no such element: Unable to locate element: {\"method\":\"css selector\",\"selector\":\".job-list-intro\"}\n",
      "  (Session info: chrome=95.0.4638.69)\n",
      "\n",
      "Failed to get job degree: Message: no such element: Unable to locate element: {\"method\":\"css selector\",\"selector\":\".job-list-intro\"}\n",
      "  (Session info: chrome=95.0.4638.69)\n",
      "\n",
      "Failed to get job description: list index out of range\n",
      "Failed to get job area: Message: no such element: Unable to locate element: {\"method\":\"css selector\",\"selector\":\".job-list-intro\"}\n",
      "  (Session info: chrome=95.0.4638.69)\n",
      "\n",
      "Failed to get job experience: Message: no such element: Unable to locate element: {\"method\":\"css selector\",\"selector\":\".job-list-intro\"}\n",
      "  (Session info: chrome=95.0.4638.69)\n",
      "\n",
      "Failed to get job degree: Message: no such element: Unable to locate element: {\"method\":\"css selector\",\"selector\":\".job-list-intro\"}\n",
      "  (Session info: chrome=95.0.4638.69)\n",
      "\n",
      "Failed to get job description: list index out of range\n"
     ]
    },
    {
     "name": "stdout",
     "output_type": "stream",
     "text": [
      "Page 8 with 22 jobs.\n"
     ]
    },
    {
     "name": "stderr",
     "output_type": "stream",
     "text": [
      "Failed to get job area: Message: no such element: Unable to locate element: {\"method\":\"css selector\",\"selector\":\".job-list-intro\"}\n",
      "  (Session info: chrome=95.0.4638.69)\n",
      "\n",
      "Failed to get job experience: Message: no such element: Unable to locate element: {\"method\":\"css selector\",\"selector\":\".job-list-intro\"}\n",
      "  (Session info: chrome=95.0.4638.69)\n",
      "\n",
      "Failed to get job degree: Message: no such element: Unable to locate element: {\"method\":\"css selector\",\"selector\":\".job-list-intro\"}\n",
      "  (Session info: chrome=95.0.4638.69)\n",
      "\n",
      "Failed to get job description: list index out of range\n",
      "Failed to get job area: Message: no such element: Unable to locate element: {\"method\":\"css selector\",\"selector\":\".job-list-intro\"}\n",
      "  (Session info: chrome=95.0.4638.69)\n",
      "\n",
      "Failed to get job experience: Message: no such element: Unable to locate element: {\"method\":\"css selector\",\"selector\":\".job-list-intro\"}\n",
      "  (Session info: chrome=95.0.4638.69)\n",
      "\n",
      "Failed to get job degree: Message: no such element: Unable to locate element: {\"method\":\"css selector\",\"selector\":\".job-list-intro\"}\n",
      "  (Session info: chrome=95.0.4638.69)\n",
      "\n",
      "Failed to get job description: list index out of range\n"
     ]
    },
    {
     "name": "stdout",
     "output_type": "stream",
     "text": [
      "Page 9 with 22 jobs.\n"
     ]
    },
    {
     "name": "stderr",
     "output_type": "stream",
     "text": [
      "Failed to get job area: Message: no such element: Unable to locate element: {\"method\":\"css selector\",\"selector\":\".job-list-intro\"}\n",
      "  (Session info: chrome=95.0.4638.69)\n",
      "\n",
      "Failed to get job experience: Message: no such element: Unable to locate element: {\"method\":\"css selector\",\"selector\":\".job-list-intro\"}\n",
      "  (Session info: chrome=95.0.4638.69)\n",
      "\n",
      "Failed to get job degree: Message: no such element: Unable to locate element: {\"method\":\"css selector\",\"selector\":\".job-list-intro\"}\n",
      "  (Session info: chrome=95.0.4638.69)\n",
      "\n",
      "Failed to get job description: list index out of range\n",
      "Failed to get job area: Message: no such element: Unable to locate element: {\"method\":\"css selector\",\"selector\":\".job-list-intro\"}\n",
      "  (Session info: chrome=95.0.4638.69)\n",
      "\n",
      "Failed to get job experience: Message: no such element: Unable to locate element: {\"method\":\"css selector\",\"selector\":\".job-list-intro\"}\n",
      "  (Session info: chrome=95.0.4638.69)\n",
      "\n",
      "Failed to get job degree: Message: no such element: Unable to locate element: {\"method\":\"css selector\",\"selector\":\".job-list-intro\"}\n",
      "  (Session info: chrome=95.0.4638.69)\n",
      "\n",
      "Failed to get job description: list index out of range\n"
     ]
    },
    {
     "name": "stdout",
     "output_type": "stream",
     "text": [
      "Page 10 with 22 jobs.\n"
     ]
    },
    {
     "name": "stderr",
     "output_type": "stream",
     "text": [
      "Failed to get job area: Message: no such element: Unable to locate element: {\"method\":\"css selector\",\"selector\":\".job-list-intro\"}\n",
      "  (Session info: chrome=95.0.4638.69)\n",
      "\n",
      "Failed to get job experience: Message: no such element: Unable to locate element: {\"method\":\"css selector\",\"selector\":\".job-list-intro\"}\n",
      "  (Session info: chrome=95.0.4638.69)\n",
      "\n",
      "Failed to get job degree: Message: no such element: Unable to locate element: {\"method\":\"css selector\",\"selector\":\".job-list-intro\"}\n",
      "  (Session info: chrome=95.0.4638.69)\n",
      "\n",
      "Failed to get job description: list index out of range\n",
      "Failed to get job area: Message: no such element: Unable to locate element: {\"method\":\"css selector\",\"selector\":\".job-list-intro\"}\n",
      "  (Session info: chrome=95.0.4638.69)\n",
      "\n",
      "Failed to get job experience: Message: no such element: Unable to locate element: {\"method\":\"css selector\",\"selector\":\".job-list-intro\"}\n",
      "  (Session info: chrome=95.0.4638.69)\n",
      "\n",
      "Failed to get job degree: Message: no such element: Unable to locate element: {\"method\":\"css selector\",\"selector\":\".job-list-intro\"}\n",
      "  (Session info: chrome=95.0.4638.69)\n",
      "\n",
      "Failed to get job description: list index out of range\n"
     ]
    },
    {
     "name": "stdout",
     "output_type": "stream",
     "text": [
      "Page 11 with 22 jobs.\n"
     ]
    },
    {
     "name": "stderr",
     "output_type": "stream",
     "text": [
      "Failed to get job area: Message: no such element: Unable to locate element: {\"method\":\"css selector\",\"selector\":\".job-list-intro\"}\n",
      "  (Session info: chrome=95.0.4638.69)\n",
      "\n",
      "Failed to get job experience: Message: no such element: Unable to locate element: {\"method\":\"css selector\",\"selector\":\".job-list-intro\"}\n",
      "  (Session info: chrome=95.0.4638.69)\n",
      "\n",
      "Failed to get job degree: Message: no such element: Unable to locate element: {\"method\":\"css selector\",\"selector\":\".job-list-intro\"}\n",
      "  (Session info: chrome=95.0.4638.69)\n",
      "\n",
      "Failed to get job description: list index out of range\n",
      "Failed to get job area: Message: no such element: Unable to locate element: {\"method\":\"css selector\",\"selector\":\".job-list-intro\"}\n",
      "  (Session info: chrome=95.0.4638.69)\n",
      "\n",
      "Failed to get job experience: Message: no such element: Unable to locate element: {\"method\":\"css selector\",\"selector\":\".job-list-intro\"}\n",
      "  (Session info: chrome=95.0.4638.69)\n",
      "\n",
      "Failed to get job degree: Message: no such element: Unable to locate element: {\"method\":\"css selector\",\"selector\":\".job-list-intro\"}\n",
      "  (Session info: chrome=95.0.4638.69)\n",
      "\n",
      "Failed to get job description: list index out of range\n"
     ]
    },
    {
     "name": "stdout",
     "output_type": "stream",
     "text": [
      "Page 12 with 22 jobs.\n"
     ]
    },
    {
     "name": "stderr",
     "output_type": "stream",
     "text": [
      "Failed to get job area: Message: no such element: Unable to locate element: {\"method\":\"css selector\",\"selector\":\".job-list-intro\"}\n",
      "  (Session info: chrome=95.0.4638.69)\n",
      "\n",
      "Failed to get job experience: Message: no such element: Unable to locate element: {\"method\":\"css selector\",\"selector\":\".job-list-intro\"}\n",
      "  (Session info: chrome=95.0.4638.69)\n",
      "\n",
      "Failed to get job degree: Message: no such element: Unable to locate element: {\"method\":\"css selector\",\"selector\":\".job-list-intro\"}\n",
      "  (Session info: chrome=95.0.4638.69)\n",
      "\n",
      "Failed to get job description: list index out of range\n",
      "Failed to get job area: Message: no such element: Unable to locate element: {\"method\":\"css selector\",\"selector\":\".job-list-intro\"}\n",
      "  (Session info: chrome=95.0.4638.69)\n",
      "\n",
      "Failed to get job experience: Message: no such element: Unable to locate element: {\"method\":\"css selector\",\"selector\":\".job-list-intro\"}\n",
      "  (Session info: chrome=95.0.4638.69)\n",
      "\n",
      "Failed to get job degree: Message: no such element: Unable to locate element: {\"method\":\"css selector\",\"selector\":\".job-list-intro\"}\n",
      "  (Session info: chrome=95.0.4638.69)\n",
      "\n",
      "Failed to get job description: list index out of range\n"
     ]
    },
    {
     "name": "stdout",
     "output_type": "stream",
     "text": [
      "Page 13 with 22 jobs.\n"
     ]
    },
    {
     "name": "stderr",
     "output_type": "stream",
     "text": [
      "Failed to get job area: Message: no such element: Unable to locate element: {\"method\":\"css selector\",\"selector\":\".job-list-intro\"}\n",
      "  (Session info: chrome=95.0.4638.69)\n",
      "\n",
      "Failed to get job experience: Message: no such element: Unable to locate element: {\"method\":\"css selector\",\"selector\":\".job-list-intro\"}\n",
      "  (Session info: chrome=95.0.4638.69)\n",
      "\n",
      "Failed to get job degree: Message: no such element: Unable to locate element: {\"method\":\"css selector\",\"selector\":\".job-list-intro\"}\n",
      "  (Session info: chrome=95.0.4638.69)\n",
      "\n",
      "Failed to get job description: list index out of range\n",
      "Failed to get job area: Message: no such element: Unable to locate element: {\"method\":\"css selector\",\"selector\":\".job-list-intro\"}\n",
      "  (Session info: chrome=95.0.4638.69)\n",
      "\n",
      "Failed to get job experience: Message: no such element: Unable to locate element: {\"method\":\"css selector\",\"selector\":\".job-list-intro\"}\n",
      "  (Session info: chrome=95.0.4638.69)\n",
      "\n",
      "Failed to get job degree: Message: no such element: Unable to locate element: {\"method\":\"css selector\",\"selector\":\".job-list-intro\"}\n",
      "  (Session info: chrome=95.0.4638.69)\n",
      "\n",
      "Failed to get job description: list index out of range\n"
     ]
    },
    {
     "name": "stdout",
     "output_type": "stream",
     "text": [
      "Page 14 with 22 jobs.\n"
     ]
    },
    {
     "name": "stderr",
     "output_type": "stream",
     "text": [
      "Failed to get job area: Message: no such element: Unable to locate element: {\"method\":\"css selector\",\"selector\":\".job-list-intro\"}\n",
      "  (Session info: chrome=95.0.4638.69)\n",
      "\n",
      "Failed to get job experience: Message: no such element: Unable to locate element: {\"method\":\"css selector\",\"selector\":\".job-list-intro\"}\n",
      "  (Session info: chrome=95.0.4638.69)\n",
      "\n",
      "Failed to get job degree: Message: no such element: Unable to locate element: {\"method\":\"css selector\",\"selector\":\".job-list-intro\"}\n",
      "  (Session info: chrome=95.0.4638.69)\n",
      "\n",
      "Failed to get job description: list index out of range\n",
      "Failed to get job area: Message: no such element: Unable to locate element: {\"method\":\"css selector\",\"selector\":\".job-list-intro\"}\n",
      "  (Session info: chrome=95.0.4638.69)\n",
      "\n",
      "Failed to get job experience: Message: no such element: Unable to locate element: {\"method\":\"css selector\",\"selector\":\".job-list-intro\"}\n",
      "  (Session info: chrome=95.0.4638.69)\n",
      "\n",
      "Failed to get job degree: Message: no such element: Unable to locate element: {\"method\":\"css selector\",\"selector\":\".job-list-intro\"}\n",
      "  (Session info: chrome=95.0.4638.69)\n",
      "\n",
      "Failed to get job description: list index out of range\n"
     ]
    },
    {
     "name": "stdout",
     "output_type": "stream",
     "text": [
      "Page 15 with 22 jobs.\n"
     ]
    },
    {
     "name": "stderr",
     "output_type": "stream",
     "text": [
      "Failed to get job area: Message: no such element: Unable to locate element: {\"method\":\"css selector\",\"selector\":\".job-list-intro\"}\n",
      "  (Session info: chrome=95.0.4638.69)\n",
      "\n",
      "Failed to get job experience: Message: no such element: Unable to locate element: {\"method\":\"css selector\",\"selector\":\".job-list-intro\"}\n",
      "  (Session info: chrome=95.0.4638.69)\n",
      "\n",
      "Failed to get job degree: Message: no such element: Unable to locate element: {\"method\":\"css selector\",\"selector\":\".job-list-intro\"}\n",
      "  (Session info: chrome=95.0.4638.69)\n",
      "\n",
      "Failed to get job description: list index out of range\n",
      "Failed to get job area: Message: no such element: Unable to locate element: {\"method\":\"css selector\",\"selector\":\".job-list-intro\"}\n",
      "  (Session info: chrome=95.0.4638.69)\n",
      "\n",
      "Failed to get job experience: Message: no such element: Unable to locate element: {\"method\":\"css selector\",\"selector\":\".job-list-intro\"}\n",
      "  (Session info: chrome=95.0.4638.69)\n",
      "\n",
      "Failed to get job degree: Message: no such element: Unable to locate element: {\"method\":\"css selector\",\"selector\":\".job-list-intro\"}\n",
      "  (Session info: chrome=95.0.4638.69)\n",
      "\n",
      "Failed to get job description: list index out of range\n"
     ]
    },
    {
     "name": "stdout",
     "output_type": "stream",
     "text": [
      "Page 16 with 22 jobs.\n"
     ]
    },
    {
     "name": "stderr",
     "output_type": "stream",
     "text": [
      "Failed to get job area: Message: no such element: Unable to locate element: {\"method\":\"css selector\",\"selector\":\".job-list-intro\"}\n",
      "  (Session info: chrome=95.0.4638.69)\n",
      "\n",
      "Failed to get job experience: Message: no such element: Unable to locate element: {\"method\":\"css selector\",\"selector\":\".job-list-intro\"}\n",
      "  (Session info: chrome=95.0.4638.69)\n",
      "\n",
      "Failed to get job degree: Message: no such element: Unable to locate element: {\"method\":\"css selector\",\"selector\":\".job-list-intro\"}\n",
      "  (Session info: chrome=95.0.4638.69)\n",
      "\n",
      "Failed to get job description: list index out of range\n",
      "Failed to get job area: Message: no such element: Unable to locate element: {\"method\":\"css selector\",\"selector\":\".job-list-intro\"}\n",
      "  (Session info: chrome=95.0.4638.69)\n",
      "\n",
      "Failed to get job experience: Message: no such element: Unable to locate element: {\"method\":\"css selector\",\"selector\":\".job-list-intro\"}\n",
      "  (Session info: chrome=95.0.4638.69)\n",
      "\n",
      "Failed to get job degree: Message: no such element: Unable to locate element: {\"method\":\"css selector\",\"selector\":\".job-list-intro\"}\n",
      "  (Session info: chrome=95.0.4638.69)\n",
      "\n",
      "Failed to get job description: list index out of range\n"
     ]
    },
    {
     "name": "stdout",
     "output_type": "stream",
     "text": [
      "Page 17 with 22 jobs.\n"
     ]
    },
    {
     "name": "stderr",
     "output_type": "stream",
     "text": [
      "Failed to get job area: Message: no such element: Unable to locate element: {\"method\":\"css selector\",\"selector\":\".job-list-intro\"}\n",
      "  (Session info: chrome=95.0.4638.69)\n",
      "\n",
      "Failed to get job experience: Message: no such element: Unable to locate element: {\"method\":\"css selector\",\"selector\":\".job-list-intro\"}\n",
      "  (Session info: chrome=95.0.4638.69)\n",
      "\n",
      "Failed to get job degree: Message: no such element: Unable to locate element: {\"method\":\"css selector\",\"selector\":\".job-list-intro\"}\n",
      "  (Session info: chrome=95.0.4638.69)\n",
      "\n",
      "Failed to get job description: list index out of range\n",
      "Failed to get job area: Message: no such element: Unable to locate element: {\"method\":\"css selector\",\"selector\":\".job-list-intro\"}\n",
      "  (Session info: chrome=95.0.4638.69)\n",
      "\n",
      "Failed to get job experience: Message: no such element: Unable to locate element: {\"method\":\"css selector\",\"selector\":\".job-list-intro\"}\n",
      "  (Session info: chrome=95.0.4638.69)\n",
      "\n",
      "Failed to get job degree: Message: no such element: Unable to locate element: {\"method\":\"css selector\",\"selector\":\".job-list-intro\"}\n",
      "  (Session info: chrome=95.0.4638.69)\n",
      "\n",
      "Failed to get job description: list index out of range\n"
     ]
    },
    {
     "name": "stdout",
     "output_type": "stream",
     "text": [
      "Page 18 with 22 jobs.\n"
     ]
    },
    {
     "name": "stderr",
     "output_type": "stream",
     "text": [
      "Failed to get job area: Message: no such element: Unable to locate element: {\"method\":\"css selector\",\"selector\":\".job-list-intro\"}\n",
      "  (Session info: chrome=95.0.4638.69)\n",
      "\n",
      "Failed to get job experience: Message: no such element: Unable to locate element: {\"method\":\"css selector\",\"selector\":\".job-list-intro\"}\n",
      "  (Session info: chrome=95.0.4638.69)\n",
      "\n",
      "Failed to get job degree: Message: no such element: Unable to locate element: {\"method\":\"css selector\",\"selector\":\".job-list-intro\"}\n",
      "  (Session info: chrome=95.0.4638.69)\n",
      "\n",
      "Failed to get job description: list index out of range\n",
      "Failed to get job area: Message: no such element: Unable to locate element: {\"method\":\"css selector\",\"selector\":\".job-list-intro\"}\n",
      "  (Session info: chrome=95.0.4638.69)\n",
      "\n",
      "Failed to get job experience: Message: no such element: Unable to locate element: {\"method\":\"css selector\",\"selector\":\".job-list-intro\"}\n",
      "  (Session info: chrome=95.0.4638.69)\n",
      "\n",
      "Failed to get job degree: Message: no such element: Unable to locate element: {\"method\":\"css selector\",\"selector\":\".job-list-intro\"}\n",
      "  (Session info: chrome=95.0.4638.69)\n",
      "\n",
      "Failed to get job description: list index out of range\n"
     ]
    },
    {
     "name": "stdout",
     "output_type": "stream",
     "text": [
      "Page 19 with 22 jobs.\n"
     ]
    },
    {
     "name": "stderr",
     "output_type": "stream",
     "text": [
      "Failed to get job area: Message: no such element: Unable to locate element: {\"method\":\"css selector\",\"selector\":\".job-list-intro\"}\n",
      "  (Session info: chrome=95.0.4638.69)\n",
      "\n",
      "Failed to get job experience: Message: no such element: Unable to locate element: {\"method\":\"css selector\",\"selector\":\".job-list-intro\"}\n",
      "  (Session info: chrome=95.0.4638.69)\n",
      "\n",
      "Failed to get job degree: Message: no such element: Unable to locate element: {\"method\":\"css selector\",\"selector\":\".job-list-intro\"}\n",
      "  (Session info: chrome=95.0.4638.69)\n",
      "\n",
      "Failed to get job description: list index out of range\n",
      "Failed to get job area: Message: no such element: Unable to locate element: {\"method\":\"css selector\",\"selector\":\".job-list-intro\"}\n",
      "  (Session info: chrome=95.0.4638.69)\n",
      "\n",
      "Failed to get job experience: Message: no such element: Unable to locate element: {\"method\":\"css selector\",\"selector\":\".job-list-intro\"}\n",
      "  (Session info: chrome=95.0.4638.69)\n",
      "\n",
      "Failed to get job degree: Message: no such element: Unable to locate element: {\"method\":\"css selector\",\"selector\":\".job-list-intro\"}\n",
      "  (Session info: chrome=95.0.4638.69)\n",
      "\n",
      "Failed to get job description: list index out of range\n"
     ]
    },
    {
     "name": "stdout",
     "output_type": "stream",
     "text": [
      "Page 20 with 22 jobs.\n"
     ]
    },
    {
     "name": "stderr",
     "output_type": "stream",
     "text": [
      "Failed to get job area: Message: no such element: Unable to locate element: {\"method\":\"css selector\",\"selector\":\".job-list-intro\"}\n",
      "  (Session info: chrome=95.0.4638.69)\n",
      "\n",
      "Failed to get job experience: Message: no such element: Unable to locate element: {\"method\":\"css selector\",\"selector\":\".job-list-intro\"}\n",
      "  (Session info: chrome=95.0.4638.69)\n",
      "\n",
      "Failed to get job degree: Message: no such element: Unable to locate element: {\"method\":\"css selector\",\"selector\":\".job-list-intro\"}\n",
      "  (Session info: chrome=95.0.4638.69)\n",
      "\n",
      "Failed to get job description: list index out of range\n",
      "Failed to get job area: Message: no such element: Unable to locate element: {\"method\":\"css selector\",\"selector\":\".job-list-intro\"}\n",
      "  (Session info: chrome=95.0.4638.69)\n",
      "\n",
      "Failed to get job experience: Message: no such element: Unable to locate element: {\"method\":\"css selector\",\"selector\":\".job-list-intro\"}\n",
      "  (Session info: chrome=95.0.4638.69)\n",
      "\n",
      "Failed to get job degree: Message: no such element: Unable to locate element: {\"method\":\"css selector\",\"selector\":\".job-list-intro\"}\n",
      "  (Session info: chrome=95.0.4638.69)\n",
      "\n",
      "Failed to get job description: list index out of range\n"
     ]
    },
    {
     "name": "stdout",
     "output_type": "stream",
     "text": [
      "Page 21 with 22 jobs.\n"
     ]
    },
    {
     "name": "stderr",
     "output_type": "stream",
     "text": [
      "Failed to get job area: Message: no such element: Unable to locate element: {\"method\":\"css selector\",\"selector\":\".job-list-intro\"}\n",
      "  (Session info: chrome=95.0.4638.69)\n",
      "\n",
      "Failed to get job experience: Message: no such element: Unable to locate element: {\"method\":\"css selector\",\"selector\":\".job-list-intro\"}\n",
      "  (Session info: chrome=95.0.4638.69)\n",
      "\n",
      "Failed to get job degree: Message: no such element: Unable to locate element: {\"method\":\"css selector\",\"selector\":\".job-list-intro\"}\n",
      "  (Session info: chrome=95.0.4638.69)\n",
      "\n",
      "Failed to get job description: list index out of range\n",
      "Failed to get job area: Message: no such element: Unable to locate element: {\"method\":\"css selector\",\"selector\":\".job-list-intro\"}\n",
      "  (Session info: chrome=95.0.4638.69)\n",
      "\n",
      "Failed to get job experience: Message: no such element: Unable to locate element: {\"method\":\"css selector\",\"selector\":\".job-list-intro\"}\n",
      "  (Session info: chrome=95.0.4638.69)\n",
      "\n",
      "Failed to get job degree: Message: no such element: Unable to locate element: {\"method\":\"css selector\",\"selector\":\".job-list-intro\"}\n",
      "  (Session info: chrome=95.0.4638.69)\n",
      "\n",
      "Failed to get job description: list index out of range\n"
     ]
    },
    {
     "name": "stdout",
     "output_type": "stream",
     "text": [
      "Page 22 with 22 jobs.\n"
     ]
    },
    {
     "name": "stderr",
     "output_type": "stream",
     "text": [
      "Failed to get job area: Message: no such element: Unable to locate element: {\"method\":\"css selector\",\"selector\":\".job-list-intro\"}\n",
      "  (Session info: chrome=95.0.4638.69)\n",
      "\n",
      "Failed to get job experience: Message: no such element: Unable to locate element: {\"method\":\"css selector\",\"selector\":\".job-list-intro\"}\n",
      "  (Session info: chrome=95.0.4638.69)\n",
      "\n",
      "Failed to get job degree: Message: no such element: Unable to locate element: {\"method\":\"css selector\",\"selector\":\".job-list-intro\"}\n",
      "  (Session info: chrome=95.0.4638.69)\n",
      "\n",
      "Failed to get job description: list index out of range\n",
      "Failed to get job area: Message: no such element: Unable to locate element: {\"method\":\"css selector\",\"selector\":\".job-list-intro\"}\n",
      "  (Session info: chrome=95.0.4638.69)\n",
      "\n",
      "Failed to get job experience: Message: no such element: Unable to locate element: {\"method\":\"css selector\",\"selector\":\".job-list-intro\"}\n",
      "  (Session info: chrome=95.0.4638.69)\n",
      "\n",
      "Failed to get job degree: Message: no such element: Unable to locate element: {\"method\":\"css selector\",\"selector\":\".job-list-intro\"}\n",
      "  (Session info: chrome=95.0.4638.69)\n",
      "\n",
      "Failed to get job description: list index out of range\n"
     ]
    },
    {
     "name": "stdout",
     "output_type": "stream",
     "text": [
      "Page 23 with 22 jobs.\n"
     ]
    },
    {
     "name": "stderr",
     "output_type": "stream",
     "text": [
      "Failed to get job area: Message: no such element: Unable to locate element: {\"method\":\"css selector\",\"selector\":\".job-list-intro\"}\n",
      "  (Session info: chrome=95.0.4638.69)\n",
      "\n",
      "Failed to get job experience: Message: no such element: Unable to locate element: {\"method\":\"css selector\",\"selector\":\".job-list-intro\"}\n",
      "  (Session info: chrome=95.0.4638.69)\n",
      "\n",
      "Failed to get job degree: Message: no such element: Unable to locate element: {\"method\":\"css selector\",\"selector\":\".job-list-intro\"}\n",
      "  (Session info: chrome=95.0.4638.69)\n",
      "\n",
      "Failed to get job description: list index out of range\n",
      "Failed to get job area: Message: no such element: Unable to locate element: {\"method\":\"css selector\",\"selector\":\".job-list-intro\"}\n",
      "  (Session info: chrome=95.0.4638.69)\n",
      "\n",
      "Failed to get job experience: Message: no such element: Unable to locate element: {\"method\":\"css selector\",\"selector\":\".job-list-intro\"}\n",
      "  (Session info: chrome=95.0.4638.69)\n",
      "\n",
      "Failed to get job degree: Message: no such element: Unable to locate element: {\"method\":\"css selector\",\"selector\":\".job-list-intro\"}\n",
      "  (Session info: chrome=95.0.4638.69)\n",
      "\n",
      "Failed to get job description: list index out of range\n"
     ]
    },
    {
     "name": "stdout",
     "output_type": "stream",
     "text": [
      "Page 24 with 22 jobs.\n"
     ]
    },
    {
     "name": "stderr",
     "output_type": "stream",
     "text": [
      "Failed to get job area: Message: no such element: Unable to locate element: {\"method\":\"css selector\",\"selector\":\".job-list-intro\"}\n",
      "  (Session info: chrome=95.0.4638.69)\n",
      "\n",
      "Failed to get job experience: Message: no such element: Unable to locate element: {\"method\":\"css selector\",\"selector\":\".job-list-intro\"}\n",
      "  (Session info: chrome=95.0.4638.69)\n",
      "\n",
      "Failed to get job degree: Message: no such element: Unable to locate element: {\"method\":\"css selector\",\"selector\":\".job-list-intro\"}\n",
      "  (Session info: chrome=95.0.4638.69)\n",
      "\n",
      "Failed to get job description: list index out of range\n",
      "Failed to get job area: Message: no such element: Unable to locate element: {\"method\":\"css selector\",\"selector\":\".job-list-intro\"}\n",
      "  (Session info: chrome=95.0.4638.69)\n",
      "\n",
      "Failed to get job experience: Message: no such element: Unable to locate element: {\"method\":\"css selector\",\"selector\":\".job-list-intro\"}\n",
      "  (Session info: chrome=95.0.4638.69)\n",
      "\n",
      "Failed to get job degree: Message: no such element: Unable to locate element: {\"method\":\"css selector\",\"selector\":\".job-list-intro\"}\n",
      "  (Session info: chrome=95.0.4638.69)\n",
      "\n",
      "Failed to get job description: list index out of range\n"
     ]
    },
    {
     "name": "stdout",
     "output_type": "stream",
     "text": [
      "Page 25 with 22 jobs.\n"
     ]
    },
    {
     "name": "stderr",
     "output_type": "stream",
     "text": [
      "Failed to get job area: Message: no such element: Unable to locate element: {\"method\":\"css selector\",\"selector\":\".job-list-intro\"}\n",
      "  (Session info: chrome=95.0.4638.69)\n",
      "\n",
      "Failed to get job experience: Message: no such element: Unable to locate element: {\"method\":\"css selector\",\"selector\":\".job-list-intro\"}\n",
      "  (Session info: chrome=95.0.4638.69)\n",
      "\n",
      "Failed to get job degree: Message: no such element: Unable to locate element: {\"method\":\"css selector\",\"selector\":\".job-list-intro\"}\n",
      "  (Session info: chrome=95.0.4638.69)\n",
      "\n",
      "Failed to get job description: list index out of range\n",
      "Failed to get job area: Message: no such element: Unable to locate element: {\"method\":\"css selector\",\"selector\":\".job-list-intro\"}\n",
      "  (Session info: chrome=95.0.4638.69)\n",
      "\n",
      "Failed to get job experience: Message: no such element: Unable to locate element: {\"method\":\"css selector\",\"selector\":\".job-list-intro\"}\n",
      "  (Session info: chrome=95.0.4638.69)\n",
      "\n",
      "Failed to get job degree: Message: no such element: Unable to locate element: {\"method\":\"css selector\",\"selector\":\".job-list-intro\"}\n",
      "  (Session info: chrome=95.0.4638.69)\n",
      "\n",
      "Failed to get job description: list index out of range\n"
     ]
    },
    {
     "name": "stdout",
     "output_type": "stream",
     "text": [
      "Page 26 with 22 jobs.\n"
     ]
    },
    {
     "name": "stderr",
     "output_type": "stream",
     "text": [
      "Failed to get job area: Message: no such element: Unable to locate element: {\"method\":\"css selector\",\"selector\":\".job-list-intro\"}\n",
      "  (Session info: chrome=95.0.4638.69)\n",
      "\n",
      "Failed to get job experience: Message: no such element: Unable to locate element: {\"method\":\"css selector\",\"selector\":\".job-list-intro\"}\n",
      "  (Session info: chrome=95.0.4638.69)\n",
      "\n",
      "Failed to get job degree: Message: no such element: Unable to locate element: {\"method\":\"css selector\",\"selector\":\".job-list-intro\"}\n",
      "  (Session info: chrome=95.0.4638.69)\n",
      "\n",
      "Failed to get job description: list index out of range\n",
      "Failed to get job area: Message: no such element: Unable to locate element: {\"method\":\"css selector\",\"selector\":\".job-list-intro\"}\n",
      "  (Session info: chrome=95.0.4638.69)\n",
      "\n",
      "Failed to get job experience: Message: no such element: Unable to locate element: {\"method\":\"css selector\",\"selector\":\".job-list-intro\"}\n",
      "  (Session info: chrome=95.0.4638.69)\n",
      "\n",
      "Failed to get job degree: Message: no such element: Unable to locate element: {\"method\":\"css selector\",\"selector\":\".job-list-intro\"}\n",
      "  (Session info: chrome=95.0.4638.69)\n",
      "\n",
      "Failed to get job description: list index out of range\n"
     ]
    },
    {
     "name": "stdout",
     "output_type": "stream",
     "text": [
      "Page 27 with 22 jobs.\n"
     ]
    },
    {
     "name": "stderr",
     "output_type": "stream",
     "text": [
      "Failed to get job area: Message: no such element: Unable to locate element: {\"method\":\"css selector\",\"selector\":\".job-list-intro\"}\n",
      "  (Session info: chrome=95.0.4638.69)\n",
      "\n",
      "Failed to get job experience: Message: no such element: Unable to locate element: {\"method\":\"css selector\",\"selector\":\".job-list-intro\"}\n",
      "  (Session info: chrome=95.0.4638.69)\n",
      "\n",
      "Failed to get job degree: Message: no such element: Unable to locate element: {\"method\":\"css selector\",\"selector\":\".job-list-intro\"}\n",
      "  (Session info: chrome=95.0.4638.69)\n",
      "\n",
      "Failed to get job description: list index out of range\n",
      "Failed to get job area: Message: no such element: Unable to locate element: {\"method\":\"css selector\",\"selector\":\".job-list-intro\"}\n",
      "  (Session info: chrome=95.0.4638.69)\n",
      "\n",
      "Failed to get job experience: Message: no such element: Unable to locate element: {\"method\":\"css selector\",\"selector\":\".job-list-intro\"}\n",
      "  (Session info: chrome=95.0.4638.69)\n",
      "\n",
      "Failed to get job degree: Message: no such element: Unable to locate element: {\"method\":\"css selector\",\"selector\":\".job-list-intro\"}\n",
      "  (Session info: chrome=95.0.4638.69)\n",
      "\n",
      "Failed to get job description: list index out of range\n"
     ]
    },
    {
     "name": "stdout",
     "output_type": "stream",
     "text": [
      "Page 28 with 22 jobs.\n"
     ]
    },
    {
     "name": "stderr",
     "output_type": "stream",
     "text": [
      "Failed to get job description: list index out of range\n",
      "Failed to get job area: Message: no such element: Unable to locate element: {\"method\":\"css selector\",\"selector\":\".job-list-intro\"}\n",
      "  (Session info: chrome=95.0.4638.69)\n",
      "\n",
      "Failed to get job experience: Message: no such element: Unable to locate element: {\"method\":\"css selector\",\"selector\":\".job-list-intro\"}\n",
      "  (Session info: chrome=95.0.4638.69)\n",
      "\n",
      "Failed to get job degree: Message: no such element: Unable to locate element: {\"method\":\"css selector\",\"selector\":\".job-list-intro\"}\n",
      "  (Session info: chrome=95.0.4638.69)\n",
      "\n",
      "Failed to get job description: list index out of range\n",
      "Failed to get job area: Message: no such element: Unable to locate element: {\"method\":\"css selector\",\"selector\":\".job-list-intro\"}\n",
      "  (Session info: chrome=95.0.4638.69)\n",
      "\n",
      "Failed to get job experience: Message: no such element: Unable to locate element: {\"method\":\"css selector\",\"selector\":\".job-list-intro\"}\n",
      "  (Session info: chrome=95.0.4638.69)\n",
      "\n",
      "Failed to get job degree: Message: no such element: Unable to locate element: {\"method\":\"css selector\",\"selector\":\".job-list-intro\"}\n",
      "  (Session info: chrome=95.0.4638.69)\n",
      "\n",
      "Failed to get job description: list index out of range\n"
     ]
    },
    {
     "name": "stdout",
     "output_type": "stream",
     "text": [
      "Page 29 with 22 jobs.\n"
     ]
    },
    {
     "name": "stderr",
     "output_type": "stream",
     "text": [
      "Failed to get job area: Message: no such element: Unable to locate element: {\"method\":\"css selector\",\"selector\":\".job-list-intro\"}\n",
      "  (Session info: chrome=95.0.4638.69)\n",
      "\n",
      "Failed to get job experience: Message: no such element: Unable to locate element: {\"method\":\"css selector\",\"selector\":\".job-list-intro\"}\n",
      "  (Session info: chrome=95.0.4638.69)\n",
      "\n",
      "Failed to get job degree: Message: no such element: Unable to locate element: {\"method\":\"css selector\",\"selector\":\".job-list-intro\"}\n",
      "  (Session info: chrome=95.0.4638.69)\n",
      "\n",
      "Failed to get job description: list index out of range\n",
      "Failed to get job area: Message: no such element: Unable to locate element: {\"method\":\"css selector\",\"selector\":\".job-list-intro\"}\n",
      "  (Session info: chrome=95.0.4638.69)\n",
      "\n",
      "Failed to get job experience: Message: no such element: Unable to locate element: {\"method\":\"css selector\",\"selector\":\".job-list-intro\"}\n",
      "  (Session info: chrome=95.0.4638.69)\n",
      "\n",
      "Failed to get job degree: Message: no such element: Unable to locate element: {\"method\":\"css selector\",\"selector\":\".job-list-intro\"}\n",
      "  (Session info: chrome=95.0.4638.69)\n",
      "\n",
      "Failed to get job description: list index out of range\n"
     ]
    },
    {
     "name": "stdout",
     "output_type": "stream",
     "text": [
      "Page 30 with 22 jobs.\n"
     ]
    },
    {
     "name": "stderr",
     "output_type": "stream",
     "text": [
      "Failed to get job area: Message: no such element: Unable to locate element: {\"method\":\"css selector\",\"selector\":\".job-list-intro\"}\n",
      "  (Session info: chrome=95.0.4638.69)\n",
      "\n",
      "Failed to get job experience: Message: no such element: Unable to locate element: {\"method\":\"css selector\",\"selector\":\".job-list-intro\"}\n",
      "  (Session info: chrome=95.0.4638.69)\n",
      "\n",
      "Failed to get job degree: Message: no such element: Unable to locate element: {\"method\":\"css selector\",\"selector\":\".job-list-intro\"}\n",
      "  (Session info: chrome=95.0.4638.69)\n",
      "\n",
      "Failed to get job description: list index out of range\n",
      "Failed to get job area: Message: no such element: Unable to locate element: {\"method\":\"css selector\",\"selector\":\".job-list-intro\"}\n",
      "  (Session info: chrome=95.0.4638.69)\n",
      "\n",
      "Failed to get job experience: Message: no such element: Unable to locate element: {\"method\":\"css selector\",\"selector\":\".job-list-intro\"}\n",
      "  (Session info: chrome=95.0.4638.69)\n",
      "\n",
      "Failed to get job degree: Message: no such element: Unable to locate element: {\"method\":\"css selector\",\"selector\":\".job-list-intro\"}\n",
      "  (Session info: chrome=95.0.4638.69)\n",
      "\n",
      "Failed to get job description: list index out of range\n"
     ]
    },
    {
     "name": "stdout",
     "output_type": "stream",
     "text": [
      "Page 31 with 22 jobs.\n"
     ]
    },
    {
     "name": "stderr",
     "output_type": "stream",
     "text": [
      "Failed to get job area: Message: no such element: Unable to locate element: {\"method\":\"css selector\",\"selector\":\".job-list-intro\"}\n",
      "  (Session info: chrome=95.0.4638.69)\n",
      "\n",
      "Failed to get job experience: Message: no such element: Unable to locate element: {\"method\":\"css selector\",\"selector\":\".job-list-intro\"}\n",
      "  (Session info: chrome=95.0.4638.69)\n",
      "\n",
      "Failed to get job degree: Message: no such element: Unable to locate element: {\"method\":\"css selector\",\"selector\":\".job-list-intro\"}\n",
      "  (Session info: chrome=95.0.4638.69)\n",
      "\n",
      "Failed to get job description: list index out of range\n",
      "Failed to get job area: Message: no such element: Unable to locate element: {\"method\":\"css selector\",\"selector\":\".job-list-intro\"}\n",
      "  (Session info: chrome=95.0.4638.69)\n",
      "\n",
      "Failed to get job experience: Message: no such element: Unable to locate element: {\"method\":\"css selector\",\"selector\":\".job-list-intro\"}\n",
      "  (Session info: chrome=95.0.4638.69)\n",
      "\n",
      "Failed to get job degree: Message: no such element: Unable to locate element: {\"method\":\"css selector\",\"selector\":\".job-list-intro\"}\n",
      "  (Session info: chrome=95.0.4638.69)\n",
      "\n",
      "Failed to get job description: list index out of range\n"
     ]
    },
    {
     "name": "stdout",
     "output_type": "stream",
     "text": [
      "Page 32 with 22 jobs.\n"
     ]
    },
    {
     "name": "stderr",
     "output_type": "stream",
     "text": [
      "Failed to get job area: Message: no such element: Unable to locate element: {\"method\":\"css selector\",\"selector\":\".job-list-intro\"}\n",
      "  (Session info: chrome=95.0.4638.69)\n",
      "\n",
      "Failed to get job experience: Message: no such element: Unable to locate element: {\"method\":\"css selector\",\"selector\":\".job-list-intro\"}\n",
      "  (Session info: chrome=95.0.4638.69)\n",
      "\n",
      "Failed to get job degree: Message: no such element: Unable to locate element: {\"method\":\"css selector\",\"selector\":\".job-list-intro\"}\n",
      "  (Session info: chrome=95.0.4638.69)\n",
      "\n",
      "Failed to get job description: list index out of range\n",
      "Failed to get job area: Message: no such element: Unable to locate element: {\"method\":\"css selector\",\"selector\":\".job-list-intro\"}\n",
      "  (Session info: chrome=95.0.4638.69)\n",
      "\n",
      "Failed to get job experience: Message: no such element: Unable to locate element: {\"method\":\"css selector\",\"selector\":\".job-list-intro\"}\n",
      "  (Session info: chrome=95.0.4638.69)\n",
      "\n",
      "Failed to get job degree: Message: no such element: Unable to locate element: {\"method\":\"css selector\",\"selector\":\".job-list-intro\"}\n",
      "  (Session info: chrome=95.0.4638.69)\n",
      "\n",
      "Failed to get job description: list index out of range\n"
     ]
    },
    {
     "name": "stdout",
     "output_type": "stream",
     "text": [
      "Page 33 with 22 jobs.\n"
     ]
    },
    {
     "name": "stderr",
     "output_type": "stream",
     "text": [
      "Failed to get job area: Message: no such element: Unable to locate element: {\"method\":\"css selector\",\"selector\":\".job-list-intro\"}\n",
      "  (Session info: chrome=95.0.4638.69)\n",
      "\n",
      "Failed to get job experience: Message: no such element: Unable to locate element: {\"method\":\"css selector\",\"selector\":\".job-list-intro\"}\n",
      "  (Session info: chrome=95.0.4638.69)\n",
      "\n",
      "Failed to get job degree: Message: no such element: Unable to locate element: {\"method\":\"css selector\",\"selector\":\".job-list-intro\"}\n",
      "  (Session info: chrome=95.0.4638.69)\n",
      "\n",
      "Failed to get job description: list index out of range\n",
      "Failed to get job area: Message: no such element: Unable to locate element: {\"method\":\"css selector\",\"selector\":\".job-list-intro\"}\n",
      "  (Session info: chrome=95.0.4638.69)\n",
      "\n",
      "Failed to get job experience: Message: no such element: Unable to locate element: {\"method\":\"css selector\",\"selector\":\".job-list-intro\"}\n",
      "  (Session info: chrome=95.0.4638.69)\n",
      "\n",
      "Failed to get job degree: Message: no such element: Unable to locate element: {\"method\":\"css selector\",\"selector\":\".job-list-intro\"}\n",
      "  (Session info: chrome=95.0.4638.69)\n",
      "\n",
      "Failed to get job description: list index out of range\n"
     ]
    },
    {
     "name": "stdout",
     "output_type": "stream",
     "text": [
      "Page 34 with 22 jobs.\n"
     ]
    },
    {
     "name": "stderr",
     "output_type": "stream",
     "text": [
      "Failed to get job area: Message: no such element: Unable to locate element: {\"method\":\"css selector\",\"selector\":\".job-list-intro\"}\n",
      "  (Session info: chrome=95.0.4638.69)\n",
      "\n",
      "Failed to get job experience: Message: no such element: Unable to locate element: {\"method\":\"css selector\",\"selector\":\".job-list-intro\"}\n",
      "  (Session info: chrome=95.0.4638.69)\n",
      "\n",
      "Failed to get job degree: Message: no such element: Unable to locate element: {\"method\":\"css selector\",\"selector\":\".job-list-intro\"}\n",
      "  (Session info: chrome=95.0.4638.69)\n",
      "\n",
      "Failed to get job description: list index out of range\n",
      "Failed to get job area: Message: no such element: Unable to locate element: {\"method\":\"css selector\",\"selector\":\".job-list-intro\"}\n",
      "  (Session info: chrome=95.0.4638.69)\n",
      "\n",
      "Failed to get job experience: Message: no such element: Unable to locate element: {\"method\":\"css selector\",\"selector\":\".job-list-intro\"}\n",
      "  (Session info: chrome=95.0.4638.69)\n",
      "\n",
      "Failed to get job degree: Message: no such element: Unable to locate element: {\"method\":\"css selector\",\"selector\":\".job-list-intro\"}\n",
      "  (Session info: chrome=95.0.4638.69)\n",
      "\n",
      "Failed to get job description: list index out of range\n"
     ]
    },
    {
     "name": "stdout",
     "output_type": "stream",
     "text": [
      "Page 35 with 22 jobs.\n"
     ]
    },
    {
     "name": "stderr",
     "output_type": "stream",
     "text": [
      "Failed to get job area: Message: no such element: Unable to locate element: {\"method\":\"css selector\",\"selector\":\".job-list-intro\"}\n",
      "  (Session info: chrome=95.0.4638.69)\n",
      "\n",
      "Failed to get job experience: Message: no such element: Unable to locate element: {\"method\":\"css selector\",\"selector\":\".job-list-intro\"}\n",
      "  (Session info: chrome=95.0.4638.69)\n",
      "\n",
      "Failed to get job degree: Message: no such element: Unable to locate element: {\"method\":\"css selector\",\"selector\":\".job-list-intro\"}\n",
      "  (Session info: chrome=95.0.4638.69)\n",
      "\n",
      "Failed to get job description: list index out of range\n",
      "Failed to get job area: Message: no such element: Unable to locate element: {\"method\":\"css selector\",\"selector\":\".job-list-intro\"}\n",
      "  (Session info: chrome=95.0.4638.69)\n",
      "\n",
      "Failed to get job experience: Message: no such element: Unable to locate element: {\"method\":\"css selector\",\"selector\":\".job-list-intro\"}\n",
      "  (Session info: chrome=95.0.4638.69)\n",
      "\n",
      "Failed to get job degree: Message: no such element: Unable to locate element: {\"method\":\"css selector\",\"selector\":\".job-list-intro\"}\n",
      "  (Session info: chrome=95.0.4638.69)\n",
      "\n",
      "Failed to get job description: list index out of range\n"
     ]
    },
    {
     "name": "stdout",
     "output_type": "stream",
     "text": [
      "Page 36 with 22 jobs.\n"
     ]
    },
    {
     "name": "stderr",
     "output_type": "stream",
     "text": [
      "Failed to get job area: Message: no such element: Unable to locate element: {\"method\":\"css selector\",\"selector\":\".job-list-intro\"}\n",
      "  (Session info: chrome=95.0.4638.69)\n",
      "\n",
      "Failed to get job experience: Message: no such element: Unable to locate element: {\"method\":\"css selector\",\"selector\":\".job-list-intro\"}\n",
      "  (Session info: chrome=95.0.4638.69)\n",
      "\n",
      "Failed to get job degree: Message: no such element: Unable to locate element: {\"method\":\"css selector\",\"selector\":\".job-list-intro\"}\n",
      "  (Session info: chrome=95.0.4638.69)\n",
      "\n",
      "Failed to get job description: list index out of range\n",
      "Failed to get job area: Message: no such element: Unable to locate element: {\"method\":\"css selector\",\"selector\":\".job-list-intro\"}\n",
      "  (Session info: chrome=95.0.4638.69)\n",
      "\n",
      "Failed to get job experience: Message: no such element: Unable to locate element: {\"method\":\"css selector\",\"selector\":\".job-list-intro\"}\n",
      "  (Session info: chrome=95.0.4638.69)\n",
      "\n",
      "Failed to get job degree: Message: no such element: Unable to locate element: {\"method\":\"css selector\",\"selector\":\".job-list-intro\"}\n",
      "  (Session info: chrome=95.0.4638.69)\n",
      "\n",
      "Failed to get job description: list index out of range\n"
     ]
    },
    {
     "name": "stdout",
     "output_type": "stream",
     "text": [
      "Page 37 with 22 jobs.\n"
     ]
    },
    {
     "name": "stderr",
     "output_type": "stream",
     "text": [
      "Failed to get job area: Message: no such element: Unable to locate element: {\"method\":\"css selector\",\"selector\":\".job-list-intro\"}\n",
      "  (Session info: chrome=95.0.4638.69)\n",
      "\n",
      "Failed to get job experience: Message: no such element: Unable to locate element: {\"method\":\"css selector\",\"selector\":\".job-list-intro\"}\n",
      "  (Session info: chrome=95.0.4638.69)\n",
      "\n",
      "Failed to get job degree: Message: no such element: Unable to locate element: {\"method\":\"css selector\",\"selector\":\".job-list-intro\"}\n",
      "  (Session info: chrome=95.0.4638.69)\n",
      "\n",
      "Failed to get job description: list index out of range\n",
      "Failed to get job area: Message: no such element: Unable to locate element: {\"method\":\"css selector\",\"selector\":\".job-list-intro\"}\n",
      "  (Session info: chrome=95.0.4638.69)\n",
      "\n",
      "Failed to get job experience: Message: no such element: Unable to locate element: {\"method\":\"css selector\",\"selector\":\".job-list-intro\"}\n",
      "  (Session info: chrome=95.0.4638.69)\n",
      "\n",
      "Failed to get job degree: Message: no such element: Unable to locate element: {\"method\":\"css selector\",\"selector\":\".job-list-intro\"}\n",
      "  (Session info: chrome=95.0.4638.69)\n",
      "\n",
      "Failed to get job description: list index out of range\n"
     ]
    },
    {
     "name": "stdout",
     "output_type": "stream",
     "text": [
      "Page 38 with 22 jobs.\n"
     ]
    },
    {
     "name": "stderr",
     "output_type": "stream",
     "text": [
      "Failed to get job area: Message: no such element: Unable to locate element: {\"method\":\"css selector\",\"selector\":\".job-list-intro\"}\n",
      "  (Session info: chrome=95.0.4638.69)\n",
      "\n",
      "Failed to get job experience: Message: no such element: Unable to locate element: {\"method\":\"css selector\",\"selector\":\".job-list-intro\"}\n",
      "  (Session info: chrome=95.0.4638.69)\n",
      "\n",
      "Failed to get job degree: Message: no such element: Unable to locate element: {\"method\":\"css selector\",\"selector\":\".job-list-intro\"}\n",
      "  (Session info: chrome=95.0.4638.69)\n",
      "\n",
      "Failed to get job description: list index out of range\n",
      "Failed to get job area: Message: no such element: Unable to locate element: {\"method\":\"css selector\",\"selector\":\".job-list-intro\"}\n",
      "  (Session info: chrome=95.0.4638.69)\n",
      "\n",
      "Failed to get job experience: Message: no such element: Unable to locate element: {\"method\":\"css selector\",\"selector\":\".job-list-intro\"}\n",
      "  (Session info: chrome=95.0.4638.69)\n",
      "\n",
      "Failed to get job degree: Message: no such element: Unable to locate element: {\"method\":\"css selector\",\"selector\":\".job-list-intro\"}\n",
      "  (Session info: chrome=95.0.4638.69)\n",
      "\n",
      "Failed to get job description: list index out of range\n"
     ]
    },
    {
     "name": "stdout",
     "output_type": "stream",
     "text": [
      "Page 39 with 22 jobs.\n"
     ]
    },
    {
     "name": "stderr",
     "output_type": "stream",
     "text": [
      "Failed to get job area: Message: no such element: Unable to locate element: {\"method\":\"css selector\",\"selector\":\".job-list-intro\"}\n",
      "  (Session info: chrome=95.0.4638.69)\n",
      "\n",
      "Failed to get job experience: Message: no such element: Unable to locate element: {\"method\":\"css selector\",\"selector\":\".job-list-intro\"}\n",
      "  (Session info: chrome=95.0.4638.69)\n",
      "\n",
      "Failed to get job degree: Message: no such element: Unable to locate element: {\"method\":\"css selector\",\"selector\":\".job-list-intro\"}\n",
      "  (Session info: chrome=95.0.4638.69)\n",
      "\n",
      "Failed to get job description: list index out of range\n",
      "Failed to get job area: Message: no such element: Unable to locate element: {\"method\":\"css selector\",\"selector\":\".job-list-intro\"}\n",
      "  (Session info: chrome=95.0.4638.69)\n",
      "\n",
      "Failed to get job experience: Message: no such element: Unable to locate element: {\"method\":\"css selector\",\"selector\":\".job-list-intro\"}\n",
      "  (Session info: chrome=95.0.4638.69)\n",
      "\n",
      "Failed to get job degree: Message: no such element: Unable to locate element: {\"method\":\"css selector\",\"selector\":\".job-list-intro\"}\n",
      "  (Session info: chrome=95.0.4638.69)\n",
      "\n",
      "Failed to get job description: list index out of range\n"
     ]
    },
    {
     "name": "stdout",
     "output_type": "stream",
     "text": [
      "Page 40 with 22 jobs.\n"
     ]
    },
    {
     "name": "stderr",
     "output_type": "stream",
     "text": [
      "Failed to get job area: Message: no such element: Unable to locate element: {\"method\":\"css selector\",\"selector\":\".job-list-intro\"}\n",
      "  (Session info: chrome=95.0.4638.69)\n",
      "\n",
      "Failed to get job experience: Message: no such element: Unable to locate element: {\"method\":\"css selector\",\"selector\":\".job-list-intro\"}\n",
      "  (Session info: chrome=95.0.4638.69)\n",
      "\n",
      "Failed to get job degree: Message: no such element: Unable to locate element: {\"method\":\"css selector\",\"selector\":\".job-list-intro\"}\n",
      "  (Session info: chrome=95.0.4638.69)\n",
      "\n",
      "Failed to get job description: list index out of range\n",
      "Failed to get job area: Message: no such element: Unable to locate element: {\"method\":\"css selector\",\"selector\":\".job-list-intro\"}\n",
      "  (Session info: chrome=95.0.4638.69)\n",
      "\n",
      "Failed to get job experience: Message: no such element: Unable to locate element: {\"method\":\"css selector\",\"selector\":\".job-list-intro\"}\n",
      "  (Session info: chrome=95.0.4638.69)\n",
      "\n",
      "Failed to get job degree: Message: no such element: Unable to locate element: {\"method\":\"css selector\",\"selector\":\".job-list-intro\"}\n",
      "  (Session info: chrome=95.0.4638.69)\n",
      "\n",
      "Failed to get job description: list index out of range\n"
     ]
    },
    {
     "name": "stdout",
     "output_type": "stream",
     "text": [
      "Page 41 with 22 jobs.\n"
     ]
    },
    {
     "name": "stderr",
     "output_type": "stream",
     "text": [
      "Failed to get job area: Message: no such element: Unable to locate element: {\"method\":\"css selector\",\"selector\":\".job-list-intro\"}\n",
      "  (Session info: chrome=95.0.4638.69)\n",
      "\n",
      "Failed to get job experience: Message: no such element: Unable to locate element: {\"method\":\"css selector\",\"selector\":\".job-list-intro\"}\n",
      "  (Session info: chrome=95.0.4638.69)\n",
      "\n",
      "Failed to get job degree: Message: no such element: Unable to locate element: {\"method\":\"css selector\",\"selector\":\".job-list-intro\"}\n",
      "  (Session info: chrome=95.0.4638.69)\n",
      "\n",
      "Failed to get job description: list index out of range\n",
      "Failed to get job area: Message: no such element: Unable to locate element: {\"method\":\"css selector\",\"selector\":\".job-list-intro\"}\n",
      "  (Session info: chrome=95.0.4638.69)\n",
      "\n",
      "Failed to get job experience: Message: no such element: Unable to locate element: {\"method\":\"css selector\",\"selector\":\".job-list-intro\"}\n",
      "  (Session info: chrome=95.0.4638.69)\n",
      "\n",
      "Failed to get job degree: Message: no such element: Unable to locate element: {\"method\":\"css selector\",\"selector\":\".job-list-intro\"}\n",
      "  (Session info: chrome=95.0.4638.69)\n",
      "\n",
      "Failed to get job description: list index out of range\n"
     ]
    },
    {
     "name": "stdout",
     "output_type": "stream",
     "text": [
      "Page 42 with 22 jobs.\n"
     ]
    },
    {
     "name": "stderr",
     "output_type": "stream",
     "text": [
      "Failed to get job area: Message: no such element: Unable to locate element: {\"method\":\"css selector\",\"selector\":\".job-list-intro\"}\n",
      "  (Session info: chrome=95.0.4638.69)\n",
      "\n",
      "Failed to get job experience: Message: no such element: Unable to locate element: {\"method\":\"css selector\",\"selector\":\".job-list-intro\"}\n",
      "  (Session info: chrome=95.0.4638.69)\n",
      "\n",
      "Failed to get job degree: Message: no such element: Unable to locate element: {\"method\":\"css selector\",\"selector\":\".job-list-intro\"}\n",
      "  (Session info: chrome=95.0.4638.69)\n",
      "\n",
      "Failed to get job description: list index out of range\n",
      "Failed to get job area: Message: no such element: Unable to locate element: {\"method\":\"css selector\",\"selector\":\".job-list-intro\"}\n",
      "  (Session info: chrome=95.0.4638.69)\n",
      "\n",
      "Failed to get job experience: Message: no such element: Unable to locate element: {\"method\":\"css selector\",\"selector\":\".job-list-intro\"}\n",
      "  (Session info: chrome=95.0.4638.69)\n",
      "\n",
      "Failed to get job degree: Message: no such element: Unable to locate element: {\"method\":\"css selector\",\"selector\":\".job-list-intro\"}\n",
      "  (Session info: chrome=95.0.4638.69)\n",
      "\n",
      "Failed to get job description: list index out of range\n"
     ]
    },
    {
     "name": "stdout",
     "output_type": "stream",
     "text": [
      "Page 43 with 22 jobs.\n"
     ]
    },
    {
     "name": "stderr",
     "output_type": "stream",
     "text": [
      "Failed to get job area: Message: no such element: Unable to locate element: {\"method\":\"css selector\",\"selector\":\".job-list-intro\"}\n",
      "  (Session info: chrome=95.0.4638.69)\n",
      "\n",
      "Failed to get job experience: Message: no such element: Unable to locate element: {\"method\":\"css selector\",\"selector\":\".job-list-intro\"}\n",
      "  (Session info: chrome=95.0.4638.69)\n",
      "\n",
      "Failed to get job degree: Message: no such element: Unable to locate element: {\"method\":\"css selector\",\"selector\":\".job-list-intro\"}\n",
      "  (Session info: chrome=95.0.4638.69)\n",
      "\n",
      "Failed to get job description: list index out of range\n",
      "Failed to get job area: Message: no such element: Unable to locate element: {\"method\":\"css selector\",\"selector\":\".job-list-intro\"}\n",
      "  (Session info: chrome=95.0.4638.69)\n",
      "\n",
      "Failed to get job experience: Message: no such element: Unable to locate element: {\"method\":\"css selector\",\"selector\":\".job-list-intro\"}\n",
      "  (Session info: chrome=95.0.4638.69)\n",
      "\n",
      "Failed to get job degree: Message: no such element: Unable to locate element: {\"method\":\"css selector\",\"selector\":\".job-list-intro\"}\n",
      "  (Session info: chrome=95.0.4638.69)\n",
      "\n",
      "Failed to get job description: list index out of range\n"
     ]
    },
    {
     "name": "stdout",
     "output_type": "stream",
     "text": [
      "Page 44 with 22 jobs.\n"
     ]
    },
    {
     "name": "stderr",
     "output_type": "stream",
     "text": [
      "Failed to get job area: Message: no such element: Unable to locate element: {\"method\":\"css selector\",\"selector\":\".job-list-intro\"}\n",
      "  (Session info: chrome=95.0.4638.69)\n",
      "\n",
      "Failed to get job experience: Message: no such element: Unable to locate element: {\"method\":\"css selector\",\"selector\":\".job-list-intro\"}\n",
      "  (Session info: chrome=95.0.4638.69)\n",
      "\n",
      "Failed to get job degree: Message: no such element: Unable to locate element: {\"method\":\"css selector\",\"selector\":\".job-list-intro\"}\n",
      "  (Session info: chrome=95.0.4638.69)\n",
      "\n",
      "Failed to get job description: list index out of range\n",
      "Failed to get job area: Message: no such element: Unable to locate element: {\"method\":\"css selector\",\"selector\":\".job-list-intro\"}\n",
      "  (Session info: chrome=95.0.4638.69)\n",
      "\n",
      "Failed to get job experience: Message: no such element: Unable to locate element: {\"method\":\"css selector\",\"selector\":\".job-list-intro\"}\n",
      "  (Session info: chrome=95.0.4638.69)\n",
      "\n",
      "Failed to get job degree: Message: no such element: Unable to locate element: {\"method\":\"css selector\",\"selector\":\".job-list-intro\"}\n",
      "  (Session info: chrome=95.0.4638.69)\n",
      "\n",
      "Failed to get job description: list index out of range\n"
     ]
    },
    {
     "name": "stdout",
     "output_type": "stream",
     "text": [
      "Page 45 with 22 jobs.\n"
     ]
    },
    {
     "name": "stderr",
     "output_type": "stream",
     "text": [
      "Failed to get job area: Message: no such element: Unable to locate element: {\"method\":\"css selector\",\"selector\":\".job-list-intro\"}\n",
      "  (Session info: chrome=95.0.4638.69)\n",
      "\n",
      "Failed to get job experience: Message: no such element: Unable to locate element: {\"method\":\"css selector\",\"selector\":\".job-list-intro\"}\n",
      "  (Session info: chrome=95.0.4638.69)\n",
      "\n",
      "Failed to get job degree: Message: no such element: Unable to locate element: {\"method\":\"css selector\",\"selector\":\".job-list-intro\"}\n",
      "  (Session info: chrome=95.0.4638.69)\n",
      "\n",
      "Failed to get job description: list index out of range\n",
      "Failed to get job area: Message: no such element: Unable to locate element: {\"method\":\"css selector\",\"selector\":\".job-list-intro\"}\n",
      "  (Session info: chrome=95.0.4638.69)\n",
      "\n",
      "Failed to get job experience: Message: no such element: Unable to locate element: {\"method\":\"css selector\",\"selector\":\".job-list-intro\"}\n",
      "  (Session info: chrome=95.0.4638.69)\n",
      "\n",
      "Failed to get job degree: Message: no such element: Unable to locate element: {\"method\":\"css selector\",\"selector\":\".job-list-intro\"}\n",
      "  (Session info: chrome=95.0.4638.69)\n",
      "\n",
      "Failed to get job description: list index out of range\n"
     ]
    },
    {
     "name": "stdout",
     "output_type": "stream",
     "text": [
      "Page 46 with 22 jobs.\n"
     ]
    },
    {
     "name": "stderr",
     "output_type": "stream",
     "text": [
      "Failed to get job area: Message: no such element: Unable to locate element: {\"method\":\"css selector\",\"selector\":\".job-list-intro\"}\n",
      "  (Session info: chrome=95.0.4638.69)\n",
      "\n",
      "Failed to get job experience: Message: no such element: Unable to locate element: {\"method\":\"css selector\",\"selector\":\".job-list-intro\"}\n",
      "  (Session info: chrome=95.0.4638.69)\n",
      "\n",
      "Failed to get job degree: Message: no such element: Unable to locate element: {\"method\":\"css selector\",\"selector\":\".job-list-intro\"}\n",
      "  (Session info: chrome=95.0.4638.69)\n",
      "\n",
      "Failed to get job description: list index out of range\n",
      "Failed to get job area: Message: no such element: Unable to locate element: {\"method\":\"css selector\",\"selector\":\".job-list-intro\"}\n",
      "  (Session info: chrome=95.0.4638.69)\n",
      "\n",
      "Failed to get job experience: Message: no such element: Unable to locate element: {\"method\":\"css selector\",\"selector\":\".job-list-intro\"}\n",
      "  (Session info: chrome=95.0.4638.69)\n",
      "\n",
      "Failed to get job degree: Message: no such element: Unable to locate element: {\"method\":\"css selector\",\"selector\":\".job-list-intro\"}\n",
      "  (Session info: chrome=95.0.4638.69)\n",
      "\n",
      "Failed to get job description: list index out of range\n"
     ]
    },
    {
     "name": "stdout",
     "output_type": "stream",
     "text": [
      "Page 47 with 22 jobs.\n"
     ]
    },
    {
     "name": "stderr",
     "output_type": "stream",
     "text": [
      "Failed to get job area: Message: no such element: Unable to locate element: {\"method\":\"css selector\",\"selector\":\".job-list-intro\"}\n",
      "  (Session info: chrome=95.0.4638.69)\n",
      "\n",
      "Failed to get job experience: Message: no such element: Unable to locate element: {\"method\":\"css selector\",\"selector\":\".job-list-intro\"}\n",
      "  (Session info: chrome=95.0.4638.69)\n",
      "\n",
      "Failed to get job degree: Message: no such element: Unable to locate element: {\"method\":\"css selector\",\"selector\":\".job-list-intro\"}\n",
      "  (Session info: chrome=95.0.4638.69)\n",
      "\n",
      "Failed to get job description: list index out of range\n",
      "Failed to get job area: Message: no such element: Unable to locate element: {\"method\":\"css selector\",\"selector\":\".job-list-intro\"}\n",
      "  (Session info: chrome=95.0.4638.69)\n",
      "\n",
      "Failed to get job experience: Message: no such element: Unable to locate element: {\"method\":\"css selector\",\"selector\":\".job-list-intro\"}\n",
      "  (Session info: chrome=95.0.4638.69)\n",
      "\n",
      "Failed to get job degree: Message: no such element: Unable to locate element: {\"method\":\"css selector\",\"selector\":\".job-list-intro\"}\n",
      "  (Session info: chrome=95.0.4638.69)\n",
      "\n",
      "Failed to get job description: list index out of range\n"
     ]
    },
    {
     "name": "stdout",
     "output_type": "stream",
     "text": [
      "Page 48 with 22 jobs.\n"
     ]
    },
    {
     "name": "stderr",
     "output_type": "stream",
     "text": [
      "Failed to get job area: Message: no such element: Unable to locate element: {\"method\":\"css selector\",\"selector\":\".job-list-intro\"}\n",
      "  (Session info: chrome=95.0.4638.69)\n",
      "\n",
      "Failed to get job experience: Message: no such element: Unable to locate element: {\"method\":\"css selector\",\"selector\":\".job-list-intro\"}\n",
      "  (Session info: chrome=95.0.4638.69)\n",
      "\n",
      "Failed to get job degree: Message: no such element: Unable to locate element: {\"method\":\"css selector\",\"selector\":\".job-list-intro\"}\n",
      "  (Session info: chrome=95.0.4638.69)\n",
      "\n",
      "Failed to get job description: list index out of range\n",
      "Failed to get job area: Message: no such element: Unable to locate element: {\"method\":\"css selector\",\"selector\":\".job-list-intro\"}\n",
      "  (Session info: chrome=95.0.4638.69)\n",
      "\n",
      "Failed to get job experience: Message: no such element: Unable to locate element: {\"method\":\"css selector\",\"selector\":\".job-list-intro\"}\n",
      "  (Session info: chrome=95.0.4638.69)\n",
      "\n",
      "Failed to get job degree: Message: no such element: Unable to locate element: {\"method\":\"css selector\",\"selector\":\".job-list-intro\"}\n",
      "  (Session info: chrome=95.0.4638.69)\n",
      "\n",
      "Failed to get job description: list index out of range\n"
     ]
    },
    {
     "name": "stdout",
     "output_type": "stream",
     "text": [
      "Page 49 with 22 jobs.\n"
     ]
    },
    {
     "name": "stderr",
     "output_type": "stream",
     "text": [
      "Failed to get job area: Message: no such element: Unable to locate element: {\"method\":\"css selector\",\"selector\":\".job-list-intro\"}\n",
      "  (Session info: chrome=95.0.4638.69)\n",
      "\n",
      "Failed to get job experience: Message: no such element: Unable to locate element: {\"method\":\"css selector\",\"selector\":\".job-list-intro\"}\n",
      "  (Session info: chrome=95.0.4638.69)\n",
      "\n",
      "Failed to get job degree: Message: no such element: Unable to locate element: {\"method\":\"css selector\",\"selector\":\".job-list-intro\"}\n",
      "  (Session info: chrome=95.0.4638.69)\n",
      "\n",
      "Failed to get job description: list index out of range\n",
      "Failed to get job area: Message: no such element: Unable to locate element: {\"method\":\"css selector\",\"selector\":\".job-list-intro\"}\n",
      "  (Session info: chrome=95.0.4638.69)\n",
      "\n",
      "Failed to get job experience: Message: no such element: Unable to locate element: {\"method\":\"css selector\",\"selector\":\".job-list-intro\"}\n",
      "  (Session info: chrome=95.0.4638.69)\n",
      "\n",
      "Failed to get job degree: Message: no such element: Unable to locate element: {\"method\":\"css selector\",\"selector\":\".job-list-intro\"}\n",
      "  (Session info: chrome=95.0.4638.69)\n",
      "\n",
      "Failed to get job description: list index out of range\n"
     ]
    },
    {
     "name": "stdout",
     "output_type": "stream",
     "text": [
      "Page 50 with 22 jobs.\n"
     ]
    },
    {
     "name": "stderr",
     "output_type": "stream",
     "text": [
      "Failed to get job area: Message: no such element: Unable to locate element: {\"method\":\"css selector\",\"selector\":\".job-list-intro\"}\n",
      "  (Session info: chrome=95.0.4638.69)\n",
      "\n",
      "Failed to get job experience: Message: no such element: Unable to locate element: {\"method\":\"css selector\",\"selector\":\".job-list-intro\"}\n",
      "  (Session info: chrome=95.0.4638.69)\n",
      "\n",
      "Failed to get job degree: Message: no such element: Unable to locate element: {\"method\":\"css selector\",\"selector\":\".job-list-intro\"}\n",
      "  (Session info: chrome=95.0.4638.69)\n",
      "\n",
      "Failed to get job description: list index out of range\n",
      "Failed to get job area: Message: no such element: Unable to locate element: {\"method\":\"css selector\",\"selector\":\".job-list-intro\"}\n",
      "  (Session info: chrome=95.0.4638.69)\n",
      "\n",
      "Failed to get job experience: Message: no such element: Unable to locate element: {\"method\":\"css selector\",\"selector\":\".job-list-intro\"}\n",
      "  (Session info: chrome=95.0.4638.69)\n",
      "\n",
      "Failed to get job degree: Message: no such element: Unable to locate element: {\"method\":\"css selector\",\"selector\":\".job-list-intro\"}\n",
      "  (Session info: chrome=95.0.4638.69)\n",
      "\n",
      "Failed to get job description: list index out of range\n"
     ]
    },
    {
     "name": "stdout",
     "output_type": "stream",
     "text": [
      "Page 51 with 22 jobs.\n"
     ]
    },
    {
     "name": "stderr",
     "output_type": "stream",
     "text": [
      "Failed to get job area: Message: no such element: Unable to locate element: {\"method\":\"css selector\",\"selector\":\".job-list-intro\"}\n",
      "  (Session info: chrome=95.0.4638.69)\n",
      "\n",
      "Failed to get job experience: Message: no such element: Unable to locate element: {\"method\":\"css selector\",\"selector\":\".job-list-intro\"}\n",
      "  (Session info: chrome=95.0.4638.69)\n",
      "\n",
      "Failed to get job degree: Message: no such element: Unable to locate element: {\"method\":\"css selector\",\"selector\":\".job-list-intro\"}\n",
      "  (Session info: chrome=95.0.4638.69)\n",
      "\n",
      "Failed to get job description: list index out of range\n",
      "Failed to get job area: Message: no such element: Unable to locate element: {\"method\":\"css selector\",\"selector\":\".job-list-intro\"}\n",
      "  (Session info: chrome=95.0.4638.69)\n",
      "\n",
      "Failed to get job experience: Message: no such element: Unable to locate element: {\"method\":\"css selector\",\"selector\":\".job-list-intro\"}\n",
      "  (Session info: chrome=95.0.4638.69)\n",
      "\n",
      "Failed to get job degree: Message: no such element: Unable to locate element: {\"method\":\"css selector\",\"selector\":\".job-list-intro\"}\n",
      "  (Session info: chrome=95.0.4638.69)\n",
      "\n",
      "Failed to get job description: list index out of range\n"
     ]
    },
    {
     "name": "stdout",
     "output_type": "stream",
     "text": [
      "Page 52 with 22 jobs.\n"
     ]
    },
    {
     "name": "stderr",
     "output_type": "stream",
     "text": [
      "Failed to get job area: Message: no such element: Unable to locate element: {\"method\":\"css selector\",\"selector\":\".job-list-intro\"}\n",
      "  (Session info: chrome=95.0.4638.69)\n",
      "\n",
      "Failed to get job experience: Message: no such element: Unable to locate element: {\"method\":\"css selector\",\"selector\":\".job-list-intro\"}\n",
      "  (Session info: chrome=95.0.4638.69)\n",
      "\n",
      "Failed to get job degree: Message: no such element: Unable to locate element: {\"method\":\"css selector\",\"selector\":\".job-list-intro\"}\n",
      "  (Session info: chrome=95.0.4638.69)\n",
      "\n",
      "Failed to get job description: list index out of range\n",
      "Failed to get job area: Message: no such element: Unable to locate element: {\"method\":\"css selector\",\"selector\":\".job-list-intro\"}\n",
      "  (Session info: chrome=95.0.4638.69)\n",
      "\n",
      "Failed to get job experience: Message: no such element: Unable to locate element: {\"method\":\"css selector\",\"selector\":\".job-list-intro\"}\n",
      "  (Session info: chrome=95.0.4638.69)\n",
      "\n",
      "Failed to get job degree: Message: no such element: Unable to locate element: {\"method\":\"css selector\",\"selector\":\".job-list-intro\"}\n",
      "  (Session info: chrome=95.0.4638.69)\n",
      "\n",
      "Failed to get job description: list index out of range\n"
     ]
    },
    {
     "name": "stdout",
     "output_type": "stream",
     "text": [
      "Page 53 with 22 jobs.\n"
     ]
    },
    {
     "name": "stderr",
     "output_type": "stream",
     "text": [
      "Failed to get job area: Message: no such element: Unable to locate element: {\"method\":\"css selector\",\"selector\":\".job-list-intro\"}\n",
      "  (Session info: chrome=95.0.4638.69)\n",
      "\n",
      "Failed to get job experience: Message: no such element: Unable to locate element: {\"method\":\"css selector\",\"selector\":\".job-list-intro\"}\n",
      "  (Session info: chrome=95.0.4638.69)\n",
      "\n",
      "Failed to get job degree: Message: no such element: Unable to locate element: {\"method\":\"css selector\",\"selector\":\".job-list-intro\"}\n",
      "  (Session info: chrome=95.0.4638.69)\n",
      "\n",
      "Failed to get job description: list index out of range\n",
      "Failed to get job area: Message: no such element: Unable to locate element: {\"method\":\"css selector\",\"selector\":\".job-list-intro\"}\n",
      "  (Session info: chrome=95.0.4638.69)\n",
      "\n",
      "Failed to get job experience: Message: no such element: Unable to locate element: {\"method\":\"css selector\",\"selector\":\".job-list-intro\"}\n",
      "  (Session info: chrome=95.0.4638.69)\n",
      "\n",
      "Failed to get job degree: Message: no such element: Unable to locate element: {\"method\":\"css selector\",\"selector\":\".job-list-intro\"}\n",
      "  (Session info: chrome=95.0.4638.69)\n",
      "\n",
      "Failed to get job description: list index out of range\n"
     ]
    },
    {
     "name": "stdout",
     "output_type": "stream",
     "text": [
      "Page 54 with 22 jobs.\n"
     ]
    },
    {
     "name": "stderr",
     "output_type": "stream",
     "text": [
      "Failed to get job area: Message: no such element: Unable to locate element: {\"method\":\"css selector\",\"selector\":\".job-list-intro\"}\n",
      "  (Session info: chrome=95.0.4638.69)\n",
      "\n",
      "Failed to get job experience: Message: no such element: Unable to locate element: {\"method\":\"css selector\",\"selector\":\".job-list-intro\"}\n",
      "  (Session info: chrome=95.0.4638.69)\n",
      "\n",
      "Failed to get job degree: Message: no such element: Unable to locate element: {\"method\":\"css selector\",\"selector\":\".job-list-intro\"}\n",
      "  (Session info: chrome=95.0.4638.69)\n",
      "\n",
      "Failed to get job description: list index out of range\n",
      "Failed to get job area: Message: no such element: Unable to locate element: {\"method\":\"css selector\",\"selector\":\".job-list-intro\"}\n",
      "  (Session info: chrome=95.0.4638.69)\n",
      "\n",
      "Failed to get job experience: Message: no such element: Unable to locate element: {\"method\":\"css selector\",\"selector\":\".job-list-intro\"}\n",
      "  (Session info: chrome=95.0.4638.69)\n",
      "\n",
      "Failed to get job degree: Message: no such element: Unable to locate element: {\"method\":\"css selector\",\"selector\":\".job-list-intro\"}\n",
      "  (Session info: chrome=95.0.4638.69)\n",
      "\n",
      "Failed to get job description: list index out of range\n"
     ]
    },
    {
     "name": "stdout",
     "output_type": "stream",
     "text": [
      "Page 55 with 22 jobs.\n"
     ]
    },
    {
     "name": "stderr",
     "output_type": "stream",
     "text": [
      "Failed to get job area: Message: no such element: Unable to locate element: {\"method\":\"css selector\",\"selector\":\".job-list-intro\"}\n",
      "  (Session info: chrome=95.0.4638.69)\n",
      "\n",
      "Failed to get job experience: Message: no such element: Unable to locate element: {\"method\":\"css selector\",\"selector\":\".job-list-intro\"}\n",
      "  (Session info: chrome=95.0.4638.69)\n",
      "\n",
      "Failed to get job degree: Message: no such element: Unable to locate element: {\"method\":\"css selector\",\"selector\":\".job-list-intro\"}\n",
      "  (Session info: chrome=95.0.4638.69)\n",
      "\n",
      "Failed to get job description: list index out of range\n",
      "Failed to get job area: Message: no such element: Unable to locate element: {\"method\":\"css selector\",\"selector\":\".job-list-intro\"}\n",
      "  (Session info: chrome=95.0.4638.69)\n",
      "\n",
      "Failed to get job experience: Message: no such element: Unable to locate element: {\"method\":\"css selector\",\"selector\":\".job-list-intro\"}\n",
      "  (Session info: chrome=95.0.4638.69)\n",
      "\n",
      "Failed to get job degree: Message: no such element: Unable to locate element: {\"method\":\"css selector\",\"selector\":\".job-list-intro\"}\n",
      "  (Session info: chrome=95.0.4638.69)\n",
      "\n",
      "Failed to get job description: list index out of range\n"
     ]
    },
    {
     "name": "stdout",
     "output_type": "stream",
     "text": [
      "Page 56 with 22 jobs.\n"
     ]
    },
    {
     "name": "stderr",
     "output_type": "stream",
     "text": [
      "Failed to get job area: Message: no such element: Unable to locate element: {\"method\":\"css selector\",\"selector\":\".job-list-intro\"}\n",
      "  (Session info: chrome=95.0.4638.69)\n",
      "\n",
      "Failed to get job experience: Message: no such element: Unable to locate element: {\"method\":\"css selector\",\"selector\":\".job-list-intro\"}\n",
      "  (Session info: chrome=95.0.4638.69)\n",
      "\n",
      "Failed to get job degree: Message: no such element: Unable to locate element: {\"method\":\"css selector\",\"selector\":\".job-list-intro\"}\n",
      "  (Session info: chrome=95.0.4638.69)\n",
      "\n",
      "Failed to get job description: list index out of range\n",
      "Failed to get job area: Message: no such element: Unable to locate element: {\"method\":\"css selector\",\"selector\":\".job-list-intro\"}\n",
      "  (Session info: chrome=95.0.4638.69)\n",
      "\n",
      "Failed to get job experience: Message: no such element: Unable to locate element: {\"method\":\"css selector\",\"selector\":\".job-list-intro\"}\n",
      "  (Session info: chrome=95.0.4638.69)\n",
      "\n",
      "Failed to get job degree: Message: no such element: Unable to locate element: {\"method\":\"css selector\",\"selector\":\".job-list-intro\"}\n",
      "  (Session info: chrome=95.0.4638.69)\n",
      "\n",
      "Failed to get job description: list index out of range\n"
     ]
    },
    {
     "name": "stdout",
     "output_type": "stream",
     "text": [
      "Page 57 with 22 jobs.\n"
     ]
    },
    {
     "name": "stderr",
     "output_type": "stream",
     "text": [
      "Failed to get job area: Message: no such element: Unable to locate element: {\"method\":\"css selector\",\"selector\":\".job-list-intro\"}\n",
      "  (Session info: chrome=95.0.4638.69)\n",
      "\n",
      "Failed to get job experience: Message: no such element: Unable to locate element: {\"method\":\"css selector\",\"selector\":\".job-list-intro\"}\n",
      "  (Session info: chrome=95.0.4638.69)\n",
      "\n",
      "Failed to get job degree: Message: no such element: Unable to locate element: {\"method\":\"css selector\",\"selector\":\".job-list-intro\"}\n",
      "  (Session info: chrome=95.0.4638.69)\n",
      "\n",
      "Failed to get job description: list index out of range\n",
      "Failed to get job area: Message: no such element: Unable to locate element: {\"method\":\"css selector\",\"selector\":\".job-list-intro\"}\n",
      "  (Session info: chrome=95.0.4638.69)\n",
      "\n",
      "Failed to get job experience: Message: no such element: Unable to locate element: {\"method\":\"css selector\",\"selector\":\".job-list-intro\"}\n",
      "  (Session info: chrome=95.0.4638.69)\n",
      "\n",
      "Failed to get job degree: Message: no such element: Unable to locate element: {\"method\":\"css selector\",\"selector\":\".job-list-intro\"}\n",
      "  (Session info: chrome=95.0.4638.69)\n",
      "\n",
      "Failed to get job description: list index out of range\n"
     ]
    },
    {
     "name": "stdout",
     "output_type": "stream",
     "text": [
      "Page 58 with 22 jobs.\n"
     ]
    },
    {
     "name": "stderr",
     "output_type": "stream",
     "text": [
      "Failed to get job area: Message: no such element: Unable to locate element: {\"method\":\"css selector\",\"selector\":\".job-list-intro\"}\n",
      "  (Session info: chrome=95.0.4638.69)\n",
      "\n",
      "Failed to get job experience: Message: no such element: Unable to locate element: {\"method\":\"css selector\",\"selector\":\".job-list-intro\"}\n",
      "  (Session info: chrome=95.0.4638.69)\n",
      "\n",
      "Failed to get job degree: Message: no such element: Unable to locate element: {\"method\":\"css selector\",\"selector\":\".job-list-intro\"}\n",
      "  (Session info: chrome=95.0.4638.69)\n",
      "\n",
      "Failed to get job description: list index out of range\n",
      "Failed to get job area: Message: no such element: Unable to locate element: {\"method\":\"css selector\",\"selector\":\".job-list-intro\"}\n",
      "  (Session info: chrome=95.0.4638.69)\n",
      "\n",
      "Failed to get job experience: Message: no such element: Unable to locate element: {\"method\":\"css selector\",\"selector\":\".job-list-intro\"}\n",
      "  (Session info: chrome=95.0.4638.69)\n",
      "\n",
      "Failed to get job degree: Message: no such element: Unable to locate element: {\"method\":\"css selector\",\"selector\":\".job-list-intro\"}\n",
      "  (Session info: chrome=95.0.4638.69)\n",
      "\n",
      "Failed to get job description: list index out of range\n"
     ]
    },
    {
     "name": "stdout",
     "output_type": "stream",
     "text": [
      "Page 59 with 22 jobs.\n"
     ]
    },
    {
     "name": "stderr",
     "output_type": "stream",
     "text": [
      "Failed to get job area: Message: no such element: Unable to locate element: {\"method\":\"css selector\",\"selector\":\".job-list-intro\"}\n",
      "  (Session info: chrome=95.0.4638.69)\n",
      "\n",
      "Failed to get job experience: Message: no such element: Unable to locate element: {\"method\":\"css selector\",\"selector\":\".job-list-intro\"}\n",
      "  (Session info: chrome=95.0.4638.69)\n",
      "\n",
      "Failed to get job degree: Message: no such element: Unable to locate element: {\"method\":\"css selector\",\"selector\":\".job-list-intro\"}\n",
      "  (Session info: chrome=95.0.4638.69)\n",
      "\n",
      "Failed to get job description: list index out of range\n",
      "Failed to get job area: Message: no such element: Unable to locate element: {\"method\":\"css selector\",\"selector\":\".job-list-intro\"}\n",
      "  (Session info: chrome=95.0.4638.69)\n",
      "\n",
      "Failed to get job experience: Message: no such element: Unable to locate element: {\"method\":\"css selector\",\"selector\":\".job-list-intro\"}\n",
      "  (Session info: chrome=95.0.4638.69)\n",
      "\n",
      "Failed to get job degree: Message: no such element: Unable to locate element: {\"method\":\"css selector\",\"selector\":\".job-list-intro\"}\n",
      "  (Session info: chrome=95.0.4638.69)\n",
      "\n",
      "Failed to get job description: list index out of range\n"
     ]
    },
    {
     "name": "stdout",
     "output_type": "stream",
     "text": [
      "Page 60 with 22 jobs.\n"
     ]
    },
    {
     "name": "stderr",
     "output_type": "stream",
     "text": [
      "Failed to get job area: Message: no such element: Unable to locate element: {\"method\":\"css selector\",\"selector\":\".job-list-intro\"}\n",
      "  (Session info: chrome=95.0.4638.69)\n",
      "\n",
      "Failed to get job experience: Message: no such element: Unable to locate element: {\"method\":\"css selector\",\"selector\":\".job-list-intro\"}\n",
      "  (Session info: chrome=95.0.4638.69)\n",
      "\n",
      "Failed to get job degree: Message: no such element: Unable to locate element: {\"method\":\"css selector\",\"selector\":\".job-list-intro\"}\n",
      "  (Session info: chrome=95.0.4638.69)\n",
      "\n",
      "Failed to get job description: list index out of range\n",
      "Failed to get job area: Message: no such element: Unable to locate element: {\"method\":\"css selector\",\"selector\":\".job-list-intro\"}\n",
      "  (Session info: chrome=95.0.4638.69)\n",
      "\n",
      "Failed to get job experience: Message: no such element: Unable to locate element: {\"method\":\"css selector\",\"selector\":\".job-list-intro\"}\n",
      "  (Session info: chrome=95.0.4638.69)\n",
      "\n",
      "Failed to get job degree: Message: no such element: Unable to locate element: {\"method\":\"css selector\",\"selector\":\".job-list-intro\"}\n",
      "  (Session info: chrome=95.0.4638.69)\n",
      "\n",
      "Failed to get job description: list index out of range\n"
     ]
    },
    {
     "name": "stdout",
     "output_type": "stream",
     "text": [
      "Page 61 with 22 jobs.\n"
     ]
    },
    {
     "name": "stderr",
     "output_type": "stream",
     "text": [
      "Failed to get job area: Message: no such element: Unable to locate element: {\"method\":\"css selector\",\"selector\":\".job-list-intro\"}\n",
      "  (Session info: chrome=95.0.4638.69)\n",
      "\n",
      "Failed to get job experience: Message: no such element: Unable to locate element: {\"method\":\"css selector\",\"selector\":\".job-list-intro\"}\n",
      "  (Session info: chrome=95.0.4638.69)\n",
      "\n",
      "Failed to get job degree: Message: no such element: Unable to locate element: {\"method\":\"css selector\",\"selector\":\".job-list-intro\"}\n",
      "  (Session info: chrome=95.0.4638.69)\n",
      "\n",
      "Failed to get job description: list index out of range\n",
      "Failed to get job area: Message: no such element: Unable to locate element: {\"method\":\"css selector\",\"selector\":\".job-list-intro\"}\n",
      "  (Session info: chrome=95.0.4638.69)\n",
      "\n",
      "Failed to get job experience: Message: no such element: Unable to locate element: {\"method\":\"css selector\",\"selector\":\".job-list-intro\"}\n",
      "  (Session info: chrome=95.0.4638.69)\n",
      "\n",
      "Failed to get job degree: Message: no such element: Unable to locate element: {\"method\":\"css selector\",\"selector\":\".job-list-intro\"}\n",
      "  (Session info: chrome=95.0.4638.69)\n",
      "\n",
      "Failed to get job description: list index out of range\n"
     ]
    },
    {
     "name": "stdout",
     "output_type": "stream",
     "text": [
      "Page 62 with 22 jobs.\n"
     ]
    },
    {
     "name": "stderr",
     "output_type": "stream",
     "text": [
      "Failed to get job area: Message: no such element: Unable to locate element: {\"method\":\"css selector\",\"selector\":\".job-list-intro\"}\n",
      "  (Session info: chrome=95.0.4638.69)\n",
      "\n",
      "Failed to get job experience: Message: no such element: Unable to locate element: {\"method\":\"css selector\",\"selector\":\".job-list-intro\"}\n",
      "  (Session info: chrome=95.0.4638.69)\n",
      "\n",
      "Failed to get job degree: Message: no such element: Unable to locate element: {\"method\":\"css selector\",\"selector\":\".job-list-intro\"}\n",
      "  (Session info: chrome=95.0.4638.69)\n",
      "\n",
      "Failed to get job description: list index out of range\n",
      "Failed to get job area: Message: no such element: Unable to locate element: {\"method\":\"css selector\",\"selector\":\".job-list-intro\"}\n",
      "  (Session info: chrome=95.0.4638.69)\n",
      "\n",
      "Failed to get job experience: Message: no such element: Unable to locate element: {\"method\":\"css selector\",\"selector\":\".job-list-intro\"}\n",
      "  (Session info: chrome=95.0.4638.69)\n",
      "\n",
      "Failed to get job degree: Message: no such element: Unable to locate element: {\"method\":\"css selector\",\"selector\":\".job-list-intro\"}\n",
      "  (Session info: chrome=95.0.4638.69)\n",
      "\n",
      "Failed to get job description: list index out of range\n"
     ]
    },
    {
     "name": "stdout",
     "output_type": "stream",
     "text": [
      "Page 63 with 22 jobs.\n"
     ]
    },
    {
     "name": "stderr",
     "output_type": "stream",
     "text": [
      "Failed to get job area: Message: no such element: Unable to locate element: {\"method\":\"css selector\",\"selector\":\".job-list-intro\"}\n",
      "  (Session info: chrome=95.0.4638.69)\n",
      "\n",
      "Failed to get job experience: Message: no such element: Unable to locate element: {\"method\":\"css selector\",\"selector\":\".job-list-intro\"}\n",
      "  (Session info: chrome=95.0.4638.69)\n",
      "\n",
      "Failed to get job degree: Message: no such element: Unable to locate element: {\"method\":\"css selector\",\"selector\":\".job-list-intro\"}\n",
      "  (Session info: chrome=95.0.4638.69)\n",
      "\n",
      "Failed to get job description: list index out of range\n",
      "Failed to get job area: Message: no such element: Unable to locate element: {\"method\":\"css selector\",\"selector\":\".job-list-intro\"}\n",
      "  (Session info: chrome=95.0.4638.69)\n",
      "\n",
      "Failed to get job experience: Message: no such element: Unable to locate element: {\"method\":\"css selector\",\"selector\":\".job-list-intro\"}\n",
      "  (Session info: chrome=95.0.4638.69)\n",
      "\n",
      "Failed to get job degree: Message: no such element: Unable to locate element: {\"method\":\"css selector\",\"selector\":\".job-list-intro\"}\n",
      "  (Session info: chrome=95.0.4638.69)\n",
      "\n",
      "Failed to get job description: list index out of range\n"
     ]
    },
    {
     "name": "stdout",
     "output_type": "stream",
     "text": [
      "Page 64 with 22 jobs.\n"
     ]
    },
    {
     "name": "stderr",
     "output_type": "stream",
     "text": [
      "Failed to get job area: Message: no such element: Unable to locate element: {\"method\":\"css selector\",\"selector\":\".job-list-intro\"}\n",
      "  (Session info: chrome=95.0.4638.69)\n",
      "\n",
      "Failed to get job experience: Message: no such element: Unable to locate element: {\"method\":\"css selector\",\"selector\":\".job-list-intro\"}\n",
      "  (Session info: chrome=95.0.4638.69)\n",
      "\n",
      "Failed to get job degree: Message: no such element: Unable to locate element: {\"method\":\"css selector\",\"selector\":\".job-list-intro\"}\n",
      "  (Session info: chrome=95.0.4638.69)\n",
      "\n",
      "Failed to get job description: list index out of range\n",
      "Failed to get job area: Message: no such element: Unable to locate element: {\"method\":\"css selector\",\"selector\":\".job-list-intro\"}\n",
      "  (Session info: chrome=95.0.4638.69)\n",
      "\n",
      "Failed to get job experience: Message: no such element: Unable to locate element: {\"method\":\"css selector\",\"selector\":\".job-list-intro\"}\n",
      "  (Session info: chrome=95.0.4638.69)\n",
      "\n",
      "Failed to get job degree: Message: no such element: Unable to locate element: {\"method\":\"css selector\",\"selector\":\".job-list-intro\"}\n",
      "  (Session info: chrome=95.0.4638.69)\n",
      "\n",
      "Failed to get job description: list index out of range\n"
     ]
    },
    {
     "name": "stdout",
     "output_type": "stream",
     "text": [
      "Page 65 with 22 jobs.\n"
     ]
    },
    {
     "name": "stderr",
     "output_type": "stream",
     "text": [
      "Failed to get job area: Message: no such element: Unable to locate element: {\"method\":\"css selector\",\"selector\":\".job-list-intro\"}\n",
      "  (Session info: chrome=95.0.4638.69)\n",
      "\n",
      "Failed to get job experience: Message: no such element: Unable to locate element: {\"method\":\"css selector\",\"selector\":\".job-list-intro\"}\n",
      "  (Session info: chrome=95.0.4638.69)\n",
      "\n",
      "Failed to get job degree: Message: no such element: Unable to locate element: {\"method\":\"css selector\",\"selector\":\".job-list-intro\"}\n",
      "  (Session info: chrome=95.0.4638.69)\n",
      "\n",
      "Failed to get job description: list index out of range\n",
      "Failed to get job area: Message: no such element: Unable to locate element: {\"method\":\"css selector\",\"selector\":\".job-list-intro\"}\n",
      "  (Session info: chrome=95.0.4638.69)\n",
      "\n",
      "Failed to get job experience: Message: no such element: Unable to locate element: {\"method\":\"css selector\",\"selector\":\".job-list-intro\"}\n",
      "  (Session info: chrome=95.0.4638.69)\n",
      "\n",
      "Failed to get job degree: Message: no such element: Unable to locate element: {\"method\":\"css selector\",\"selector\":\".job-list-intro\"}\n",
      "  (Session info: chrome=95.0.4638.69)\n",
      "\n",
      "Failed to get job description: list index out of range\n"
     ]
    },
    {
     "name": "stdout",
     "output_type": "stream",
     "text": [
      "Page 66 with 22 jobs.\n"
     ]
    },
    {
     "name": "stderr",
     "output_type": "stream",
     "text": [
      "Failed to get job area: Message: no such element: Unable to locate element: {\"method\":\"css selector\",\"selector\":\".job-list-intro\"}\n",
      "  (Session info: chrome=95.0.4638.69)\n",
      "\n",
      "Failed to get job experience: Message: no such element: Unable to locate element: {\"method\":\"css selector\",\"selector\":\".job-list-intro\"}\n",
      "  (Session info: chrome=95.0.4638.69)\n",
      "\n",
      "Failed to get job degree: Message: no such element: Unable to locate element: {\"method\":\"css selector\",\"selector\":\".job-list-intro\"}\n",
      "  (Session info: chrome=95.0.4638.69)\n",
      "\n",
      "Failed to get job description: list index out of range\n",
      "Failed to get job area: Message: no such element: Unable to locate element: {\"method\":\"css selector\",\"selector\":\".job-list-intro\"}\n",
      "  (Session info: chrome=95.0.4638.69)\n",
      "\n",
      "Failed to get job experience: Message: no such element: Unable to locate element: {\"method\":\"css selector\",\"selector\":\".job-list-intro\"}\n",
      "  (Session info: chrome=95.0.4638.69)\n",
      "\n",
      "Failed to get job degree: Message: no such element: Unable to locate element: {\"method\":\"css selector\",\"selector\":\".job-list-intro\"}\n",
      "  (Session info: chrome=95.0.4638.69)\n",
      "\n",
      "Failed to get job description: list index out of range\n"
     ]
    },
    {
     "name": "stdout",
     "output_type": "stream",
     "text": [
      "Page 67 with 22 jobs.\n"
     ]
    },
    {
     "name": "stderr",
     "output_type": "stream",
     "text": [
      "Failed to get job area: Message: no such element: Unable to locate element: {\"method\":\"css selector\",\"selector\":\".job-list-intro\"}\n",
      "  (Session info: chrome=95.0.4638.69)\n",
      "\n",
      "Failed to get job experience: Message: no such element: Unable to locate element: {\"method\":\"css selector\",\"selector\":\".job-list-intro\"}\n",
      "  (Session info: chrome=95.0.4638.69)\n",
      "\n",
      "Failed to get job degree: Message: no such element: Unable to locate element: {\"method\":\"css selector\",\"selector\":\".job-list-intro\"}\n",
      "  (Session info: chrome=95.0.4638.69)\n",
      "\n",
      "Failed to get job description: list index out of range\n",
      "Failed to get job area: Message: no such element: Unable to locate element: {\"method\":\"css selector\",\"selector\":\".job-list-intro\"}\n",
      "  (Session info: chrome=95.0.4638.69)\n",
      "\n",
      "Failed to get job experience: Message: no such element: Unable to locate element: {\"method\":\"css selector\",\"selector\":\".job-list-intro\"}\n",
      "  (Session info: chrome=95.0.4638.69)\n",
      "\n",
      "Failed to get job degree: Message: no such element: Unable to locate element: {\"method\":\"css selector\",\"selector\":\".job-list-intro\"}\n",
      "  (Session info: chrome=95.0.4638.69)\n",
      "\n",
      "Failed to get job description: list index out of range\n"
     ]
    },
    {
     "name": "stdout",
     "output_type": "stream",
     "text": [
      "Page 68 with 22 jobs.\n"
     ]
    },
    {
     "name": "stderr",
     "output_type": "stream",
     "text": [
      "Failed to get job area: Message: no such element: Unable to locate element: {\"method\":\"css selector\",\"selector\":\".job-list-intro\"}\n",
      "  (Session info: chrome=95.0.4638.69)\n",
      "\n",
      "Failed to get job experience: Message: no such element: Unable to locate element: {\"method\":\"css selector\",\"selector\":\".job-list-intro\"}\n",
      "  (Session info: chrome=95.0.4638.69)\n",
      "\n",
      "Failed to get job degree: Message: no such element: Unable to locate element: {\"method\":\"css selector\",\"selector\":\".job-list-intro\"}\n",
      "  (Session info: chrome=95.0.4638.69)\n",
      "\n",
      "Failed to get job description: list index out of range\n",
      "Failed to get job area: Message: no such element: Unable to locate element: {\"method\":\"css selector\",\"selector\":\".job-list-intro\"}\n",
      "  (Session info: chrome=95.0.4638.69)\n",
      "\n",
      "Failed to get job experience: Message: no such element: Unable to locate element: {\"method\":\"css selector\",\"selector\":\".job-list-intro\"}\n",
      "  (Session info: chrome=95.0.4638.69)\n",
      "\n",
      "Failed to get job degree: Message: no such element: Unable to locate element: {\"method\":\"css selector\",\"selector\":\".job-list-intro\"}\n",
      "  (Session info: chrome=95.0.4638.69)\n",
      "\n",
      "Failed to get job description: list index out of range\n"
     ]
    },
    {
     "name": "stdout",
     "output_type": "stream",
     "text": [
      "Page 69 with 22 jobs.\n"
     ]
    },
    {
     "name": "stderr",
     "output_type": "stream",
     "text": [
      "Failed to get job area: Message: no such element: Unable to locate element: {\"method\":\"css selector\",\"selector\":\".job-list-intro\"}\n",
      "  (Session info: chrome=95.0.4638.69)\n",
      "\n",
      "Failed to get job experience: Message: no such element: Unable to locate element: {\"method\":\"css selector\",\"selector\":\".job-list-intro\"}\n",
      "  (Session info: chrome=95.0.4638.69)\n",
      "\n",
      "Failed to get job degree: Message: no such element: Unable to locate element: {\"method\":\"css selector\",\"selector\":\".job-list-intro\"}\n",
      "  (Session info: chrome=95.0.4638.69)\n",
      "\n",
      "Failed to get job description: list index out of range\n",
      "Failed to get job area: Message: no such element: Unable to locate element: {\"method\":\"css selector\",\"selector\":\".job-list-intro\"}\n",
      "  (Session info: chrome=95.0.4638.69)\n",
      "\n",
      "Failed to get job experience: Message: no such element: Unable to locate element: {\"method\":\"css selector\",\"selector\":\".job-list-intro\"}\n",
      "  (Session info: chrome=95.0.4638.69)\n",
      "\n",
      "Failed to get job degree: Message: no such element: Unable to locate element: {\"method\":\"css selector\",\"selector\":\".job-list-intro\"}\n",
      "  (Session info: chrome=95.0.4638.69)\n",
      "\n",
      "Failed to get job description: list index out of range\n"
     ]
    },
    {
     "name": "stdout",
     "output_type": "stream",
     "text": [
      "Page 70 with 22 jobs.\n"
     ]
    },
    {
     "name": "stderr",
     "output_type": "stream",
     "text": [
      "Failed to get job area: Message: no such element: Unable to locate element: {\"method\":\"css selector\",\"selector\":\".job-list-intro\"}\n",
      "  (Session info: chrome=95.0.4638.69)\n",
      "\n",
      "Failed to get job experience: Message: no such element: Unable to locate element: {\"method\":\"css selector\",\"selector\":\".job-list-intro\"}\n",
      "  (Session info: chrome=95.0.4638.69)\n",
      "\n",
      "Failed to get job degree: Message: no such element: Unable to locate element: {\"method\":\"css selector\",\"selector\":\".job-list-intro\"}\n",
      "  (Session info: chrome=95.0.4638.69)\n",
      "\n",
      "Failed to get job description: list index out of range\n",
      "Failed to get job area: Message: no such element: Unable to locate element: {\"method\":\"css selector\",\"selector\":\".job-list-intro\"}\n",
      "  (Session info: chrome=95.0.4638.69)\n",
      "\n",
      "Failed to get job experience: Message: no such element: Unable to locate element: {\"method\":\"css selector\",\"selector\":\".job-list-intro\"}\n",
      "  (Session info: chrome=95.0.4638.69)\n",
      "\n",
      "Failed to get job degree: Message: no such element: Unable to locate element: {\"method\":\"css selector\",\"selector\":\".job-list-intro\"}\n",
      "  (Session info: chrome=95.0.4638.69)\n",
      "\n",
      "Failed to get job description: list index out of range\n"
     ]
    },
    {
     "name": "stdout",
     "output_type": "stream",
     "text": [
      "Page 71 with 22 jobs.\n"
     ]
    },
    {
     "name": "stderr",
     "output_type": "stream",
     "text": [
      "Failed to get job area: Message: no such element: Unable to locate element: {\"method\":\"css selector\",\"selector\":\".job-list-intro\"}\n",
      "  (Session info: chrome=95.0.4638.69)\n",
      "\n",
      "Failed to get job experience: Message: no such element: Unable to locate element: {\"method\":\"css selector\",\"selector\":\".job-list-intro\"}\n",
      "  (Session info: chrome=95.0.4638.69)\n",
      "\n",
      "Failed to get job degree: Message: no such element: Unable to locate element: {\"method\":\"css selector\",\"selector\":\".job-list-intro\"}\n",
      "  (Session info: chrome=95.0.4638.69)\n",
      "\n",
      "Failed to get job description: list index out of range\n",
      "Failed to get job area: Message: no such element: Unable to locate element: {\"method\":\"css selector\",\"selector\":\".job-list-intro\"}\n",
      "  (Session info: chrome=95.0.4638.69)\n",
      "\n",
      "Failed to get job experience: Message: no such element: Unable to locate element: {\"method\":\"css selector\",\"selector\":\".job-list-intro\"}\n",
      "  (Session info: chrome=95.0.4638.69)\n",
      "\n",
      "Failed to get job degree: Message: no such element: Unable to locate element: {\"method\":\"css selector\",\"selector\":\".job-list-intro\"}\n",
      "  (Session info: chrome=95.0.4638.69)\n",
      "\n",
      "Failed to get job description: list index out of range\n"
     ]
    },
    {
     "name": "stdout",
     "output_type": "stream",
     "text": [
      "Page 72 with 22 jobs.\n"
     ]
    },
    {
     "name": "stderr",
     "output_type": "stream",
     "text": [
      "Failed to get job description: list index out of range\n",
      "Failed to get job area: Message: no such element: Unable to locate element: {\"method\":\"css selector\",\"selector\":\".job-list-intro\"}\n",
      "  (Session info: chrome=95.0.4638.69)\n",
      "\n",
      "Failed to get job experience: Message: no such element: Unable to locate element: {\"method\":\"css selector\",\"selector\":\".job-list-intro\"}\n",
      "  (Session info: chrome=95.0.4638.69)\n",
      "\n",
      "Failed to get job degree: Message: no such element: Unable to locate element: {\"method\":\"css selector\",\"selector\":\".job-list-intro\"}\n",
      "  (Session info: chrome=95.0.4638.69)\n",
      "\n",
      "Failed to get job description: list index out of range\n",
      "Failed to get job area: Message: no such element: Unable to locate element: {\"method\":\"css selector\",\"selector\":\".job-list-intro\"}\n",
      "  (Session info: chrome=95.0.4638.69)\n",
      "\n",
      "Failed to get job experience: Message: no such element: Unable to locate element: {\"method\":\"css selector\",\"selector\":\".job-list-intro\"}\n",
      "  (Session info: chrome=95.0.4638.69)\n",
      "\n",
      "Failed to get job degree: Message: no such element: Unable to locate element: {\"method\":\"css selector\",\"selector\":\".job-list-intro\"}\n",
      "  (Session info: chrome=95.0.4638.69)\n",
      "\n",
      "Failed to get job description: list index out of range\n"
     ]
    },
    {
     "name": "stdout",
     "output_type": "stream",
     "text": [
      "Page 73 with 22 jobs.\n"
     ]
    },
    {
     "name": "stderr",
     "output_type": "stream",
     "text": [
      "Failed to get job description: list index out of range\n",
      "Failed to get job area: Message: no such element: Unable to locate element: {\"method\":\"css selector\",\"selector\":\".job-list-intro\"}\n",
      "  (Session info: chrome=95.0.4638.69)\n",
      "\n",
      "Failed to get job experience: Message: no such element: Unable to locate element: {\"method\":\"css selector\",\"selector\":\".job-list-intro\"}\n",
      "  (Session info: chrome=95.0.4638.69)\n",
      "\n",
      "Failed to get job degree: Message: no such element: Unable to locate element: {\"method\":\"css selector\",\"selector\":\".job-list-intro\"}\n",
      "  (Session info: chrome=95.0.4638.69)\n",
      "\n",
      "Failed to get job description: list index out of range\n",
      "Failed to get job area: Message: no such element: Unable to locate element: {\"method\":\"css selector\",\"selector\":\".job-list-intro\"}\n",
      "  (Session info: chrome=95.0.4638.69)\n",
      "\n",
      "Failed to get job experience: Message: no such element: Unable to locate element: {\"method\":\"css selector\",\"selector\":\".job-list-intro\"}\n",
      "  (Session info: chrome=95.0.4638.69)\n",
      "\n",
      "Failed to get job degree: Message: no such element: Unable to locate element: {\"method\":\"css selector\",\"selector\":\".job-list-intro\"}\n",
      "  (Session info: chrome=95.0.4638.69)\n",
      "\n",
      "Failed to get job description: list index out of range\n"
     ]
    },
    {
     "name": "stdout",
     "output_type": "stream",
     "text": [
      "Page 74 with 22 jobs.\n"
     ]
    },
    {
     "name": "stderr",
     "output_type": "stream",
     "text": [
      "Failed to get job area: Message: no such element: Unable to locate element: {\"method\":\"css selector\",\"selector\":\".job-list-intro\"}\n",
      "  (Session info: chrome=95.0.4638.69)\n",
      "\n",
      "Failed to get job experience: Message: no such element: Unable to locate element: {\"method\":\"css selector\",\"selector\":\".job-list-intro\"}\n",
      "  (Session info: chrome=95.0.4638.69)\n",
      "\n",
      "Failed to get job degree: Message: no such element: Unable to locate element: {\"method\":\"css selector\",\"selector\":\".job-list-intro\"}\n",
      "  (Session info: chrome=95.0.4638.69)\n",
      "\n",
      "Failed to get job description: list index out of range\n",
      "Failed to get job area: Message: no such element: Unable to locate element: {\"method\":\"css selector\",\"selector\":\".job-list-intro\"}\n",
      "  (Session info: chrome=95.0.4638.69)\n",
      "\n",
      "Failed to get job experience: Message: no such element: Unable to locate element: {\"method\":\"css selector\",\"selector\":\".job-list-intro\"}\n",
      "  (Session info: chrome=95.0.4638.69)\n",
      "\n",
      "Failed to get job degree: Message: no such element: Unable to locate element: {\"method\":\"css selector\",\"selector\":\".job-list-intro\"}\n",
      "  (Session info: chrome=95.0.4638.69)\n",
      "\n",
      "Failed to get job description: list index out of range\n"
     ]
    },
    {
     "name": "stdout",
     "output_type": "stream",
     "text": [
      "Page 75 with 22 jobs.\n"
     ]
    },
    {
     "name": "stderr",
     "output_type": "stream",
     "text": [
      "Failed to get job area: Message: no such element: Unable to locate element: {\"method\":\"css selector\",\"selector\":\".job-list-intro\"}\n",
      "  (Session info: chrome=95.0.4638.69)\n",
      "\n",
      "Failed to get job experience: Message: no such element: Unable to locate element: {\"method\":\"css selector\",\"selector\":\".job-list-intro\"}\n",
      "  (Session info: chrome=95.0.4638.69)\n",
      "\n",
      "Failed to get job degree: Message: no such element: Unable to locate element: {\"method\":\"css selector\",\"selector\":\".job-list-intro\"}\n",
      "  (Session info: chrome=95.0.4638.69)\n",
      "\n",
      "Failed to get job description: list index out of range\n",
      "Failed to get job area: Message: no such element: Unable to locate element: {\"method\":\"css selector\",\"selector\":\".job-list-intro\"}\n",
      "  (Session info: chrome=95.0.4638.69)\n",
      "\n",
      "Failed to get job experience: Message: no such element: Unable to locate element: {\"method\":\"css selector\",\"selector\":\".job-list-intro\"}\n",
      "  (Session info: chrome=95.0.4638.69)\n",
      "\n",
      "Failed to get job degree: Message: no such element: Unable to locate element: {\"method\":\"css selector\",\"selector\":\".job-list-intro\"}\n",
      "  (Session info: chrome=95.0.4638.69)\n",
      "\n",
      "Failed to get job description: list index out of range\n"
     ]
    },
    {
     "name": "stdout",
     "output_type": "stream",
     "text": [
      "Page 76 with 22 jobs.\n"
     ]
    },
    {
     "name": "stderr",
     "output_type": "stream",
     "text": [
      "Failed to get job area: Message: no such element: Unable to locate element: {\"method\":\"css selector\",\"selector\":\".job-list-intro\"}\n",
      "  (Session info: chrome=95.0.4638.69)\n",
      "\n",
      "Failed to get job experience: Message: no such element: Unable to locate element: {\"method\":\"css selector\",\"selector\":\".job-list-intro\"}\n",
      "  (Session info: chrome=95.0.4638.69)\n",
      "\n",
      "Failed to get job degree: Message: no such element: Unable to locate element: {\"method\":\"css selector\",\"selector\":\".job-list-intro\"}\n",
      "  (Session info: chrome=95.0.4638.69)\n",
      "\n",
      "Failed to get job description: list index out of range\n",
      "Failed to get job area: Message: no such element: Unable to locate element: {\"method\":\"css selector\",\"selector\":\".job-list-intro\"}\n",
      "  (Session info: chrome=95.0.4638.69)\n",
      "\n",
      "Failed to get job experience: Message: no such element: Unable to locate element: {\"method\":\"css selector\",\"selector\":\".job-list-intro\"}\n",
      "  (Session info: chrome=95.0.4638.69)\n",
      "\n",
      "Failed to get job degree: Message: no such element: Unable to locate element: {\"method\":\"css selector\",\"selector\":\".job-list-intro\"}\n",
      "  (Session info: chrome=95.0.4638.69)\n",
      "\n",
      "Failed to get job description: list index out of range\n"
     ]
    },
    {
     "name": "stdout",
     "output_type": "stream",
     "text": [
      "Page 77 with 22 jobs.\n"
     ]
    },
    {
     "name": "stderr",
     "output_type": "stream",
     "text": [
      "Failed to get job area: Message: no such element: Unable to locate element: {\"method\":\"css selector\",\"selector\":\".job-list-intro\"}\n",
      "  (Session info: chrome=95.0.4638.69)\n",
      "\n",
      "Failed to get job experience: Message: no such element: Unable to locate element: {\"method\":\"css selector\",\"selector\":\".job-list-intro\"}\n",
      "  (Session info: chrome=95.0.4638.69)\n",
      "\n",
      "Failed to get job degree: Message: no such element: Unable to locate element: {\"method\":\"css selector\",\"selector\":\".job-list-intro\"}\n",
      "  (Session info: chrome=95.0.4638.69)\n",
      "\n",
      "Failed to get job description: list index out of range\n",
      "Failed to get job area: Message: no such element: Unable to locate element: {\"method\":\"css selector\",\"selector\":\".job-list-intro\"}\n",
      "  (Session info: chrome=95.0.4638.69)\n",
      "\n",
      "Failed to get job experience: Message: no such element: Unable to locate element: {\"method\":\"css selector\",\"selector\":\".job-list-intro\"}\n",
      "  (Session info: chrome=95.0.4638.69)\n",
      "\n",
      "Failed to get job degree: Message: no such element: Unable to locate element: {\"method\":\"css selector\",\"selector\":\".job-list-intro\"}\n",
      "  (Session info: chrome=95.0.4638.69)\n",
      "\n",
      "Failed to get job description: list index out of range\n"
     ]
    },
    {
     "name": "stdout",
     "output_type": "stream",
     "text": [
      "Page 78 with 22 jobs.\n"
     ]
    },
    {
     "name": "stderr",
     "output_type": "stream",
     "text": [
      "Failed to get job area: Message: no such element: Unable to locate element: {\"method\":\"css selector\",\"selector\":\".job-list-intro\"}\n",
      "  (Session info: chrome=95.0.4638.69)\n",
      "\n",
      "Failed to get job experience: Message: no such element: Unable to locate element: {\"method\":\"css selector\",\"selector\":\".job-list-intro\"}\n",
      "  (Session info: chrome=95.0.4638.69)\n",
      "\n",
      "Failed to get job degree: Message: no such element: Unable to locate element: {\"method\":\"css selector\",\"selector\":\".job-list-intro\"}\n",
      "  (Session info: chrome=95.0.4638.69)\n",
      "\n",
      "Failed to get job description: list index out of range\n",
      "Failed to get job area: Message: no such element: Unable to locate element: {\"method\":\"css selector\",\"selector\":\".job-list-intro\"}\n",
      "  (Session info: chrome=95.0.4638.69)\n",
      "\n",
      "Failed to get job experience: Message: no such element: Unable to locate element: {\"method\":\"css selector\",\"selector\":\".job-list-intro\"}\n",
      "  (Session info: chrome=95.0.4638.69)\n",
      "\n",
      "Failed to get job degree: Message: no such element: Unable to locate element: {\"method\":\"css selector\",\"selector\":\".job-list-intro\"}\n",
      "  (Session info: chrome=95.0.4638.69)\n",
      "\n",
      "Failed to get job description: list index out of range\n"
     ]
    },
    {
     "name": "stdout",
     "output_type": "stream",
     "text": [
      "Page 79 with 22 jobs.\n"
     ]
    },
    {
     "name": "stderr",
     "output_type": "stream",
     "text": [
      "Failed to get job area: Message: no such element: Unable to locate element: {\"method\":\"css selector\",\"selector\":\".job-list-intro\"}\n",
      "  (Session info: chrome=95.0.4638.69)\n",
      "\n",
      "Failed to get job experience: Message: no such element: Unable to locate element: {\"method\":\"css selector\",\"selector\":\".job-list-intro\"}\n",
      "  (Session info: chrome=95.0.4638.69)\n",
      "\n",
      "Failed to get job degree: Message: no such element: Unable to locate element: {\"method\":\"css selector\",\"selector\":\".job-list-intro\"}\n",
      "  (Session info: chrome=95.0.4638.69)\n",
      "\n",
      "Failed to get job description: list index out of range\n",
      "Failed to get job area: Message: no such element: Unable to locate element: {\"method\":\"css selector\",\"selector\":\".job-list-intro\"}\n",
      "  (Session info: chrome=95.0.4638.69)\n",
      "\n",
      "Failed to get job experience: Message: no such element: Unable to locate element: {\"method\":\"css selector\",\"selector\":\".job-list-intro\"}\n",
      "  (Session info: chrome=95.0.4638.69)\n",
      "\n",
      "Failed to get job degree: Message: no such element: Unable to locate element: {\"method\":\"css selector\",\"selector\":\".job-list-intro\"}\n",
      "  (Session info: chrome=95.0.4638.69)\n",
      "\n",
      "Failed to get job description: list index out of range\n"
     ]
    },
    {
     "name": "stdout",
     "output_type": "stream",
     "text": [
      "Page 80 with 22 jobs.\n"
     ]
    },
    {
     "name": "stderr",
     "output_type": "stream",
     "text": [
      "Failed to get job area: Message: no such element: Unable to locate element: {\"method\":\"css selector\",\"selector\":\".job-list-intro\"}\n",
      "  (Session info: chrome=95.0.4638.69)\n",
      "\n",
      "Failed to get job experience: Message: no such element: Unable to locate element: {\"method\":\"css selector\",\"selector\":\".job-list-intro\"}\n",
      "  (Session info: chrome=95.0.4638.69)\n",
      "\n",
      "Failed to get job degree: Message: no such element: Unable to locate element: {\"method\":\"css selector\",\"selector\":\".job-list-intro\"}\n",
      "  (Session info: chrome=95.0.4638.69)\n",
      "\n",
      "Failed to get job description: list index out of range\n",
      "Failed to get job area: Message: no such element: Unable to locate element: {\"method\":\"css selector\",\"selector\":\".job-list-intro\"}\n",
      "  (Session info: chrome=95.0.4638.69)\n",
      "\n",
      "Failed to get job experience: Message: no such element: Unable to locate element: {\"method\":\"css selector\",\"selector\":\".job-list-intro\"}\n",
      "  (Session info: chrome=95.0.4638.69)\n",
      "\n",
      "Failed to get job degree: Message: no such element: Unable to locate element: {\"method\":\"css selector\",\"selector\":\".job-list-intro\"}\n",
      "  (Session info: chrome=95.0.4638.69)\n",
      "\n",
      "Failed to get job description: list index out of range\n"
     ]
    },
    {
     "name": "stdout",
     "output_type": "stream",
     "text": [
      "Page 81 with 22 jobs.\n"
     ]
    },
    {
     "name": "stderr",
     "output_type": "stream",
     "text": [
      "Failed to get job area: Message: no such element: Unable to locate element: {\"method\":\"css selector\",\"selector\":\".job-list-intro\"}\n",
      "  (Session info: chrome=95.0.4638.69)\n",
      "\n",
      "Failed to get job experience: Message: no such element: Unable to locate element: {\"method\":\"css selector\",\"selector\":\".job-list-intro\"}\n",
      "  (Session info: chrome=95.0.4638.69)\n",
      "\n",
      "Failed to get job degree: Message: no such element: Unable to locate element: {\"method\":\"css selector\",\"selector\":\".job-list-intro\"}\n",
      "  (Session info: chrome=95.0.4638.69)\n",
      "\n",
      "Failed to get job description: list index out of range\n",
      "Failed to get job area: Message: no such element: Unable to locate element: {\"method\":\"css selector\",\"selector\":\".job-list-intro\"}\n",
      "  (Session info: chrome=95.0.4638.69)\n",
      "\n",
      "Failed to get job experience: Message: no such element: Unable to locate element: {\"method\":\"css selector\",\"selector\":\".job-list-intro\"}\n",
      "  (Session info: chrome=95.0.4638.69)\n",
      "\n",
      "Failed to get job degree: Message: no such element: Unable to locate element: {\"method\":\"css selector\",\"selector\":\".job-list-intro\"}\n",
      "  (Session info: chrome=95.0.4638.69)\n",
      "\n",
      "Failed to get job description: list index out of range\n"
     ]
    },
    {
     "name": "stdout",
     "output_type": "stream",
     "text": [
      "Page 82 with 22 jobs.\n"
     ]
    },
    {
     "name": "stderr",
     "output_type": "stream",
     "text": [
      "Failed to get job area: Message: no such element: Unable to locate element: {\"method\":\"css selector\",\"selector\":\".job-list-intro\"}\n",
      "  (Session info: chrome=95.0.4638.69)\n",
      "\n",
      "Failed to get job experience: Message: no such element: Unable to locate element: {\"method\":\"css selector\",\"selector\":\".job-list-intro\"}\n",
      "  (Session info: chrome=95.0.4638.69)\n",
      "\n",
      "Failed to get job degree: Message: no such element: Unable to locate element: {\"method\":\"css selector\",\"selector\":\".job-list-intro\"}\n",
      "  (Session info: chrome=95.0.4638.69)\n",
      "\n",
      "Failed to get job description: list index out of range\n",
      "Failed to get job area: Message: no such element: Unable to locate element: {\"method\":\"css selector\",\"selector\":\".job-list-intro\"}\n",
      "  (Session info: chrome=95.0.4638.69)\n",
      "\n",
      "Failed to get job experience: Message: no such element: Unable to locate element: {\"method\":\"css selector\",\"selector\":\".job-list-intro\"}\n",
      "  (Session info: chrome=95.0.4638.69)\n",
      "\n",
      "Failed to get job degree: Message: no such element: Unable to locate element: {\"method\":\"css selector\",\"selector\":\".job-list-intro\"}\n",
      "  (Session info: chrome=95.0.4638.69)\n",
      "\n",
      "Failed to get job description: list index out of range\n"
     ]
    },
    {
     "name": "stdout",
     "output_type": "stream",
     "text": [
      "Page 83 with 22 jobs.\n"
     ]
    },
    {
     "name": "stderr",
     "output_type": "stream",
     "text": [
      "Failed to get job area: Message: no such element: Unable to locate element: {\"method\":\"css selector\",\"selector\":\".job-list-intro\"}\n",
      "  (Session info: chrome=95.0.4638.69)\n",
      "\n",
      "Failed to get job experience: Message: no such element: Unable to locate element: {\"method\":\"css selector\",\"selector\":\".job-list-intro\"}\n",
      "  (Session info: chrome=95.0.4638.69)\n",
      "\n",
      "Failed to get job degree: Message: no such element: Unable to locate element: {\"method\":\"css selector\",\"selector\":\".job-list-intro\"}\n",
      "  (Session info: chrome=95.0.4638.69)\n",
      "\n",
      "Failed to get job description: list index out of range\n",
      "Failed to get job area: Message: no such element: Unable to locate element: {\"method\":\"css selector\",\"selector\":\".job-list-intro\"}\n",
      "  (Session info: chrome=95.0.4638.69)\n",
      "\n",
      "Failed to get job experience: Message: no such element: Unable to locate element: {\"method\":\"css selector\",\"selector\":\".job-list-intro\"}\n",
      "  (Session info: chrome=95.0.4638.69)\n",
      "\n",
      "Failed to get job degree: Message: no such element: Unable to locate element: {\"method\":\"css selector\",\"selector\":\".job-list-intro\"}\n",
      "  (Session info: chrome=95.0.4638.69)\n",
      "\n",
      "Failed to get job description: list index out of range\n"
     ]
    },
    {
     "name": "stdout",
     "output_type": "stream",
     "text": [
      "Page 84 with 22 jobs.\n"
     ]
    },
    {
     "name": "stderr",
     "output_type": "stream",
     "text": [
      "Failed to get job area: Message: no such element: Unable to locate element: {\"method\":\"css selector\",\"selector\":\".job-list-intro\"}\n",
      "  (Session info: chrome=95.0.4638.69)\n",
      "\n",
      "Failed to get job experience: Message: no such element: Unable to locate element: {\"method\":\"css selector\",\"selector\":\".job-list-intro\"}\n",
      "  (Session info: chrome=95.0.4638.69)\n",
      "\n",
      "Failed to get job degree: Message: no such element: Unable to locate element: {\"method\":\"css selector\",\"selector\":\".job-list-intro\"}\n",
      "  (Session info: chrome=95.0.4638.69)\n",
      "\n",
      "Failed to get job description: list index out of range\n",
      "Failed to get job area: Message: no such element: Unable to locate element: {\"method\":\"css selector\",\"selector\":\".job-list-intro\"}\n",
      "  (Session info: chrome=95.0.4638.69)\n",
      "\n",
      "Failed to get job experience: Message: no such element: Unable to locate element: {\"method\":\"css selector\",\"selector\":\".job-list-intro\"}\n",
      "  (Session info: chrome=95.0.4638.69)\n",
      "\n",
      "Failed to get job degree: Message: no such element: Unable to locate element: {\"method\":\"css selector\",\"selector\":\".job-list-intro\"}\n",
      "  (Session info: chrome=95.0.4638.69)\n",
      "\n",
      "Failed to get job description: list index out of range\n"
     ]
    },
    {
     "name": "stdout",
     "output_type": "stream",
     "text": [
      "Page 85 with 22 jobs.\n"
     ]
    },
    {
     "name": "stderr",
     "output_type": "stream",
     "text": [
      "Failed to get job area: Message: no such element: Unable to locate element: {\"method\":\"css selector\",\"selector\":\".job-list-intro\"}\n",
      "  (Session info: chrome=95.0.4638.69)\n",
      "\n",
      "Failed to get job experience: Message: no such element: Unable to locate element: {\"method\":\"css selector\",\"selector\":\".job-list-intro\"}\n",
      "  (Session info: chrome=95.0.4638.69)\n",
      "\n",
      "Failed to get job degree: Message: no such element: Unable to locate element: {\"method\":\"css selector\",\"selector\":\".job-list-intro\"}\n",
      "  (Session info: chrome=95.0.4638.69)\n",
      "\n",
      "Failed to get job description: list index out of range\n",
      "Failed to get job area: Message: no such element: Unable to locate element: {\"method\":\"css selector\",\"selector\":\".job-list-intro\"}\n",
      "  (Session info: chrome=95.0.4638.69)\n",
      "\n",
      "Failed to get job experience: Message: no such element: Unable to locate element: {\"method\":\"css selector\",\"selector\":\".job-list-intro\"}\n",
      "  (Session info: chrome=95.0.4638.69)\n",
      "\n",
      "Failed to get job degree: Message: no such element: Unable to locate element: {\"method\":\"css selector\",\"selector\":\".job-list-intro\"}\n",
      "  (Session info: chrome=95.0.4638.69)\n",
      "\n",
      "Failed to get job description: list index out of range\n"
     ]
    },
    {
     "name": "stdout",
     "output_type": "stream",
     "text": [
      "Page 86 with 22 jobs.\n"
     ]
    },
    {
     "name": "stderr",
     "output_type": "stream",
     "text": [
      "Failed to get job area: Message: no such element: Unable to locate element: {\"method\":\"css selector\",\"selector\":\".job-list-intro\"}\n",
      "  (Session info: chrome=95.0.4638.69)\n",
      "\n",
      "Failed to get job experience: Message: no such element: Unable to locate element: {\"method\":\"css selector\",\"selector\":\".job-list-intro\"}\n",
      "  (Session info: chrome=95.0.4638.69)\n",
      "\n",
      "Failed to get job degree: Message: no such element: Unable to locate element: {\"method\":\"css selector\",\"selector\":\".job-list-intro\"}\n",
      "  (Session info: chrome=95.0.4638.69)\n",
      "\n",
      "Failed to get job description: list index out of range\n",
      "Failed to get job area: Message: no such element: Unable to locate element: {\"method\":\"css selector\",\"selector\":\".job-list-intro\"}\n",
      "  (Session info: chrome=95.0.4638.69)\n",
      "\n",
      "Failed to get job experience: Message: no such element: Unable to locate element: {\"method\":\"css selector\",\"selector\":\".job-list-intro\"}\n",
      "  (Session info: chrome=95.0.4638.69)\n",
      "\n",
      "Failed to get job degree: Message: no such element: Unable to locate element: {\"method\":\"css selector\",\"selector\":\".job-list-intro\"}\n",
      "  (Session info: chrome=95.0.4638.69)\n",
      "\n",
      "Failed to get job description: list index out of range\n"
     ]
    },
    {
     "name": "stdout",
     "output_type": "stream",
     "text": [
      "Page 87 with 22 jobs.\n"
     ]
    },
    {
     "name": "stderr",
     "output_type": "stream",
     "text": [
      "Failed to get job area: Message: no such element: Unable to locate element: {\"method\":\"css selector\",\"selector\":\".job-list-intro\"}\n",
      "  (Session info: chrome=95.0.4638.69)\n",
      "\n",
      "Failed to get job experience: Message: no such element: Unable to locate element: {\"method\":\"css selector\",\"selector\":\".job-list-intro\"}\n",
      "  (Session info: chrome=95.0.4638.69)\n",
      "\n",
      "Failed to get job degree: Message: no such element: Unable to locate element: {\"method\":\"css selector\",\"selector\":\".job-list-intro\"}\n",
      "  (Session info: chrome=95.0.4638.69)\n",
      "\n",
      "Failed to get job description: list index out of range\n",
      "Failed to get job area: Message: no such element: Unable to locate element: {\"method\":\"css selector\",\"selector\":\".job-list-intro\"}\n",
      "  (Session info: chrome=95.0.4638.69)\n",
      "\n",
      "Failed to get job experience: Message: no such element: Unable to locate element: {\"method\":\"css selector\",\"selector\":\".job-list-intro\"}\n",
      "  (Session info: chrome=95.0.4638.69)\n",
      "\n",
      "Failed to get job degree: Message: no such element: Unable to locate element: {\"method\":\"css selector\",\"selector\":\".job-list-intro\"}\n",
      "  (Session info: chrome=95.0.4638.69)\n",
      "\n",
      "Failed to get job description: list index out of range\n"
     ]
    },
    {
     "name": "stdout",
     "output_type": "stream",
     "text": [
      "Page 88 with 22 jobs.\n"
     ]
    },
    {
     "name": "stderr",
     "output_type": "stream",
     "text": [
      "Failed to get job area: Message: no such element: Unable to locate element: {\"method\":\"css selector\",\"selector\":\".job-list-intro\"}\n",
      "  (Session info: chrome=95.0.4638.69)\n",
      "\n",
      "Failed to get job experience: Message: no such element: Unable to locate element: {\"method\":\"css selector\",\"selector\":\".job-list-intro\"}\n",
      "  (Session info: chrome=95.0.4638.69)\n",
      "\n",
      "Failed to get job degree: Message: no such element: Unable to locate element: {\"method\":\"css selector\",\"selector\":\".job-list-intro\"}\n",
      "  (Session info: chrome=95.0.4638.69)\n",
      "\n",
      "Failed to get job description: list index out of range\n",
      "Failed to get job area: Message: no such element: Unable to locate element: {\"method\":\"css selector\",\"selector\":\".job-list-intro\"}\n",
      "  (Session info: chrome=95.0.4638.69)\n",
      "\n",
      "Failed to get job experience: Message: no such element: Unable to locate element: {\"method\":\"css selector\",\"selector\":\".job-list-intro\"}\n",
      "  (Session info: chrome=95.0.4638.69)\n",
      "\n",
      "Failed to get job degree: Message: no such element: Unable to locate element: {\"method\":\"css selector\",\"selector\":\".job-list-intro\"}\n",
      "  (Session info: chrome=95.0.4638.69)\n",
      "\n",
      "Failed to get job description: list index out of range\n"
     ]
    },
    {
     "name": "stdout",
     "output_type": "stream",
     "text": [
      "Page 89 with 22 jobs.\n"
     ]
    },
    {
     "name": "stderr",
     "output_type": "stream",
     "text": [
      "Failed to get job area: Message: no such element: Unable to locate element: {\"method\":\"css selector\",\"selector\":\".job-list-intro\"}\n",
      "  (Session info: chrome=95.0.4638.69)\n",
      "\n",
      "Failed to get job experience: Message: no such element: Unable to locate element: {\"method\":\"css selector\",\"selector\":\".job-list-intro\"}\n",
      "  (Session info: chrome=95.0.4638.69)\n",
      "\n",
      "Failed to get job degree: Message: no such element: Unable to locate element: {\"method\":\"css selector\",\"selector\":\".job-list-intro\"}\n",
      "  (Session info: chrome=95.0.4638.69)\n",
      "\n",
      "Failed to get job description: list index out of range\n",
      "Failed to get job area: Message: no such element: Unable to locate element: {\"method\":\"css selector\",\"selector\":\".job-list-intro\"}\n",
      "  (Session info: chrome=95.0.4638.69)\n",
      "\n",
      "Failed to get job experience: Message: no such element: Unable to locate element: {\"method\":\"css selector\",\"selector\":\".job-list-intro\"}\n",
      "  (Session info: chrome=95.0.4638.69)\n",
      "\n",
      "Failed to get job degree: Message: no such element: Unable to locate element: {\"method\":\"css selector\",\"selector\":\".job-list-intro\"}\n",
      "  (Session info: chrome=95.0.4638.69)\n",
      "\n",
      "Failed to get job description: list index out of range\n"
     ]
    },
    {
     "name": "stdout",
     "output_type": "stream",
     "text": [
      "Page 90 with 22 jobs.\n"
     ]
    },
    {
     "name": "stderr",
     "output_type": "stream",
     "text": [
      "Failed to get job area: Message: no such element: Unable to locate element: {\"method\":\"css selector\",\"selector\":\".job-list-intro\"}\n",
      "  (Session info: chrome=95.0.4638.69)\n",
      "\n",
      "Failed to get job experience: Message: no such element: Unable to locate element: {\"method\":\"css selector\",\"selector\":\".job-list-intro\"}\n",
      "  (Session info: chrome=95.0.4638.69)\n",
      "\n",
      "Failed to get job degree: Message: no such element: Unable to locate element: {\"method\":\"css selector\",\"selector\":\".job-list-intro\"}\n",
      "  (Session info: chrome=95.0.4638.69)\n",
      "\n",
      "Failed to get job description: list index out of range\n",
      "Failed to get job area: Message: no such element: Unable to locate element: {\"method\":\"css selector\",\"selector\":\".job-list-intro\"}\n",
      "  (Session info: chrome=95.0.4638.69)\n",
      "\n",
      "Failed to get job experience: Message: no such element: Unable to locate element: {\"method\":\"css selector\",\"selector\":\".job-list-intro\"}\n",
      "  (Session info: chrome=95.0.4638.69)\n",
      "\n",
      "Failed to get job degree: Message: no such element: Unable to locate element: {\"method\":\"css selector\",\"selector\":\".job-list-intro\"}\n",
      "  (Session info: chrome=95.0.4638.69)\n",
      "\n",
      "Failed to get job description: list index out of range\n"
     ]
    },
    {
     "name": "stdout",
     "output_type": "stream",
     "text": [
      "Page 91 with 22 jobs.\n"
     ]
    },
    {
     "name": "stderr",
     "output_type": "stream",
     "text": [
      "Failed to get job area: Message: no such element: Unable to locate element: {\"method\":\"css selector\",\"selector\":\".job-list-intro\"}\n",
      "  (Session info: chrome=95.0.4638.69)\n",
      "\n",
      "Failed to get job experience: Message: no such element: Unable to locate element: {\"method\":\"css selector\",\"selector\":\".job-list-intro\"}\n",
      "  (Session info: chrome=95.0.4638.69)\n",
      "\n",
      "Failed to get job degree: Message: no such element: Unable to locate element: {\"method\":\"css selector\",\"selector\":\".job-list-intro\"}\n",
      "  (Session info: chrome=95.0.4638.69)\n",
      "\n",
      "Failed to get job description: list index out of range\n",
      "Failed to get job area: Message: no such element: Unable to locate element: {\"method\":\"css selector\",\"selector\":\".job-list-intro\"}\n",
      "  (Session info: chrome=95.0.4638.69)\n",
      "\n",
      "Failed to get job experience: Message: no such element: Unable to locate element: {\"method\":\"css selector\",\"selector\":\".job-list-intro\"}\n",
      "  (Session info: chrome=95.0.4638.69)\n",
      "\n",
      "Failed to get job degree: Message: no such element: Unable to locate element: {\"method\":\"css selector\",\"selector\":\".job-list-intro\"}\n",
      "  (Session info: chrome=95.0.4638.69)\n",
      "\n",
      "Failed to get job description: list index out of range\n"
     ]
    },
    {
     "name": "stdout",
     "output_type": "stream",
     "text": [
      "Page 92 with 22 jobs.\n"
     ]
    },
    {
     "name": "stderr",
     "output_type": "stream",
     "text": [
      "Failed to get job area: Message: no such element: Unable to locate element: {\"method\":\"css selector\",\"selector\":\".job-list-intro\"}\n",
      "  (Session info: chrome=95.0.4638.69)\n",
      "\n",
      "Failed to get job experience: Message: no such element: Unable to locate element: {\"method\":\"css selector\",\"selector\":\".job-list-intro\"}\n",
      "  (Session info: chrome=95.0.4638.69)\n",
      "\n",
      "Failed to get job degree: Message: no such element: Unable to locate element: {\"method\":\"css selector\",\"selector\":\".job-list-intro\"}\n",
      "  (Session info: chrome=95.0.4638.69)\n",
      "\n",
      "Failed to get job description: list index out of range\n",
      "Failed to get job area: Message: no such element: Unable to locate element: {\"method\":\"css selector\",\"selector\":\".job-list-intro\"}\n",
      "  (Session info: chrome=95.0.4638.69)\n",
      "\n",
      "Failed to get job experience: Message: no such element: Unable to locate element: {\"method\":\"css selector\",\"selector\":\".job-list-intro\"}\n",
      "  (Session info: chrome=95.0.4638.69)\n",
      "\n",
      "Failed to get job degree: Message: no such element: Unable to locate element: {\"method\":\"css selector\",\"selector\":\".job-list-intro\"}\n",
      "  (Session info: chrome=95.0.4638.69)\n",
      "\n",
      "Failed to get job description: list index out of range\n"
     ]
    },
    {
     "name": "stdout",
     "output_type": "stream",
     "text": [
      "Page 93 with 22 jobs.\n"
     ]
    },
    {
     "name": "stderr",
     "output_type": "stream",
     "text": [
      "Failed to get job area: Message: no such element: Unable to locate element: {\"method\":\"css selector\",\"selector\":\".job-list-intro\"}\n",
      "  (Session info: chrome=95.0.4638.69)\n",
      "\n",
      "Failed to get job experience: Message: no such element: Unable to locate element: {\"method\":\"css selector\",\"selector\":\".job-list-intro\"}\n",
      "  (Session info: chrome=95.0.4638.69)\n",
      "\n",
      "Failed to get job degree: Message: no such element: Unable to locate element: {\"method\":\"css selector\",\"selector\":\".job-list-intro\"}\n",
      "  (Session info: chrome=95.0.4638.69)\n",
      "\n",
      "Failed to get job description: list index out of range\n",
      "Failed to get job area: Message: no such element: Unable to locate element: {\"method\":\"css selector\",\"selector\":\".job-list-intro\"}\n",
      "  (Session info: chrome=95.0.4638.69)\n",
      "\n",
      "Failed to get job experience: Message: no such element: Unable to locate element: {\"method\":\"css selector\",\"selector\":\".job-list-intro\"}\n",
      "  (Session info: chrome=95.0.4638.69)\n",
      "\n",
      "Failed to get job degree: Message: no such element: Unable to locate element: {\"method\":\"css selector\",\"selector\":\".job-list-intro\"}\n",
      "  (Session info: chrome=95.0.4638.69)\n",
      "\n",
      "Failed to get job description: list index out of range\n"
     ]
    },
    {
     "name": "stdout",
     "output_type": "stream",
     "text": [
      "Page 94 with 22 jobs.\n"
     ]
    },
    {
     "name": "stderr",
     "output_type": "stream",
     "text": [
      "Failed to get job area: Message: no such element: Unable to locate element: {\"method\":\"css selector\",\"selector\":\".job-list-intro\"}\n",
      "  (Session info: chrome=95.0.4638.69)\n",
      "\n",
      "Failed to get job experience: Message: no such element: Unable to locate element: {\"method\":\"css selector\",\"selector\":\".job-list-intro\"}\n",
      "  (Session info: chrome=95.0.4638.69)\n",
      "\n",
      "Failed to get job degree: Message: no such element: Unable to locate element: {\"method\":\"css selector\",\"selector\":\".job-list-intro\"}\n",
      "  (Session info: chrome=95.0.4638.69)\n",
      "\n",
      "Failed to get job description: list index out of range\n",
      "Failed to get job area: Message: no such element: Unable to locate element: {\"method\":\"css selector\",\"selector\":\".job-list-intro\"}\n",
      "  (Session info: chrome=95.0.4638.69)\n",
      "\n",
      "Failed to get job experience: Message: no such element: Unable to locate element: {\"method\":\"css selector\",\"selector\":\".job-list-intro\"}\n",
      "  (Session info: chrome=95.0.4638.69)\n",
      "\n",
      "Failed to get job degree: Message: no such element: Unable to locate element: {\"method\":\"css selector\",\"selector\":\".job-list-intro\"}\n",
      "  (Session info: chrome=95.0.4638.69)\n",
      "\n",
      "Failed to get job description: list index out of range\n"
     ]
    },
    {
     "name": "stdout",
     "output_type": "stream",
     "text": [
      "Page 95 with 22 jobs.\n"
     ]
    },
    {
     "name": "stderr",
     "output_type": "stream",
     "text": [
      "Failed to get job area: Message: no such element: Unable to locate element: {\"method\":\"css selector\",\"selector\":\".job-list-intro\"}\n",
      "  (Session info: chrome=95.0.4638.69)\n",
      "\n",
      "Failed to get job experience: Message: no such element: Unable to locate element: {\"method\":\"css selector\",\"selector\":\".job-list-intro\"}\n",
      "  (Session info: chrome=95.0.4638.69)\n",
      "\n",
      "Failed to get job degree: Message: no such element: Unable to locate element: {\"method\":\"css selector\",\"selector\":\".job-list-intro\"}\n",
      "  (Session info: chrome=95.0.4638.69)\n",
      "\n",
      "Failed to get job description: list index out of range\n",
      "Failed to get job area: Message: no such element: Unable to locate element: {\"method\":\"css selector\",\"selector\":\".job-list-intro\"}\n",
      "  (Session info: chrome=95.0.4638.69)\n",
      "\n",
      "Failed to get job experience: Message: no such element: Unable to locate element: {\"method\":\"css selector\",\"selector\":\".job-list-intro\"}\n",
      "  (Session info: chrome=95.0.4638.69)\n",
      "\n",
      "Failed to get job degree: Message: no such element: Unable to locate element: {\"method\":\"css selector\",\"selector\":\".job-list-intro\"}\n",
      "  (Session info: chrome=95.0.4638.69)\n",
      "\n",
      "Failed to get job description: list index out of range\n"
     ]
    },
    {
     "name": "stdout",
     "output_type": "stream",
     "text": [
      "Page 96 with 22 jobs.\n"
     ]
    },
    {
     "name": "stderr",
     "output_type": "stream",
     "text": [
      "Failed to get job area: Message: no such element: Unable to locate element: {\"method\":\"css selector\",\"selector\":\".job-list-intro\"}\n",
      "  (Session info: chrome=95.0.4638.69)\n",
      "\n",
      "Failed to get job experience: Message: no such element: Unable to locate element: {\"method\":\"css selector\",\"selector\":\".job-list-intro\"}\n",
      "  (Session info: chrome=95.0.4638.69)\n",
      "\n",
      "Failed to get job degree: Message: no such element: Unable to locate element: {\"method\":\"css selector\",\"selector\":\".job-list-intro\"}\n",
      "  (Session info: chrome=95.0.4638.69)\n",
      "\n",
      "Failed to get job description: list index out of range\n",
      "Failed to get job area: Message: no such element: Unable to locate element: {\"method\":\"css selector\",\"selector\":\".job-list-intro\"}\n",
      "  (Session info: chrome=95.0.4638.69)\n",
      "\n",
      "Failed to get job experience: Message: no such element: Unable to locate element: {\"method\":\"css selector\",\"selector\":\".job-list-intro\"}\n",
      "  (Session info: chrome=95.0.4638.69)\n",
      "\n",
      "Failed to get job degree: Message: no such element: Unable to locate element: {\"method\":\"css selector\",\"selector\":\".job-list-intro\"}\n",
      "  (Session info: chrome=95.0.4638.69)\n",
      "\n",
      "Failed to get job description: list index out of range\n"
     ]
    },
    {
     "name": "stdout",
     "output_type": "stream",
     "text": [
      "Page 97 with 22 jobs.\n"
     ]
    },
    {
     "name": "stderr",
     "output_type": "stream",
     "text": [
      "Failed to get job area: Message: no such element: Unable to locate element: {\"method\":\"css selector\",\"selector\":\".job-list-intro\"}\n",
      "  (Session info: chrome=95.0.4638.69)\n",
      "\n",
      "Failed to get job experience: Message: no such element: Unable to locate element: {\"method\":\"css selector\",\"selector\":\".job-list-intro\"}\n",
      "  (Session info: chrome=95.0.4638.69)\n",
      "\n",
      "Failed to get job degree: Message: no such element: Unable to locate element: {\"method\":\"css selector\",\"selector\":\".job-list-intro\"}\n",
      "  (Session info: chrome=95.0.4638.69)\n",
      "\n",
      "Failed to get job description: list index out of range\n",
      "Failed to get job area: Message: no such element: Unable to locate element: {\"method\":\"css selector\",\"selector\":\".job-list-intro\"}\n",
      "  (Session info: chrome=95.0.4638.69)\n",
      "\n",
      "Failed to get job experience: Message: no such element: Unable to locate element: {\"method\":\"css selector\",\"selector\":\".job-list-intro\"}\n",
      "  (Session info: chrome=95.0.4638.69)\n",
      "\n",
      "Failed to get job degree: Message: no such element: Unable to locate element: {\"method\":\"css selector\",\"selector\":\".job-list-intro\"}\n",
      "  (Session info: chrome=95.0.4638.69)\n",
      "\n",
      "Failed to get job description: list index out of range\n"
     ]
    },
    {
     "name": "stdout",
     "output_type": "stream",
     "text": [
      "Page 98 with 22 jobs.\n"
     ]
    },
    {
     "name": "stderr",
     "output_type": "stream",
     "text": [
      "Failed to get job area: Message: no such element: Unable to locate element: {\"method\":\"css selector\",\"selector\":\".job-list-intro\"}\n",
      "  (Session info: chrome=95.0.4638.69)\n",
      "\n",
      "Failed to get job experience: Message: no such element: Unable to locate element: {\"method\":\"css selector\",\"selector\":\".job-list-intro\"}\n",
      "  (Session info: chrome=95.0.4638.69)\n",
      "\n",
      "Failed to get job degree: Message: no such element: Unable to locate element: {\"method\":\"css selector\",\"selector\":\".job-list-intro\"}\n",
      "  (Session info: chrome=95.0.4638.69)\n",
      "\n",
      "Failed to get job description: list index out of range\n",
      "Failed to get job area: Message: no such element: Unable to locate element: {\"method\":\"css selector\",\"selector\":\".job-list-intro\"}\n",
      "  (Session info: chrome=95.0.4638.69)\n",
      "\n",
      "Failed to get job experience: Message: no such element: Unable to locate element: {\"method\":\"css selector\",\"selector\":\".job-list-intro\"}\n",
      "  (Session info: chrome=95.0.4638.69)\n",
      "\n",
      "Failed to get job degree: Message: no such element: Unable to locate element: {\"method\":\"css selector\",\"selector\":\".job-list-intro\"}\n",
      "  (Session info: chrome=95.0.4638.69)\n",
      "\n",
      "Failed to get job description: list index out of range\n"
     ]
    },
    {
     "name": "stdout",
     "output_type": "stream",
     "text": [
      "Page 99 with 22 jobs.\n"
     ]
    },
    {
     "name": "stderr",
     "output_type": "stream",
     "text": [
      "Failed to get job area: Message: no such element: Unable to locate element: {\"method\":\"css selector\",\"selector\":\".job-list-intro\"}\n",
      "  (Session info: chrome=95.0.4638.69)\n",
      "\n",
      "Failed to get job experience: Message: no such element: Unable to locate element: {\"method\":\"css selector\",\"selector\":\".job-list-intro\"}\n",
      "  (Session info: chrome=95.0.4638.69)\n",
      "\n",
      "Failed to get job degree: Message: no such element: Unable to locate element: {\"method\":\"css selector\",\"selector\":\".job-list-intro\"}\n",
      "  (Session info: chrome=95.0.4638.69)\n",
      "\n",
      "Failed to get job description: list index out of range\n",
      "Failed to get job area: Message: no such element: Unable to locate element: {\"method\":\"css selector\",\"selector\":\".job-list-intro\"}\n",
      "  (Session info: chrome=95.0.4638.69)\n",
      "\n",
      "Failed to get job experience: Message: no such element: Unable to locate element: {\"method\":\"css selector\",\"selector\":\".job-list-intro\"}\n",
      "  (Session info: chrome=95.0.4638.69)\n",
      "\n",
      "Failed to get job degree: Message: no such element: Unable to locate element: {\"method\":\"css selector\",\"selector\":\".job-list-intro\"}\n",
      "  (Session info: chrome=95.0.4638.69)\n",
      "\n",
      "Failed to get job description: list index out of range\n"
     ]
    },
    {
     "name": "stdout",
     "output_type": "stream",
     "text": [
      "Page 100 with 22 jobs.\n"
     ]
    },
    {
     "name": "stderr",
     "output_type": "stream",
     "text": [
      "Failed to get job area: Message: no such element: Unable to locate element: {\"method\":\"css selector\",\"selector\":\".job-list-intro\"}\n",
      "  (Session info: chrome=95.0.4638.69)\n",
      "\n",
      "Failed to get job experience: Message: no such element: Unable to locate element: {\"method\":\"css selector\",\"selector\":\".job-list-intro\"}\n",
      "  (Session info: chrome=95.0.4638.69)\n",
      "\n",
      "Failed to get job degree: Message: no such element: Unable to locate element: {\"method\":\"css selector\",\"selector\":\".job-list-intro\"}\n",
      "  (Session info: chrome=95.0.4638.69)\n",
      "\n",
      "Failed to get job description: list index out of range\n",
      "Failed to get job area: Message: no such element: Unable to locate element: {\"method\":\"css selector\",\"selector\":\".job-list-intro\"}\n",
      "  (Session info: chrome=95.0.4638.69)\n",
      "\n",
      "Failed to get job experience: Message: no such element: Unable to locate element: {\"method\":\"css selector\",\"selector\":\".job-list-intro\"}\n",
      "  (Session info: chrome=95.0.4638.69)\n",
      "\n",
      "Failed to get job degree: Message: no such element: Unable to locate element: {\"method\":\"css selector\",\"selector\":\".job-list-intro\"}\n",
      "  (Session info: chrome=95.0.4638.69)\n",
      "\n",
      "Failed to get job description: list index out of range\n"
     ]
    },
    {
     "name": "stdout",
     "output_type": "stream",
     "text": [
      "Page 101 with 22 jobs.\n"
     ]
    },
    {
     "name": "stderr",
     "output_type": "stream",
     "text": [
      "Failed to get job area: Message: no such element: Unable to locate element: {\"method\":\"css selector\",\"selector\":\".job-list-intro\"}\n",
      "  (Session info: chrome=95.0.4638.69)\n",
      "\n",
      "Failed to get job experience: Message: no such element: Unable to locate element: {\"method\":\"css selector\",\"selector\":\".job-list-intro\"}\n",
      "  (Session info: chrome=95.0.4638.69)\n",
      "\n",
      "Failed to get job degree: Message: no such element: Unable to locate element: {\"method\":\"css selector\",\"selector\":\".job-list-intro\"}\n",
      "  (Session info: chrome=95.0.4638.69)\n",
      "\n",
      "Failed to get job description: list index out of range\n",
      "Failed to get job area: Message: no such element: Unable to locate element: {\"method\":\"css selector\",\"selector\":\".job-list-intro\"}\n",
      "  (Session info: chrome=95.0.4638.69)\n",
      "\n",
      "Failed to get job experience: Message: no such element: Unable to locate element: {\"method\":\"css selector\",\"selector\":\".job-list-intro\"}\n",
      "  (Session info: chrome=95.0.4638.69)\n",
      "\n",
      "Failed to get job degree: Message: no such element: Unable to locate element: {\"method\":\"css selector\",\"selector\":\".job-list-intro\"}\n",
      "  (Session info: chrome=95.0.4638.69)\n",
      "\n",
      "Failed to get job description: list index out of range\n"
     ]
    },
    {
     "name": "stdout",
     "output_type": "stream",
     "text": [
      "Page 102 with 22 jobs.\n"
     ]
    },
    {
     "name": "stderr",
     "output_type": "stream",
     "text": [
      "Failed to get job area: Message: no such element: Unable to locate element: {\"method\":\"css selector\",\"selector\":\".job-list-intro\"}\n",
      "  (Session info: chrome=95.0.4638.69)\n",
      "\n",
      "Failed to get job experience: Message: no such element: Unable to locate element: {\"method\":\"css selector\",\"selector\":\".job-list-intro\"}\n",
      "  (Session info: chrome=95.0.4638.69)\n",
      "\n",
      "Failed to get job degree: Message: no such element: Unable to locate element: {\"method\":\"css selector\",\"selector\":\".job-list-intro\"}\n",
      "  (Session info: chrome=95.0.4638.69)\n",
      "\n",
      "Failed to get job description: list index out of range\n",
      "Failed to get job area: Message: no such element: Unable to locate element: {\"method\":\"css selector\",\"selector\":\".job-list-intro\"}\n",
      "  (Session info: chrome=95.0.4638.69)\n",
      "\n",
      "Failed to get job experience: Message: no such element: Unable to locate element: {\"method\":\"css selector\",\"selector\":\".job-list-intro\"}\n",
      "  (Session info: chrome=95.0.4638.69)\n",
      "\n",
      "Failed to get job degree: Message: no such element: Unable to locate element: {\"method\":\"css selector\",\"selector\":\".job-list-intro\"}\n",
      "  (Session info: chrome=95.0.4638.69)\n",
      "\n",
      "Failed to get job description: list index out of range\n"
     ]
    },
    {
     "name": "stdout",
     "output_type": "stream",
     "text": [
      "Page 103 with 22 jobs.\n"
     ]
    },
    {
     "name": "stderr",
     "output_type": "stream",
     "text": [
      "Failed to get job area: Message: no such element: Unable to locate element: {\"method\":\"css selector\",\"selector\":\".job-list-intro\"}\n",
      "  (Session info: chrome=95.0.4638.69)\n",
      "\n",
      "Failed to get job experience: Message: no such element: Unable to locate element: {\"method\":\"css selector\",\"selector\":\".job-list-intro\"}\n",
      "  (Session info: chrome=95.0.4638.69)\n",
      "\n",
      "Failed to get job degree: Message: no such element: Unable to locate element: {\"method\":\"css selector\",\"selector\":\".job-list-intro\"}\n",
      "  (Session info: chrome=95.0.4638.69)\n",
      "\n",
      "Failed to get job description: list index out of range\n",
      "Failed to get job area: Message: no such element: Unable to locate element: {\"method\":\"css selector\",\"selector\":\".job-list-intro\"}\n",
      "  (Session info: chrome=95.0.4638.69)\n",
      "\n",
      "Failed to get job experience: Message: no such element: Unable to locate element: {\"method\":\"css selector\",\"selector\":\".job-list-intro\"}\n",
      "  (Session info: chrome=95.0.4638.69)\n",
      "\n",
      "Failed to get job degree: Message: no such element: Unable to locate element: {\"method\":\"css selector\",\"selector\":\".job-list-intro\"}\n",
      "  (Session info: chrome=95.0.4638.69)\n",
      "\n",
      "Failed to get job description: list index out of range\n"
     ]
    },
    {
     "name": "stdout",
     "output_type": "stream",
     "text": [
      "Page 104 with 22 jobs.\n"
     ]
    },
    {
     "name": "stderr",
     "output_type": "stream",
     "text": [
      "Failed to get job area: Message: no such element: Unable to locate element: {\"method\":\"css selector\",\"selector\":\".job-list-intro\"}\n",
      "  (Session info: chrome=95.0.4638.69)\n",
      "\n",
      "Failed to get job experience: Message: no such element: Unable to locate element: {\"method\":\"css selector\",\"selector\":\".job-list-intro\"}\n",
      "  (Session info: chrome=95.0.4638.69)\n",
      "\n",
      "Failed to get job degree: Message: no such element: Unable to locate element: {\"method\":\"css selector\",\"selector\":\".job-list-intro\"}\n",
      "  (Session info: chrome=95.0.4638.69)\n",
      "\n",
      "Failed to get job description: list index out of range\n",
      "Failed to get job area: Message: no such element: Unable to locate element: {\"method\":\"css selector\",\"selector\":\".job-list-intro\"}\n",
      "  (Session info: chrome=95.0.4638.69)\n",
      "\n",
      "Failed to get job experience: Message: no such element: Unable to locate element: {\"method\":\"css selector\",\"selector\":\".job-list-intro\"}\n",
      "  (Session info: chrome=95.0.4638.69)\n",
      "\n",
      "Failed to get job degree: Message: no such element: Unable to locate element: {\"method\":\"css selector\",\"selector\":\".job-list-intro\"}\n",
      "  (Session info: chrome=95.0.4638.69)\n",
      "\n",
      "Failed to get job description: list index out of range\n"
     ]
    },
    {
     "name": "stdout",
     "output_type": "stream",
     "text": [
      "Page 105 with 22 jobs.\n"
     ]
    },
    {
     "name": "stderr",
     "output_type": "stream",
     "text": [
      "Failed to get job area: Message: no such element: Unable to locate element: {\"method\":\"css selector\",\"selector\":\".job-list-intro\"}\n",
      "  (Session info: chrome=95.0.4638.69)\n",
      "\n",
      "Failed to get job experience: Message: no such element: Unable to locate element: {\"method\":\"css selector\",\"selector\":\".job-list-intro\"}\n",
      "  (Session info: chrome=95.0.4638.69)\n",
      "\n",
      "Failed to get job degree: Message: no such element: Unable to locate element: {\"method\":\"css selector\",\"selector\":\".job-list-intro\"}\n",
      "  (Session info: chrome=95.0.4638.69)\n",
      "\n",
      "Failed to get job description: list index out of range\n",
      "Failed to get job area: Message: no such element: Unable to locate element: {\"method\":\"css selector\",\"selector\":\".job-list-intro\"}\n",
      "  (Session info: chrome=95.0.4638.69)\n",
      "\n",
      "Failed to get job experience: Message: no such element: Unable to locate element: {\"method\":\"css selector\",\"selector\":\".job-list-intro\"}\n",
      "  (Session info: chrome=95.0.4638.69)\n",
      "\n",
      "Failed to get job degree: Message: no such element: Unable to locate element: {\"method\":\"css selector\",\"selector\":\".job-list-intro\"}\n",
      "  (Session info: chrome=95.0.4638.69)\n",
      "\n",
      "Failed to get job description: list index out of range\n"
     ]
    },
    {
     "name": "stdout",
     "output_type": "stream",
     "text": [
      "Page 106 with 22 jobs.\n"
     ]
    },
    {
     "name": "stderr",
     "output_type": "stream",
     "text": [
      "Failed to get job area: Message: no such element: Unable to locate element: {\"method\":\"css selector\",\"selector\":\".job-list-intro\"}\n",
      "  (Session info: chrome=95.0.4638.69)\n",
      "\n",
      "Failed to get job experience: Message: no such element: Unable to locate element: {\"method\":\"css selector\",\"selector\":\".job-list-intro\"}\n",
      "  (Session info: chrome=95.0.4638.69)\n",
      "\n",
      "Failed to get job degree: Message: no such element: Unable to locate element: {\"method\":\"css selector\",\"selector\":\".job-list-intro\"}\n",
      "  (Session info: chrome=95.0.4638.69)\n",
      "\n",
      "Failed to get job description: list index out of range\n",
      "Failed to get job area: Message: no such element: Unable to locate element: {\"method\":\"css selector\",\"selector\":\".job-list-intro\"}\n",
      "  (Session info: chrome=95.0.4638.69)\n",
      "\n",
      "Failed to get job experience: Message: no such element: Unable to locate element: {\"method\":\"css selector\",\"selector\":\".job-list-intro\"}\n",
      "  (Session info: chrome=95.0.4638.69)\n",
      "\n",
      "Failed to get job degree: Message: no such element: Unable to locate element: {\"method\":\"css selector\",\"selector\":\".job-list-intro\"}\n",
      "  (Session info: chrome=95.0.4638.69)\n",
      "\n",
      "Failed to get job description: list index out of range\n"
     ]
    },
    {
     "name": "stdout",
     "output_type": "stream",
     "text": [
      "Page 107 with 22 jobs.\n"
     ]
    },
    {
     "name": "stderr",
     "output_type": "stream",
     "text": [
      "Failed to get job area: Message: no such element: Unable to locate element: {\"method\":\"css selector\",\"selector\":\".job-list-intro\"}\n",
      "  (Session info: chrome=95.0.4638.69)\n",
      "\n",
      "Failed to get job experience: Message: no such element: Unable to locate element: {\"method\":\"css selector\",\"selector\":\".job-list-intro\"}\n",
      "  (Session info: chrome=95.0.4638.69)\n",
      "\n",
      "Failed to get job degree: Message: no such element: Unable to locate element: {\"method\":\"css selector\",\"selector\":\".job-list-intro\"}\n",
      "  (Session info: chrome=95.0.4638.69)\n",
      "\n",
      "Failed to get job description: list index out of range\n",
      "Failed to get job area: Message: no such element: Unable to locate element: {\"method\":\"css selector\",\"selector\":\".job-list-intro\"}\n",
      "  (Session info: chrome=95.0.4638.69)\n",
      "\n",
      "Failed to get job experience: Message: no such element: Unable to locate element: {\"method\":\"css selector\",\"selector\":\".job-list-intro\"}\n",
      "  (Session info: chrome=95.0.4638.69)\n",
      "\n",
      "Failed to get job degree: Message: no such element: Unable to locate element: {\"method\":\"css selector\",\"selector\":\".job-list-intro\"}\n",
      "  (Session info: chrome=95.0.4638.69)\n",
      "\n",
      "Failed to get job description: list index out of range\n"
     ]
    },
    {
     "name": "stdout",
     "output_type": "stream",
     "text": [
      "Page 108 with 22 jobs.\n"
     ]
    },
    {
     "name": "stderr",
     "output_type": "stream",
     "text": [
      "Failed to get job area: Message: no such element: Unable to locate element: {\"method\":\"css selector\",\"selector\":\".job-list-intro\"}\n",
      "  (Session info: chrome=95.0.4638.69)\n",
      "\n",
      "Failed to get job experience: Message: no such element: Unable to locate element: {\"method\":\"css selector\",\"selector\":\".job-list-intro\"}\n",
      "  (Session info: chrome=95.0.4638.69)\n",
      "\n",
      "Failed to get job degree: Message: no such element: Unable to locate element: {\"method\":\"css selector\",\"selector\":\".job-list-intro\"}\n",
      "  (Session info: chrome=95.0.4638.69)\n",
      "\n",
      "Failed to get job description: list index out of range\n",
      "Failed to get job area: Message: no such element: Unable to locate element: {\"method\":\"css selector\",\"selector\":\".job-list-intro\"}\n",
      "  (Session info: chrome=95.0.4638.69)\n",
      "\n",
      "Failed to get job experience: Message: no such element: Unable to locate element: {\"method\":\"css selector\",\"selector\":\".job-list-intro\"}\n",
      "  (Session info: chrome=95.0.4638.69)\n",
      "\n",
      "Failed to get job degree: Message: no such element: Unable to locate element: {\"method\":\"css selector\",\"selector\":\".job-list-intro\"}\n",
      "  (Session info: chrome=95.0.4638.69)\n",
      "\n",
      "Failed to get job description: list index out of range\n"
     ]
    },
    {
     "name": "stdout",
     "output_type": "stream",
     "text": [
      "Page 109 with 22 jobs.\n"
     ]
    },
    {
     "name": "stderr",
     "output_type": "stream",
     "text": [
      "Failed to get job area: Message: no such element: Unable to locate element: {\"method\":\"css selector\",\"selector\":\".job-list-intro\"}\n",
      "  (Session info: chrome=95.0.4638.69)\n",
      "\n",
      "Failed to get job experience: Message: no such element: Unable to locate element: {\"method\":\"css selector\",\"selector\":\".job-list-intro\"}\n",
      "  (Session info: chrome=95.0.4638.69)\n",
      "\n",
      "Failed to get job degree: Message: no such element: Unable to locate element: {\"method\":\"css selector\",\"selector\":\".job-list-intro\"}\n",
      "  (Session info: chrome=95.0.4638.69)\n",
      "\n",
      "Failed to get job description: list index out of range\n",
      "Failed to get job area: Message: no such element: Unable to locate element: {\"method\":\"css selector\",\"selector\":\".job-list-intro\"}\n",
      "  (Session info: chrome=95.0.4638.69)\n",
      "\n",
      "Failed to get job experience: Message: no such element: Unable to locate element: {\"method\":\"css selector\",\"selector\":\".job-list-intro\"}\n",
      "  (Session info: chrome=95.0.4638.69)\n",
      "\n",
      "Failed to get job degree: Message: no such element: Unable to locate element: {\"method\":\"css selector\",\"selector\":\".job-list-intro\"}\n",
      "  (Session info: chrome=95.0.4638.69)\n",
      "\n",
      "Failed to get job description: list index out of range\n"
     ]
    },
    {
     "name": "stdout",
     "output_type": "stream",
     "text": [
      "Page 110 with 22 jobs.\n"
     ]
    },
    {
     "name": "stderr",
     "output_type": "stream",
     "text": [
      "Failed to get job area: Message: no such element: Unable to locate element: {\"method\":\"css selector\",\"selector\":\".job-list-intro\"}\n",
      "  (Session info: chrome=95.0.4638.69)\n",
      "\n",
      "Failed to get job experience: Message: no such element: Unable to locate element: {\"method\":\"css selector\",\"selector\":\".job-list-intro\"}\n",
      "  (Session info: chrome=95.0.4638.69)\n",
      "\n",
      "Failed to get job degree: Message: no such element: Unable to locate element: {\"method\":\"css selector\",\"selector\":\".job-list-intro\"}\n",
      "  (Session info: chrome=95.0.4638.69)\n",
      "\n",
      "Failed to get job description: list index out of range\n",
      "Failed to get job area: Message: no such element: Unable to locate element: {\"method\":\"css selector\",\"selector\":\".job-list-intro\"}\n",
      "  (Session info: chrome=95.0.4638.69)\n",
      "\n",
      "Failed to get job experience: Message: no such element: Unable to locate element: {\"method\":\"css selector\",\"selector\":\".job-list-intro\"}\n",
      "  (Session info: chrome=95.0.4638.69)\n",
      "\n",
      "Failed to get job degree: Message: no such element: Unable to locate element: {\"method\":\"css selector\",\"selector\":\".job-list-intro\"}\n",
      "  (Session info: chrome=95.0.4638.69)\n",
      "\n",
      "Failed to get job description: list index out of range\n"
     ]
    },
    {
     "name": "stdout",
     "output_type": "stream",
     "text": [
      "Page 111 with 22 jobs.\n"
     ]
    },
    {
     "name": "stderr",
     "output_type": "stream",
     "text": [
      "Failed to get job area: Message: no such element: Unable to locate element: {\"method\":\"css selector\",\"selector\":\".job-list-intro\"}\n",
      "  (Session info: chrome=95.0.4638.69)\n",
      "\n",
      "Failed to get job experience: Message: no such element: Unable to locate element: {\"method\":\"css selector\",\"selector\":\".job-list-intro\"}\n",
      "  (Session info: chrome=95.0.4638.69)\n",
      "\n",
      "Failed to get job degree: Message: no such element: Unable to locate element: {\"method\":\"css selector\",\"selector\":\".job-list-intro\"}\n",
      "  (Session info: chrome=95.0.4638.69)\n",
      "\n",
      "Failed to get job description: list index out of range\n",
      "Failed to get job area: Message: no such element: Unable to locate element: {\"method\":\"css selector\",\"selector\":\".job-list-intro\"}\n",
      "  (Session info: chrome=95.0.4638.69)\n",
      "\n",
      "Failed to get job experience: Message: no such element: Unable to locate element: {\"method\":\"css selector\",\"selector\":\".job-list-intro\"}\n",
      "  (Session info: chrome=95.0.4638.69)\n",
      "\n",
      "Failed to get job degree: Message: no such element: Unable to locate element: {\"method\":\"css selector\",\"selector\":\".job-list-intro\"}\n",
      "  (Session info: chrome=95.0.4638.69)\n",
      "\n",
      "Failed to get job description: list index out of range\n"
     ]
    },
    {
     "name": "stdout",
     "output_type": "stream",
     "text": [
      "Page 112 with 22 jobs.\n"
     ]
    },
    {
     "name": "stderr",
     "output_type": "stream",
     "text": [
      "Failed to get job description: list index out of range\n",
      "Failed to get job area: Message: no such element: Unable to locate element: {\"method\":\"css selector\",\"selector\":\".job-list-intro\"}\n",
      "  (Session info: chrome=95.0.4638.69)\n",
      "\n",
      "Failed to get job experience: Message: no such element: Unable to locate element: {\"method\":\"css selector\",\"selector\":\".job-list-intro\"}\n",
      "  (Session info: chrome=95.0.4638.69)\n",
      "\n",
      "Failed to get job degree: Message: no such element: Unable to locate element: {\"method\":\"css selector\",\"selector\":\".job-list-intro\"}\n",
      "  (Session info: chrome=95.0.4638.69)\n",
      "\n",
      "Failed to get job description: list index out of range\n",
      "Failed to get job area: Message: no such element: Unable to locate element: {\"method\":\"css selector\",\"selector\":\".job-list-intro\"}\n",
      "  (Session info: chrome=95.0.4638.69)\n",
      "\n",
      "Failed to get job experience: Message: no such element: Unable to locate element: {\"method\":\"css selector\",\"selector\":\".job-list-intro\"}\n",
      "  (Session info: chrome=95.0.4638.69)\n",
      "\n",
      "Failed to get job degree: Message: no such element: Unable to locate element: {\"method\":\"css selector\",\"selector\":\".job-list-intro\"}\n",
      "  (Session info: chrome=95.0.4638.69)\n",
      "\n",
      "Failed to get job description: list index out of range\n"
     ]
    },
    {
     "name": "stdout",
     "output_type": "stream",
     "text": [
      "Page 113 with 22 jobs.\n"
     ]
    },
    {
     "name": "stderr",
     "output_type": "stream",
     "text": [
      "Failed to get job area: Message: no such element: Unable to locate element: {\"method\":\"css selector\",\"selector\":\".job-list-intro\"}\n",
      "  (Session info: chrome=95.0.4638.69)\n",
      "\n",
      "Failed to get job experience: Message: no such element: Unable to locate element: {\"method\":\"css selector\",\"selector\":\".job-list-intro\"}\n",
      "  (Session info: chrome=95.0.4638.69)\n",
      "\n",
      "Failed to get job degree: Message: no such element: Unable to locate element: {\"method\":\"css selector\",\"selector\":\".job-list-intro\"}\n",
      "  (Session info: chrome=95.0.4638.69)\n",
      "\n",
      "Failed to get job description: list index out of range\n",
      "Failed to get job area: Message: no such element: Unable to locate element: {\"method\":\"css selector\",\"selector\":\".job-list-intro\"}\n",
      "  (Session info: chrome=95.0.4638.69)\n",
      "\n",
      "Failed to get job experience: Message: no such element: Unable to locate element: {\"method\":\"css selector\",\"selector\":\".job-list-intro\"}\n",
      "  (Session info: chrome=95.0.4638.69)\n",
      "\n",
      "Failed to get job degree: Message: no such element: Unable to locate element: {\"method\":\"css selector\",\"selector\":\".job-list-intro\"}\n",
      "  (Session info: chrome=95.0.4638.69)\n",
      "\n",
      "Failed to get job description: list index out of range\n"
     ]
    },
    {
     "name": "stdout",
     "output_type": "stream",
     "text": [
      "Page 114 with 22 jobs.\n"
     ]
    },
    {
     "name": "stderr",
     "output_type": "stream",
     "text": [
      "Failed to get job area: Message: no such element: Unable to locate element: {\"method\":\"css selector\",\"selector\":\".job-list-intro\"}\n",
      "  (Session info: chrome=95.0.4638.69)\n",
      "\n",
      "Failed to get job experience: Message: no such element: Unable to locate element: {\"method\":\"css selector\",\"selector\":\".job-list-intro\"}\n",
      "  (Session info: chrome=95.0.4638.69)\n",
      "\n",
      "Failed to get job degree: Message: no such element: Unable to locate element: {\"method\":\"css selector\",\"selector\":\".job-list-intro\"}\n",
      "  (Session info: chrome=95.0.4638.69)\n",
      "\n",
      "Failed to get job description: list index out of range\n",
      "Failed to get job area: Message: no such element: Unable to locate element: {\"method\":\"css selector\",\"selector\":\".job-list-intro\"}\n",
      "  (Session info: chrome=95.0.4638.69)\n",
      "\n",
      "Failed to get job experience: Message: no such element: Unable to locate element: {\"method\":\"css selector\",\"selector\":\".job-list-intro\"}\n",
      "  (Session info: chrome=95.0.4638.69)\n",
      "\n",
      "Failed to get job degree: Message: no such element: Unable to locate element: {\"method\":\"css selector\",\"selector\":\".job-list-intro\"}\n",
      "  (Session info: chrome=95.0.4638.69)\n",
      "\n",
      "Failed to get job description: list index out of range\n"
     ]
    },
    {
     "name": "stdout",
     "output_type": "stream",
     "text": [
      "Page 115 with 22 jobs.\n"
     ]
    },
    {
     "name": "stderr",
     "output_type": "stream",
     "text": [
      "Failed to get job area: Message: no such element: Unable to locate element: {\"method\":\"css selector\",\"selector\":\".job-list-intro\"}\n",
      "  (Session info: chrome=95.0.4638.69)\n",
      "\n",
      "Failed to get job experience: Message: no such element: Unable to locate element: {\"method\":\"css selector\",\"selector\":\".job-list-intro\"}\n",
      "  (Session info: chrome=95.0.4638.69)\n",
      "\n",
      "Failed to get job degree: Message: no such element: Unable to locate element: {\"method\":\"css selector\",\"selector\":\".job-list-intro\"}\n",
      "  (Session info: chrome=95.0.4638.69)\n",
      "\n",
      "Failed to get job description: list index out of range\n",
      "Failed to get job area: Message: no such element: Unable to locate element: {\"method\":\"css selector\",\"selector\":\".job-list-intro\"}\n",
      "  (Session info: chrome=95.0.4638.69)\n",
      "\n",
      "Failed to get job experience: Message: no such element: Unable to locate element: {\"method\":\"css selector\",\"selector\":\".job-list-intro\"}\n",
      "  (Session info: chrome=95.0.4638.69)\n",
      "\n",
      "Failed to get job degree: Message: no such element: Unable to locate element: {\"method\":\"css selector\",\"selector\":\".job-list-intro\"}\n",
      "  (Session info: chrome=95.0.4638.69)\n",
      "\n",
      "Failed to get job description: list index out of range\n"
     ]
    },
    {
     "name": "stdout",
     "output_type": "stream",
     "text": [
      "Page 116 with 22 jobs.\n"
     ]
    },
    {
     "name": "stderr",
     "output_type": "stream",
     "text": [
      "Failed to get job area: Message: no such element: Unable to locate element: {\"method\":\"css selector\",\"selector\":\".job-list-intro\"}\n",
      "  (Session info: chrome=95.0.4638.69)\n",
      "\n",
      "Failed to get job experience: Message: no such element: Unable to locate element: {\"method\":\"css selector\",\"selector\":\".job-list-intro\"}\n",
      "  (Session info: chrome=95.0.4638.69)\n",
      "\n",
      "Failed to get job degree: Message: no such element: Unable to locate element: {\"method\":\"css selector\",\"selector\":\".job-list-intro\"}\n",
      "  (Session info: chrome=95.0.4638.69)\n",
      "\n",
      "Failed to get job description: list index out of range\n",
      "Failed to get job area: Message: no such element: Unable to locate element: {\"method\":\"css selector\",\"selector\":\".job-list-intro\"}\n",
      "  (Session info: chrome=95.0.4638.69)\n",
      "\n",
      "Failed to get job experience: Message: no such element: Unable to locate element: {\"method\":\"css selector\",\"selector\":\".job-list-intro\"}\n",
      "  (Session info: chrome=95.0.4638.69)\n",
      "\n",
      "Failed to get job degree: Message: no such element: Unable to locate element: {\"method\":\"css selector\",\"selector\":\".job-list-intro\"}\n",
      "  (Session info: chrome=95.0.4638.69)\n",
      "\n",
      "Failed to get job description: list index out of range\n"
     ]
    },
    {
     "name": "stdout",
     "output_type": "stream",
     "text": [
      "Page 117 with 22 jobs.\n"
     ]
    },
    {
     "name": "stderr",
     "output_type": "stream",
     "text": [
      "Failed to get job area: Message: no such element: Unable to locate element: {\"method\":\"css selector\",\"selector\":\".job-list-intro\"}\n",
      "  (Session info: chrome=95.0.4638.69)\n",
      "\n",
      "Failed to get job experience: Message: no such element: Unable to locate element: {\"method\":\"css selector\",\"selector\":\".job-list-intro\"}\n",
      "  (Session info: chrome=95.0.4638.69)\n",
      "\n",
      "Failed to get job degree: Message: no such element: Unable to locate element: {\"method\":\"css selector\",\"selector\":\".job-list-intro\"}\n",
      "  (Session info: chrome=95.0.4638.69)\n",
      "\n",
      "Failed to get job description: list index out of range\n",
      "Failed to get job area: Message: no such element: Unable to locate element: {\"method\":\"css selector\",\"selector\":\".job-list-intro\"}\n",
      "  (Session info: chrome=95.0.4638.69)\n",
      "\n",
      "Failed to get job experience: Message: no such element: Unable to locate element: {\"method\":\"css selector\",\"selector\":\".job-list-intro\"}\n",
      "  (Session info: chrome=95.0.4638.69)\n",
      "\n",
      "Failed to get job degree: Message: no such element: Unable to locate element: {\"method\":\"css selector\",\"selector\":\".job-list-intro\"}\n",
      "  (Session info: chrome=95.0.4638.69)\n",
      "\n",
      "Failed to get job description: list index out of range\n"
     ]
    },
    {
     "name": "stdout",
     "output_type": "stream",
     "text": [
      "Page 118 with 22 jobs.\n"
     ]
    },
    {
     "name": "stderr",
     "output_type": "stream",
     "text": [
      "Failed to get job area: Message: no such element: Unable to locate element: {\"method\":\"css selector\",\"selector\":\".job-list-intro\"}\n",
      "  (Session info: chrome=95.0.4638.69)\n",
      "\n",
      "Failed to get job experience: Message: no such element: Unable to locate element: {\"method\":\"css selector\",\"selector\":\".job-list-intro\"}\n",
      "  (Session info: chrome=95.0.4638.69)\n",
      "\n",
      "Failed to get job degree: Message: no such element: Unable to locate element: {\"method\":\"css selector\",\"selector\":\".job-list-intro\"}\n",
      "  (Session info: chrome=95.0.4638.69)\n",
      "\n",
      "Failed to get job description: list index out of range\n",
      "Failed to get job area: Message: no such element: Unable to locate element: {\"method\":\"css selector\",\"selector\":\".job-list-intro\"}\n",
      "  (Session info: chrome=95.0.4638.69)\n",
      "\n",
      "Failed to get job experience: Message: no such element: Unable to locate element: {\"method\":\"css selector\",\"selector\":\".job-list-intro\"}\n",
      "  (Session info: chrome=95.0.4638.69)\n",
      "\n",
      "Failed to get job degree: Message: no such element: Unable to locate element: {\"method\":\"css selector\",\"selector\":\".job-list-intro\"}\n",
      "  (Session info: chrome=95.0.4638.69)\n",
      "\n",
      "Failed to get job description: list index out of range\n"
     ]
    },
    {
     "name": "stdout",
     "output_type": "stream",
     "text": [
      "Page 119 with 22 jobs.\n"
     ]
    },
    {
     "name": "stderr",
     "output_type": "stream",
     "text": [
      "Failed to get job area: Message: no such element: Unable to locate element: {\"method\":\"css selector\",\"selector\":\".job-list-intro\"}\n",
      "  (Session info: chrome=95.0.4638.69)\n",
      "\n",
      "Failed to get job experience: Message: no such element: Unable to locate element: {\"method\":\"css selector\",\"selector\":\".job-list-intro\"}\n",
      "  (Session info: chrome=95.0.4638.69)\n",
      "\n",
      "Failed to get job degree: Message: no such element: Unable to locate element: {\"method\":\"css selector\",\"selector\":\".job-list-intro\"}\n",
      "  (Session info: chrome=95.0.4638.69)\n",
      "\n",
      "Failed to get job description: list index out of range\n",
      "Failed to get job area: Message: no such element: Unable to locate element: {\"method\":\"css selector\",\"selector\":\".job-list-intro\"}\n",
      "  (Session info: chrome=95.0.4638.69)\n",
      "\n",
      "Failed to get job experience: Message: no such element: Unable to locate element: {\"method\":\"css selector\",\"selector\":\".job-list-intro\"}\n",
      "  (Session info: chrome=95.0.4638.69)\n",
      "\n",
      "Failed to get job degree: Message: no such element: Unable to locate element: {\"method\":\"css selector\",\"selector\":\".job-list-intro\"}\n",
      "  (Session info: chrome=95.0.4638.69)\n",
      "\n",
      "Failed to get job description: list index out of range\n"
     ]
    },
    {
     "name": "stdout",
     "output_type": "stream",
     "text": [
      "Page 120 with 22 jobs.\n"
     ]
    },
    {
     "name": "stderr",
     "output_type": "stream",
     "text": [
      "Failed to get job area: Message: no such element: Unable to locate element: {\"method\":\"css selector\",\"selector\":\".job-list-intro\"}\n",
      "  (Session info: chrome=95.0.4638.69)\n",
      "\n",
      "Failed to get job experience: Message: no such element: Unable to locate element: {\"method\":\"css selector\",\"selector\":\".job-list-intro\"}\n",
      "  (Session info: chrome=95.0.4638.69)\n",
      "\n",
      "Failed to get job degree: Message: no such element: Unable to locate element: {\"method\":\"css selector\",\"selector\":\".job-list-intro\"}\n",
      "  (Session info: chrome=95.0.4638.69)\n",
      "\n",
      "Failed to get job description: list index out of range\n",
      "Failed to get job area: Message: no such element: Unable to locate element: {\"method\":\"css selector\",\"selector\":\".job-list-intro\"}\n",
      "  (Session info: chrome=95.0.4638.69)\n",
      "\n",
      "Failed to get job experience: Message: no such element: Unable to locate element: {\"method\":\"css selector\",\"selector\":\".job-list-intro\"}\n",
      "  (Session info: chrome=95.0.4638.69)\n",
      "\n",
      "Failed to get job degree: Message: no such element: Unable to locate element: {\"method\":\"css selector\",\"selector\":\".job-list-intro\"}\n",
      "  (Session info: chrome=95.0.4638.69)\n",
      "\n",
      "Failed to get job description: list index out of range\n"
     ]
    },
    {
     "name": "stdout",
     "output_type": "stream",
     "text": [
      "Page 121 with 22 jobs.\n"
     ]
    },
    {
     "name": "stderr",
     "output_type": "stream",
     "text": [
      "Failed to get job area: Message: no such element: Unable to locate element: {\"method\":\"css selector\",\"selector\":\".job-list-intro\"}\n",
      "  (Session info: chrome=95.0.4638.69)\n",
      "\n",
      "Failed to get job experience: Message: no such element: Unable to locate element: {\"method\":\"css selector\",\"selector\":\".job-list-intro\"}\n",
      "  (Session info: chrome=95.0.4638.69)\n",
      "\n",
      "Failed to get job degree: Message: no such element: Unable to locate element: {\"method\":\"css selector\",\"selector\":\".job-list-intro\"}\n",
      "  (Session info: chrome=95.0.4638.69)\n",
      "\n",
      "Failed to get job description: list index out of range\n",
      "Failed to get job area: Message: no such element: Unable to locate element: {\"method\":\"css selector\",\"selector\":\".job-list-intro\"}\n",
      "  (Session info: chrome=95.0.4638.69)\n",
      "\n",
      "Failed to get job experience: Message: no such element: Unable to locate element: {\"method\":\"css selector\",\"selector\":\".job-list-intro\"}\n",
      "  (Session info: chrome=95.0.4638.69)\n",
      "\n",
      "Failed to get job degree: Message: no such element: Unable to locate element: {\"method\":\"css selector\",\"selector\":\".job-list-intro\"}\n",
      "  (Session info: chrome=95.0.4638.69)\n",
      "\n",
      "Failed to get job description: list index out of range\n"
     ]
    },
    {
     "name": "stdout",
     "output_type": "stream",
     "text": [
      "Page 122 with 22 jobs.\n"
     ]
    },
    {
     "name": "stderr",
     "output_type": "stream",
     "text": [
      "Failed to get job area: Message: no such element: Unable to locate element: {\"method\":\"css selector\",\"selector\":\".job-list-intro\"}\n",
      "  (Session info: chrome=95.0.4638.69)\n",
      "\n",
      "Failed to get job experience: Message: no such element: Unable to locate element: {\"method\":\"css selector\",\"selector\":\".job-list-intro\"}\n",
      "  (Session info: chrome=95.0.4638.69)\n",
      "\n",
      "Failed to get job degree: Message: no such element: Unable to locate element: {\"method\":\"css selector\",\"selector\":\".job-list-intro\"}\n",
      "  (Session info: chrome=95.0.4638.69)\n",
      "\n",
      "Failed to get job description: list index out of range\n",
      "Failed to get job area: Message: no such element: Unable to locate element: {\"method\":\"css selector\",\"selector\":\".job-list-intro\"}\n",
      "  (Session info: chrome=95.0.4638.69)\n",
      "\n",
      "Failed to get job experience: Message: no such element: Unable to locate element: {\"method\":\"css selector\",\"selector\":\".job-list-intro\"}\n",
      "  (Session info: chrome=95.0.4638.69)\n",
      "\n",
      "Failed to get job degree: Message: no such element: Unable to locate element: {\"method\":\"css selector\",\"selector\":\".job-list-intro\"}\n",
      "  (Session info: chrome=95.0.4638.69)\n",
      "\n",
      "Failed to get job description: list index out of range\n"
     ]
    },
    {
     "name": "stdout",
     "output_type": "stream",
     "text": [
      "Page 123 with 22 jobs.\n"
     ]
    },
    {
     "name": "stderr",
     "output_type": "stream",
     "text": [
      "Failed to get job area: Message: no such element: Unable to locate element: {\"method\":\"css selector\",\"selector\":\".job-list-intro\"}\n",
      "  (Session info: chrome=95.0.4638.69)\n",
      "\n",
      "Failed to get job experience: Message: no such element: Unable to locate element: {\"method\":\"css selector\",\"selector\":\".job-list-intro\"}\n",
      "  (Session info: chrome=95.0.4638.69)\n",
      "\n",
      "Failed to get job degree: Message: no such element: Unable to locate element: {\"method\":\"css selector\",\"selector\":\".job-list-intro\"}\n",
      "  (Session info: chrome=95.0.4638.69)\n",
      "\n",
      "Failed to get job description: list index out of range\n",
      "Failed to get job area: Message: no such element: Unable to locate element: {\"method\":\"css selector\",\"selector\":\".job-list-intro\"}\n",
      "  (Session info: chrome=95.0.4638.69)\n",
      "\n",
      "Failed to get job experience: Message: no such element: Unable to locate element: {\"method\":\"css selector\",\"selector\":\".job-list-intro\"}\n",
      "  (Session info: chrome=95.0.4638.69)\n",
      "\n",
      "Failed to get job degree: Message: no such element: Unable to locate element: {\"method\":\"css selector\",\"selector\":\".job-list-intro\"}\n",
      "  (Session info: chrome=95.0.4638.69)\n",
      "\n",
      "Failed to get job description: list index out of range\n"
     ]
    },
    {
     "name": "stdout",
     "output_type": "stream",
     "text": [
      "Page 124 with 22 jobs.\n"
     ]
    },
    {
     "name": "stderr",
     "output_type": "stream",
     "text": [
      "Failed to get job area: Message: no such element: Unable to locate element: {\"method\":\"css selector\",\"selector\":\".job-list-intro\"}\n",
      "  (Session info: chrome=95.0.4638.69)\n",
      "\n",
      "Failed to get job experience: Message: no such element: Unable to locate element: {\"method\":\"css selector\",\"selector\":\".job-list-intro\"}\n",
      "  (Session info: chrome=95.0.4638.69)\n",
      "\n",
      "Failed to get job degree: Message: no such element: Unable to locate element: {\"method\":\"css selector\",\"selector\":\".job-list-intro\"}\n",
      "  (Session info: chrome=95.0.4638.69)\n",
      "\n",
      "Failed to get job description: list index out of range\n",
      "Failed to get job area: Message: no such element: Unable to locate element: {\"method\":\"css selector\",\"selector\":\".job-list-intro\"}\n",
      "  (Session info: chrome=95.0.4638.69)\n",
      "\n",
      "Failed to get job experience: Message: no such element: Unable to locate element: {\"method\":\"css selector\",\"selector\":\".job-list-intro\"}\n",
      "  (Session info: chrome=95.0.4638.69)\n",
      "\n",
      "Failed to get job degree: Message: no such element: Unable to locate element: {\"method\":\"css selector\",\"selector\":\".job-list-intro\"}\n",
      "  (Session info: chrome=95.0.4638.69)\n",
      "\n",
      "Failed to get job description: list index out of range\n"
     ]
    },
    {
     "name": "stdout",
     "output_type": "stream",
     "text": [
      "Page 125 with 22 jobs.\n"
     ]
    },
    {
     "name": "stderr",
     "output_type": "stream",
     "text": [
      "Failed to get job area: Message: no such element: Unable to locate element: {\"method\":\"css selector\",\"selector\":\".job-list-intro\"}\n",
      "  (Session info: chrome=95.0.4638.69)\n",
      "\n",
      "Failed to get job experience: Message: no such element: Unable to locate element: {\"method\":\"css selector\",\"selector\":\".job-list-intro\"}\n",
      "  (Session info: chrome=95.0.4638.69)\n",
      "\n",
      "Failed to get job degree: Message: no such element: Unable to locate element: {\"method\":\"css selector\",\"selector\":\".job-list-intro\"}\n",
      "  (Session info: chrome=95.0.4638.69)\n",
      "\n",
      "Failed to get job description: list index out of range\n",
      "Failed to get job area: Message: no such element: Unable to locate element: {\"method\":\"css selector\",\"selector\":\".job-list-intro\"}\n",
      "  (Session info: chrome=95.0.4638.69)\n",
      "\n",
      "Failed to get job experience: Message: no such element: Unable to locate element: {\"method\":\"css selector\",\"selector\":\".job-list-intro\"}\n",
      "  (Session info: chrome=95.0.4638.69)\n",
      "\n",
      "Failed to get job degree: Message: no such element: Unable to locate element: {\"method\":\"css selector\",\"selector\":\".job-list-intro\"}\n",
      "  (Session info: chrome=95.0.4638.69)\n",
      "\n",
      "Failed to get job description: list index out of range\n"
     ]
    },
    {
     "name": "stdout",
     "output_type": "stream",
     "text": [
      "Page 126 with 22 jobs.\n"
     ]
    },
    {
     "name": "stderr",
     "output_type": "stream",
     "text": [
      "Failed to get job area: Message: no such element: Unable to locate element: {\"method\":\"css selector\",\"selector\":\".job-list-intro\"}\n",
      "  (Session info: chrome=95.0.4638.69)\n",
      "\n",
      "Failed to get job experience: Message: no such element: Unable to locate element: {\"method\":\"css selector\",\"selector\":\".job-list-intro\"}\n",
      "  (Session info: chrome=95.0.4638.69)\n",
      "\n",
      "Failed to get job degree: Message: no such element: Unable to locate element: {\"method\":\"css selector\",\"selector\":\".job-list-intro\"}\n",
      "  (Session info: chrome=95.0.4638.69)\n",
      "\n",
      "Failed to get job description: list index out of range\n",
      "Failed to get job area: Message: no such element: Unable to locate element: {\"method\":\"css selector\",\"selector\":\".job-list-intro\"}\n",
      "  (Session info: chrome=95.0.4638.69)\n",
      "\n",
      "Failed to get job experience: Message: no such element: Unable to locate element: {\"method\":\"css selector\",\"selector\":\".job-list-intro\"}\n",
      "  (Session info: chrome=95.0.4638.69)\n",
      "\n",
      "Failed to get job degree: Message: no such element: Unable to locate element: {\"method\":\"css selector\",\"selector\":\".job-list-intro\"}\n",
      "  (Session info: chrome=95.0.4638.69)\n",
      "\n",
      "Failed to get job description: list index out of range\n"
     ]
    },
    {
     "name": "stdout",
     "output_type": "stream",
     "text": [
      "Page 127 with 22 jobs.\n"
     ]
    },
    {
     "name": "stderr",
     "output_type": "stream",
     "text": [
      "Failed to get job area: Message: no such element: Unable to locate element: {\"method\":\"css selector\",\"selector\":\".job-list-intro\"}\n",
      "  (Session info: chrome=95.0.4638.69)\n",
      "\n",
      "Failed to get job experience: Message: no such element: Unable to locate element: {\"method\":\"css selector\",\"selector\":\".job-list-intro\"}\n",
      "  (Session info: chrome=95.0.4638.69)\n",
      "\n",
      "Failed to get job degree: Message: no such element: Unable to locate element: {\"method\":\"css selector\",\"selector\":\".job-list-intro\"}\n",
      "  (Session info: chrome=95.0.4638.69)\n",
      "\n",
      "Failed to get job description: list index out of range\n",
      "Failed to get job area: Message: no such element: Unable to locate element: {\"method\":\"css selector\",\"selector\":\".job-list-intro\"}\n",
      "  (Session info: chrome=95.0.4638.69)\n",
      "\n",
      "Failed to get job experience: Message: no such element: Unable to locate element: {\"method\":\"css selector\",\"selector\":\".job-list-intro\"}\n",
      "  (Session info: chrome=95.0.4638.69)\n",
      "\n",
      "Failed to get job degree: Message: no such element: Unable to locate element: {\"method\":\"css selector\",\"selector\":\".job-list-intro\"}\n",
      "  (Session info: chrome=95.0.4638.69)\n",
      "\n",
      "Failed to get job description: list index out of range\n"
     ]
    },
    {
     "name": "stdout",
     "output_type": "stream",
     "text": [
      "Page 128 with 22 jobs.\n"
     ]
    },
    {
     "name": "stderr",
     "output_type": "stream",
     "text": [
      "Failed to get job area: Message: no such element: Unable to locate element: {\"method\":\"css selector\",\"selector\":\".job-list-intro\"}\n",
      "  (Session info: chrome=95.0.4638.69)\n",
      "\n",
      "Failed to get job experience: Message: no such element: Unable to locate element: {\"method\":\"css selector\",\"selector\":\".job-list-intro\"}\n",
      "  (Session info: chrome=95.0.4638.69)\n",
      "\n",
      "Failed to get job degree: Message: no such element: Unable to locate element: {\"method\":\"css selector\",\"selector\":\".job-list-intro\"}\n",
      "  (Session info: chrome=95.0.4638.69)\n",
      "\n",
      "Failed to get job description: list index out of range\n",
      "Failed to get job area: Message: no such element: Unable to locate element: {\"method\":\"css selector\",\"selector\":\".job-list-intro\"}\n",
      "  (Session info: chrome=95.0.4638.69)\n",
      "\n",
      "Failed to get job experience: Message: no such element: Unable to locate element: {\"method\":\"css selector\",\"selector\":\".job-list-intro\"}\n",
      "  (Session info: chrome=95.0.4638.69)\n",
      "\n",
      "Failed to get job degree: Message: no such element: Unable to locate element: {\"method\":\"css selector\",\"selector\":\".job-list-intro\"}\n",
      "  (Session info: chrome=95.0.4638.69)\n",
      "\n",
      "Failed to get job description: list index out of range\n"
     ]
    },
    {
     "name": "stdout",
     "output_type": "stream",
     "text": [
      "Page 129 with 22 jobs.\n"
     ]
    },
    {
     "name": "stderr",
     "output_type": "stream",
     "text": [
      "Failed to get job area: Message: no such element: Unable to locate element: {\"method\":\"css selector\",\"selector\":\".job-list-intro\"}\n",
      "  (Session info: chrome=95.0.4638.69)\n",
      "\n",
      "Failed to get job experience: Message: no such element: Unable to locate element: {\"method\":\"css selector\",\"selector\":\".job-list-intro\"}\n",
      "  (Session info: chrome=95.0.4638.69)\n",
      "\n",
      "Failed to get job degree: Message: no such element: Unable to locate element: {\"method\":\"css selector\",\"selector\":\".job-list-intro\"}\n",
      "  (Session info: chrome=95.0.4638.69)\n",
      "\n",
      "Failed to get job description: list index out of range\n",
      "Failed to get job area: Message: no such element: Unable to locate element: {\"method\":\"css selector\",\"selector\":\".job-list-intro\"}\n",
      "  (Session info: chrome=95.0.4638.69)\n",
      "\n",
      "Failed to get job experience: Message: no such element: Unable to locate element: {\"method\":\"css selector\",\"selector\":\".job-list-intro\"}\n",
      "  (Session info: chrome=95.0.4638.69)\n",
      "\n",
      "Failed to get job degree: Message: no such element: Unable to locate element: {\"method\":\"css selector\",\"selector\":\".job-list-intro\"}\n",
      "  (Session info: chrome=95.0.4638.69)\n",
      "\n",
      "Failed to get job description: list index out of range\n"
     ]
    },
    {
     "name": "stdout",
     "output_type": "stream",
     "text": [
      "Page 130 with 22 jobs.\n"
     ]
    },
    {
     "name": "stderr",
     "output_type": "stream",
     "text": [
      "Failed to get job area: Message: no such element: Unable to locate element: {\"method\":\"css selector\",\"selector\":\".job-list-intro\"}\n",
      "  (Session info: chrome=95.0.4638.69)\n",
      "\n",
      "Failed to get job experience: Message: no such element: Unable to locate element: {\"method\":\"css selector\",\"selector\":\".job-list-intro\"}\n",
      "  (Session info: chrome=95.0.4638.69)\n",
      "\n",
      "Failed to get job degree: Message: no such element: Unable to locate element: {\"method\":\"css selector\",\"selector\":\".job-list-intro\"}\n",
      "  (Session info: chrome=95.0.4638.69)\n",
      "\n",
      "Failed to get job description: list index out of range\n",
      "Failed to get job area: Message: no such element: Unable to locate element: {\"method\":\"css selector\",\"selector\":\".job-list-intro\"}\n",
      "  (Session info: chrome=95.0.4638.69)\n",
      "\n",
      "Failed to get job experience: Message: no such element: Unable to locate element: {\"method\":\"css selector\",\"selector\":\".job-list-intro\"}\n",
      "  (Session info: chrome=95.0.4638.69)\n",
      "\n",
      "Failed to get job degree: Message: no such element: Unable to locate element: {\"method\":\"css selector\",\"selector\":\".job-list-intro\"}\n",
      "  (Session info: chrome=95.0.4638.69)\n",
      "\n",
      "Failed to get job description: list index out of range\n"
     ]
    },
    {
     "name": "stdout",
     "output_type": "stream",
     "text": [
      "Page 131 with 22 jobs.\n"
     ]
    },
    {
     "name": "stderr",
     "output_type": "stream",
     "text": [
      "Failed to get job area: Message: no such element: Unable to locate element: {\"method\":\"css selector\",\"selector\":\".job-list-intro\"}\n",
      "  (Session info: chrome=95.0.4638.69)\n",
      "\n",
      "Failed to get job experience: Message: no such element: Unable to locate element: {\"method\":\"css selector\",\"selector\":\".job-list-intro\"}\n",
      "  (Session info: chrome=95.0.4638.69)\n",
      "\n",
      "Failed to get job degree: Message: no such element: Unable to locate element: {\"method\":\"css selector\",\"selector\":\".job-list-intro\"}\n",
      "  (Session info: chrome=95.0.4638.69)\n",
      "\n",
      "Failed to get job description: list index out of range\n",
      "Failed to get job area: Message: no such element: Unable to locate element: {\"method\":\"css selector\",\"selector\":\".job-list-intro\"}\n",
      "  (Session info: chrome=95.0.4638.69)\n",
      "\n",
      "Failed to get job experience: Message: no such element: Unable to locate element: {\"method\":\"css selector\",\"selector\":\".job-list-intro\"}\n",
      "  (Session info: chrome=95.0.4638.69)\n",
      "\n",
      "Failed to get job degree: Message: no such element: Unable to locate element: {\"method\":\"css selector\",\"selector\":\".job-list-intro\"}\n",
      "  (Session info: chrome=95.0.4638.69)\n",
      "\n",
      "Failed to get job description: list index out of range\n"
     ]
    },
    {
     "name": "stdout",
     "output_type": "stream",
     "text": [
      "Page 132 with 22 jobs.\n"
     ]
    },
    {
     "name": "stderr",
     "output_type": "stream",
     "text": [
      "Failed to get job area: Message: no such element: Unable to locate element: {\"method\":\"css selector\",\"selector\":\".job-list-intro\"}\n",
      "  (Session info: chrome=95.0.4638.69)\n",
      "\n",
      "Failed to get job experience: Message: no such element: Unable to locate element: {\"method\":\"css selector\",\"selector\":\".job-list-intro\"}\n",
      "  (Session info: chrome=95.0.4638.69)\n",
      "\n",
      "Failed to get job degree: Message: no such element: Unable to locate element: {\"method\":\"css selector\",\"selector\":\".job-list-intro\"}\n",
      "  (Session info: chrome=95.0.4638.69)\n",
      "\n",
      "Failed to get job description: list index out of range\n",
      "Failed to get job area: Message: no such element: Unable to locate element: {\"method\":\"css selector\",\"selector\":\".job-list-intro\"}\n",
      "  (Session info: chrome=95.0.4638.69)\n",
      "\n",
      "Failed to get job experience: Message: no such element: Unable to locate element: {\"method\":\"css selector\",\"selector\":\".job-list-intro\"}\n",
      "  (Session info: chrome=95.0.4638.69)\n",
      "\n",
      "Failed to get job degree: Message: no such element: Unable to locate element: {\"method\":\"css selector\",\"selector\":\".job-list-intro\"}\n",
      "  (Session info: chrome=95.0.4638.69)\n",
      "\n",
      "Failed to get job description: list index out of range\n"
     ]
    },
    {
     "name": "stdout",
     "output_type": "stream",
     "text": [
      "Page 133 with 22 jobs.\n"
     ]
    },
    {
     "name": "stderr",
     "output_type": "stream",
     "text": [
      "Failed to get job area: Message: no such element: Unable to locate element: {\"method\":\"css selector\",\"selector\":\".job-list-intro\"}\n",
      "  (Session info: chrome=95.0.4638.69)\n",
      "\n",
      "Failed to get job experience: Message: no such element: Unable to locate element: {\"method\":\"css selector\",\"selector\":\".job-list-intro\"}\n",
      "  (Session info: chrome=95.0.4638.69)\n",
      "\n",
      "Failed to get job degree: Message: no such element: Unable to locate element: {\"method\":\"css selector\",\"selector\":\".job-list-intro\"}\n",
      "  (Session info: chrome=95.0.4638.69)\n",
      "\n",
      "Failed to get job description: list index out of range\n",
      "Failed to get job area: Message: no such element: Unable to locate element: {\"method\":\"css selector\",\"selector\":\".job-list-intro\"}\n",
      "  (Session info: chrome=95.0.4638.69)\n",
      "\n",
      "Failed to get job experience: Message: no such element: Unable to locate element: {\"method\":\"css selector\",\"selector\":\".job-list-intro\"}\n",
      "  (Session info: chrome=95.0.4638.69)\n",
      "\n",
      "Failed to get job degree: Message: no such element: Unable to locate element: {\"method\":\"css selector\",\"selector\":\".job-list-intro\"}\n",
      "  (Session info: chrome=95.0.4638.69)\n",
      "\n",
      "Failed to get job description: list index out of range\n"
     ]
    },
    {
     "name": "stdout",
     "output_type": "stream",
     "text": [
      "Page 134 with 22 jobs.\n"
     ]
    },
    {
     "name": "stderr",
     "output_type": "stream",
     "text": [
      "Failed to get job area: Message: no such element: Unable to locate element: {\"method\":\"css selector\",\"selector\":\".job-list-intro\"}\n",
      "  (Session info: chrome=95.0.4638.69)\n",
      "\n",
      "Failed to get job experience: Message: no such element: Unable to locate element: {\"method\":\"css selector\",\"selector\":\".job-list-intro\"}\n",
      "  (Session info: chrome=95.0.4638.69)\n",
      "\n",
      "Failed to get job degree: Message: no such element: Unable to locate element: {\"method\":\"css selector\",\"selector\":\".job-list-intro\"}\n",
      "  (Session info: chrome=95.0.4638.69)\n",
      "\n",
      "Failed to get job description: list index out of range\n",
      "Failed to get job area: Message: no such element: Unable to locate element: {\"method\":\"css selector\",\"selector\":\".job-list-intro\"}\n",
      "  (Session info: chrome=95.0.4638.69)\n",
      "\n",
      "Failed to get job experience: Message: no such element: Unable to locate element: {\"method\":\"css selector\",\"selector\":\".job-list-intro\"}\n",
      "  (Session info: chrome=95.0.4638.69)\n",
      "\n",
      "Failed to get job degree: Message: no such element: Unable to locate element: {\"method\":\"css selector\",\"selector\":\".job-list-intro\"}\n",
      "  (Session info: chrome=95.0.4638.69)\n",
      "\n",
      "Failed to get job description: list index out of range\n"
     ]
    },
    {
     "name": "stdout",
     "output_type": "stream",
     "text": [
      "Page 135 with 22 jobs.\n"
     ]
    },
    {
     "name": "stderr",
     "output_type": "stream",
     "text": [
      "Failed to get job area: Message: no such element: Unable to locate element: {\"method\":\"css selector\",\"selector\":\".job-list-intro\"}\n",
      "  (Session info: chrome=95.0.4638.69)\n",
      "\n",
      "Failed to get job experience: Message: no such element: Unable to locate element: {\"method\":\"css selector\",\"selector\":\".job-list-intro\"}\n",
      "  (Session info: chrome=95.0.4638.69)\n",
      "\n",
      "Failed to get job degree: Message: no such element: Unable to locate element: {\"method\":\"css selector\",\"selector\":\".job-list-intro\"}\n",
      "  (Session info: chrome=95.0.4638.69)\n",
      "\n",
      "Failed to get job description: list index out of range\n",
      "Failed to get job area: Message: no such element: Unable to locate element: {\"method\":\"css selector\",\"selector\":\".job-list-intro\"}\n",
      "  (Session info: chrome=95.0.4638.69)\n",
      "\n",
      "Failed to get job experience: Message: no such element: Unable to locate element: {\"method\":\"css selector\",\"selector\":\".job-list-intro\"}\n",
      "  (Session info: chrome=95.0.4638.69)\n",
      "\n",
      "Failed to get job degree: Message: no such element: Unable to locate element: {\"method\":\"css selector\",\"selector\":\".job-list-intro\"}\n",
      "  (Session info: chrome=95.0.4638.69)\n",
      "\n",
      "Failed to get job description: list index out of range\n"
     ]
    },
    {
     "name": "stdout",
     "output_type": "stream",
     "text": [
      "Page 136 with 22 jobs.\n"
     ]
    },
    {
     "name": "stderr",
     "output_type": "stream",
     "text": [
      "Failed to get job area: Message: no such element: Unable to locate element: {\"method\":\"css selector\",\"selector\":\".job-list-intro\"}\n",
      "  (Session info: chrome=95.0.4638.69)\n",
      "\n",
      "Failed to get job experience: Message: no such element: Unable to locate element: {\"method\":\"css selector\",\"selector\":\".job-list-intro\"}\n",
      "  (Session info: chrome=95.0.4638.69)\n",
      "\n",
      "Failed to get job degree: Message: no such element: Unable to locate element: {\"method\":\"css selector\",\"selector\":\".job-list-intro\"}\n",
      "  (Session info: chrome=95.0.4638.69)\n",
      "\n",
      "Failed to get job description: list index out of range\n",
      "Failed to get job area: Message: no such element: Unable to locate element: {\"method\":\"css selector\",\"selector\":\".job-list-intro\"}\n",
      "  (Session info: chrome=95.0.4638.69)\n",
      "\n",
      "Failed to get job experience: Message: no such element: Unable to locate element: {\"method\":\"css selector\",\"selector\":\".job-list-intro\"}\n",
      "  (Session info: chrome=95.0.4638.69)\n",
      "\n",
      "Failed to get job degree: Message: no such element: Unable to locate element: {\"method\":\"css selector\",\"selector\":\".job-list-intro\"}\n",
      "  (Session info: chrome=95.0.4638.69)\n",
      "\n",
      "Failed to get job description: list index out of range\n"
     ]
    },
    {
     "name": "stdout",
     "output_type": "stream",
     "text": [
      "Page 137 with 22 jobs.\n"
     ]
    },
    {
     "name": "stderr",
     "output_type": "stream",
     "text": [
      "Failed to get job area: Message: no such element: Unable to locate element: {\"method\":\"css selector\",\"selector\":\".job-list-intro\"}\n",
      "  (Session info: chrome=95.0.4638.69)\n",
      "\n",
      "Failed to get job experience: Message: no such element: Unable to locate element: {\"method\":\"css selector\",\"selector\":\".job-list-intro\"}\n",
      "  (Session info: chrome=95.0.4638.69)\n",
      "\n",
      "Failed to get job degree: Message: no such element: Unable to locate element: {\"method\":\"css selector\",\"selector\":\".job-list-intro\"}\n",
      "  (Session info: chrome=95.0.4638.69)\n",
      "\n",
      "Failed to get job description: list index out of range\n",
      "Failed to get job area: Message: no such element: Unable to locate element: {\"method\":\"css selector\",\"selector\":\".job-list-intro\"}\n",
      "  (Session info: chrome=95.0.4638.69)\n",
      "\n",
      "Failed to get job experience: Message: no such element: Unable to locate element: {\"method\":\"css selector\",\"selector\":\".job-list-intro\"}\n",
      "  (Session info: chrome=95.0.4638.69)\n",
      "\n",
      "Failed to get job degree: Message: no such element: Unable to locate element: {\"method\":\"css selector\",\"selector\":\".job-list-intro\"}\n",
      "  (Session info: chrome=95.0.4638.69)\n",
      "\n",
      "Failed to get job description: list index out of range\n"
     ]
    },
    {
     "name": "stdout",
     "output_type": "stream",
     "text": [
      "Page 138 with 22 jobs.\n"
     ]
    },
    {
     "name": "stderr",
     "output_type": "stream",
     "text": [
      "Failed to get job area: Message: no such element: Unable to locate element: {\"method\":\"css selector\",\"selector\":\".job-list-intro\"}\n",
      "  (Session info: chrome=95.0.4638.69)\n",
      "\n",
      "Failed to get job experience: Message: no such element: Unable to locate element: {\"method\":\"css selector\",\"selector\":\".job-list-intro\"}\n",
      "  (Session info: chrome=95.0.4638.69)\n",
      "\n",
      "Failed to get job degree: Message: no such element: Unable to locate element: {\"method\":\"css selector\",\"selector\":\".job-list-intro\"}\n",
      "  (Session info: chrome=95.0.4638.69)\n",
      "\n",
      "Failed to get job description: list index out of range\n",
      "Failed to get job area: Message: no such element: Unable to locate element: {\"method\":\"css selector\",\"selector\":\".job-list-intro\"}\n",
      "  (Session info: chrome=95.0.4638.69)\n",
      "\n",
      "Failed to get job experience: Message: no such element: Unable to locate element: {\"method\":\"css selector\",\"selector\":\".job-list-intro\"}\n",
      "  (Session info: chrome=95.0.4638.69)\n",
      "\n",
      "Failed to get job degree: Message: no such element: Unable to locate element: {\"method\":\"css selector\",\"selector\":\".job-list-intro\"}\n",
      "  (Session info: chrome=95.0.4638.69)\n",
      "\n",
      "Failed to get job description: list index out of range\n"
     ]
    },
    {
     "name": "stdout",
     "output_type": "stream",
     "text": [
      "Page 139 with 22 jobs.\n"
     ]
    },
    {
     "name": "stderr",
     "output_type": "stream",
     "text": [
      "Failed to get job area: Message: no such element: Unable to locate element: {\"method\":\"css selector\",\"selector\":\".job-list-intro\"}\n",
      "  (Session info: chrome=95.0.4638.69)\n",
      "\n",
      "Failed to get job experience: Message: no such element: Unable to locate element: {\"method\":\"css selector\",\"selector\":\".job-list-intro\"}\n",
      "  (Session info: chrome=95.0.4638.69)\n",
      "\n",
      "Failed to get job degree: Message: no such element: Unable to locate element: {\"method\":\"css selector\",\"selector\":\".job-list-intro\"}\n",
      "  (Session info: chrome=95.0.4638.69)\n",
      "\n",
      "Failed to get job description: list index out of range\n",
      "Failed to get job area: Message: no such element: Unable to locate element: {\"method\":\"css selector\",\"selector\":\".job-list-intro\"}\n",
      "  (Session info: chrome=95.0.4638.69)\n",
      "\n",
      "Failed to get job experience: Message: no such element: Unable to locate element: {\"method\":\"css selector\",\"selector\":\".job-list-intro\"}\n",
      "  (Session info: chrome=95.0.4638.69)\n",
      "\n",
      "Failed to get job degree: Message: no such element: Unable to locate element: {\"method\":\"css selector\",\"selector\":\".job-list-intro\"}\n",
      "  (Session info: chrome=95.0.4638.69)\n",
      "\n",
      "Failed to get job description: list index out of range\n"
     ]
    },
    {
     "name": "stdout",
     "output_type": "stream",
     "text": [
      "Page 140 with 22 jobs.\n"
     ]
    },
    {
     "name": "stderr",
     "output_type": "stream",
     "text": [
      "Failed to get job area: Message: no such element: Unable to locate element: {\"method\":\"css selector\",\"selector\":\".job-list-intro\"}\n",
      "  (Session info: chrome=95.0.4638.69)\n",
      "\n",
      "Failed to get job experience: Message: no such element: Unable to locate element: {\"method\":\"css selector\",\"selector\":\".job-list-intro\"}\n",
      "  (Session info: chrome=95.0.4638.69)\n",
      "\n",
      "Failed to get job degree: Message: no such element: Unable to locate element: {\"method\":\"css selector\",\"selector\":\".job-list-intro\"}\n",
      "  (Session info: chrome=95.0.4638.69)\n",
      "\n",
      "Failed to get job description: list index out of range\n",
      "Failed to get job area: Message: no such element: Unable to locate element: {\"method\":\"css selector\",\"selector\":\".job-list-intro\"}\n",
      "  (Session info: chrome=95.0.4638.69)\n",
      "\n",
      "Failed to get job experience: Message: no such element: Unable to locate element: {\"method\":\"css selector\",\"selector\":\".job-list-intro\"}\n",
      "  (Session info: chrome=95.0.4638.69)\n",
      "\n",
      "Failed to get job degree: Message: no such element: Unable to locate element: {\"method\":\"css selector\",\"selector\":\".job-list-intro\"}\n",
      "  (Session info: chrome=95.0.4638.69)\n",
      "\n",
      "Failed to get job description: list index out of range\n"
     ]
    },
    {
     "name": "stdout",
     "output_type": "stream",
     "text": [
      "Page 141 with 22 jobs.\n"
     ]
    },
    {
     "name": "stderr",
     "output_type": "stream",
     "text": [
      "Failed to get job area: Message: no such element: Unable to locate element: {\"method\":\"css selector\",\"selector\":\".job-list-intro\"}\n",
      "  (Session info: chrome=95.0.4638.69)\n",
      "\n",
      "Failed to get job experience: Message: no such element: Unable to locate element: {\"method\":\"css selector\",\"selector\":\".job-list-intro\"}\n",
      "  (Session info: chrome=95.0.4638.69)\n",
      "\n",
      "Failed to get job degree: Message: no such element: Unable to locate element: {\"method\":\"css selector\",\"selector\":\".job-list-intro\"}\n",
      "  (Session info: chrome=95.0.4638.69)\n",
      "\n",
      "Failed to get job description: list index out of range\n",
      "Failed to get job area: Message: no such element: Unable to locate element: {\"method\":\"css selector\",\"selector\":\".job-list-intro\"}\n",
      "  (Session info: chrome=95.0.4638.69)\n",
      "\n",
      "Failed to get job experience: Message: no such element: Unable to locate element: {\"method\":\"css selector\",\"selector\":\".job-list-intro\"}\n",
      "  (Session info: chrome=95.0.4638.69)\n",
      "\n",
      "Failed to get job degree: Message: no such element: Unable to locate element: {\"method\":\"css selector\",\"selector\":\".job-list-intro\"}\n",
      "  (Session info: chrome=95.0.4638.69)\n",
      "\n",
      "Failed to get job description: list index out of range\n"
     ]
    },
    {
     "name": "stdout",
     "output_type": "stream",
     "text": [
      "Page 142 with 22 jobs.\n"
     ]
    },
    {
     "name": "stderr",
     "output_type": "stream",
     "text": [
      "Failed to get job area: Message: no such element: Unable to locate element: {\"method\":\"css selector\",\"selector\":\".job-list-intro\"}\n",
      "  (Session info: chrome=95.0.4638.69)\n",
      "\n",
      "Failed to get job experience: Message: no such element: Unable to locate element: {\"method\":\"css selector\",\"selector\":\".job-list-intro\"}\n",
      "  (Session info: chrome=95.0.4638.69)\n",
      "\n",
      "Failed to get job degree: Message: no such element: Unable to locate element: {\"method\":\"css selector\",\"selector\":\".job-list-intro\"}\n",
      "  (Session info: chrome=95.0.4638.69)\n",
      "\n",
      "Failed to get job description: list index out of range\n",
      "Failed to get job area: Message: no such element: Unable to locate element: {\"method\":\"css selector\",\"selector\":\".job-list-intro\"}\n",
      "  (Session info: chrome=95.0.4638.69)\n",
      "\n",
      "Failed to get job experience: Message: no such element: Unable to locate element: {\"method\":\"css selector\",\"selector\":\".job-list-intro\"}\n",
      "  (Session info: chrome=95.0.4638.69)\n",
      "\n",
      "Failed to get job degree: Message: no such element: Unable to locate element: {\"method\":\"css selector\",\"selector\":\".job-list-intro\"}\n",
      "  (Session info: chrome=95.0.4638.69)\n",
      "\n",
      "Failed to get job description: list index out of range\n"
     ]
    },
    {
     "name": "stdout",
     "output_type": "stream",
     "text": [
      "Page 143 with 22 jobs.\n"
     ]
    },
    {
     "name": "stderr",
     "output_type": "stream",
     "text": [
      "Failed to get job area: Message: no such element: Unable to locate element: {\"method\":\"css selector\",\"selector\":\".job-list-intro\"}\n",
      "  (Session info: chrome=95.0.4638.69)\n",
      "\n",
      "Failed to get job experience: Message: no such element: Unable to locate element: {\"method\":\"css selector\",\"selector\":\".job-list-intro\"}\n",
      "  (Session info: chrome=95.0.4638.69)\n",
      "\n",
      "Failed to get job degree: Message: no such element: Unable to locate element: {\"method\":\"css selector\",\"selector\":\".job-list-intro\"}\n",
      "  (Session info: chrome=95.0.4638.69)\n",
      "\n",
      "Failed to get job description: list index out of range\n",
      "Failed to get job area: Message: no such element: Unable to locate element: {\"method\":\"css selector\",\"selector\":\".job-list-intro\"}\n",
      "  (Session info: chrome=95.0.4638.69)\n",
      "\n",
      "Failed to get job experience: Message: no such element: Unable to locate element: {\"method\":\"css selector\",\"selector\":\".job-list-intro\"}\n",
      "  (Session info: chrome=95.0.4638.69)\n",
      "\n",
      "Failed to get job degree: Message: no such element: Unable to locate element: {\"method\":\"css selector\",\"selector\":\".job-list-intro\"}\n",
      "  (Session info: chrome=95.0.4638.69)\n",
      "\n",
      "Failed to get job description: list index out of range\n"
     ]
    },
    {
     "name": "stdout",
     "output_type": "stream",
     "text": [
      "Page 144 with 22 jobs.\n"
     ]
    },
    {
     "name": "stderr",
     "output_type": "stream",
     "text": [
      "Failed to get job description: list index out of range\n",
      "Failed to get job area: Message: no such element: Unable to locate element: {\"method\":\"css selector\",\"selector\":\".job-list-intro\"}\n",
      "  (Session info: chrome=95.0.4638.69)\n",
      "\n",
      "Failed to get job experience: Message: no such element: Unable to locate element: {\"method\":\"css selector\",\"selector\":\".job-list-intro\"}\n",
      "  (Session info: chrome=95.0.4638.69)\n",
      "\n",
      "Failed to get job degree: Message: no such element: Unable to locate element: {\"method\":\"css selector\",\"selector\":\".job-list-intro\"}\n",
      "  (Session info: chrome=95.0.4638.69)\n",
      "\n",
      "Failed to get job description: list index out of range\n",
      "Failed to get job area: Message: no such element: Unable to locate element: {\"method\":\"css selector\",\"selector\":\".job-list-intro\"}\n",
      "  (Session info: chrome=95.0.4638.69)\n",
      "\n",
      "Failed to get job experience: Message: no such element: Unable to locate element: {\"method\":\"css selector\",\"selector\":\".job-list-intro\"}\n",
      "  (Session info: chrome=95.0.4638.69)\n",
      "\n",
      "Failed to get job degree: Message: no such element: Unable to locate element: {\"method\":\"css selector\",\"selector\":\".job-list-intro\"}\n",
      "  (Session info: chrome=95.0.4638.69)\n",
      "\n",
      "Failed to get job description: list index out of range\n"
     ]
    },
    {
     "name": "stdout",
     "output_type": "stream",
     "text": [
      "Page 145 with 22 jobs.\n"
     ]
    },
    {
     "name": "stderr",
     "output_type": "stream",
     "text": [
      "Failed to get job area: Message: no such element: Unable to locate element: {\"method\":\"css selector\",\"selector\":\".job-list-intro\"}\n",
      "  (Session info: chrome=95.0.4638.69)\n",
      "\n",
      "Failed to get job experience: Message: no such element: Unable to locate element: {\"method\":\"css selector\",\"selector\":\".job-list-intro\"}\n",
      "  (Session info: chrome=95.0.4638.69)\n",
      "\n",
      "Failed to get job degree: Message: no such element: Unable to locate element: {\"method\":\"css selector\",\"selector\":\".job-list-intro\"}\n",
      "  (Session info: chrome=95.0.4638.69)\n",
      "\n",
      "Failed to get job description: list index out of range\n",
      "Failed to get job area: Message: no such element: Unable to locate element: {\"method\":\"css selector\",\"selector\":\".job-list-intro\"}\n",
      "  (Session info: chrome=95.0.4638.69)\n",
      "\n",
      "Failed to get job experience: Message: no such element: Unable to locate element: {\"method\":\"css selector\",\"selector\":\".job-list-intro\"}\n",
      "  (Session info: chrome=95.0.4638.69)\n",
      "\n",
      "Failed to get job degree: Message: no such element: Unable to locate element: {\"method\":\"css selector\",\"selector\":\".job-list-intro\"}\n",
      "  (Session info: chrome=95.0.4638.69)\n",
      "\n",
      "Failed to get job description: list index out of range\n"
     ]
    },
    {
     "name": "stdout",
     "output_type": "stream",
     "text": [
      "Page 146 with 22 jobs.\n"
     ]
    },
    {
     "name": "stderr",
     "output_type": "stream",
     "text": [
      "Failed to get job area: Message: no such element: Unable to locate element: {\"method\":\"css selector\",\"selector\":\".job-list-intro\"}\n",
      "  (Session info: chrome=95.0.4638.69)\n",
      "\n",
      "Failed to get job experience: Message: no such element: Unable to locate element: {\"method\":\"css selector\",\"selector\":\".job-list-intro\"}\n",
      "  (Session info: chrome=95.0.4638.69)\n",
      "\n",
      "Failed to get job degree: Message: no such element: Unable to locate element: {\"method\":\"css selector\",\"selector\":\".job-list-intro\"}\n",
      "  (Session info: chrome=95.0.4638.69)\n",
      "\n",
      "Failed to get job description: list index out of range\n",
      "Failed to get job area: Message: no such element: Unable to locate element: {\"method\":\"css selector\",\"selector\":\".job-list-intro\"}\n",
      "  (Session info: chrome=95.0.4638.69)\n",
      "\n",
      "Failed to get job experience: Message: no such element: Unable to locate element: {\"method\":\"css selector\",\"selector\":\".job-list-intro\"}\n",
      "  (Session info: chrome=95.0.4638.69)\n",
      "\n",
      "Failed to get job degree: Message: no such element: Unable to locate element: {\"method\":\"css selector\",\"selector\":\".job-list-intro\"}\n",
      "  (Session info: chrome=95.0.4638.69)\n",
      "\n",
      "Failed to get job description: list index out of range\n"
     ]
    },
    {
     "name": "stdout",
     "output_type": "stream",
     "text": [
      "Page 147 with 22 jobs.\n"
     ]
    },
    {
     "name": "stderr",
     "output_type": "stream",
     "text": [
      "Failed to get job area: Message: no such element: Unable to locate element: {\"method\":\"css selector\",\"selector\":\".job-list-intro\"}\n",
      "  (Session info: chrome=95.0.4638.69)\n",
      "\n",
      "Failed to get job experience: Message: no such element: Unable to locate element: {\"method\":\"css selector\",\"selector\":\".job-list-intro\"}\n",
      "  (Session info: chrome=95.0.4638.69)\n",
      "\n",
      "Failed to get job degree: Message: no such element: Unable to locate element: {\"method\":\"css selector\",\"selector\":\".job-list-intro\"}\n",
      "  (Session info: chrome=95.0.4638.69)\n",
      "\n",
      "Failed to get job description: list index out of range\n",
      "Failed to get job area: Message: no such element: Unable to locate element: {\"method\":\"css selector\",\"selector\":\".job-list-intro\"}\n",
      "  (Session info: chrome=95.0.4638.69)\n",
      "\n",
      "Failed to get job experience: Message: no such element: Unable to locate element: {\"method\":\"css selector\",\"selector\":\".job-list-intro\"}\n",
      "  (Session info: chrome=95.0.4638.69)\n",
      "\n",
      "Failed to get job degree: Message: no such element: Unable to locate element: {\"method\":\"css selector\",\"selector\":\".job-list-intro\"}\n",
      "  (Session info: chrome=95.0.4638.69)\n",
      "\n",
      "Failed to get job description: list index out of range\n"
     ]
    },
    {
     "name": "stdout",
     "output_type": "stream",
     "text": [
      "Page 148 with 22 jobs.\n"
     ]
    },
    {
     "name": "stderr",
     "output_type": "stream",
     "text": [
      "Failed to get job area: Message: no such element: Unable to locate element: {\"method\":\"css selector\",\"selector\":\".job-list-intro\"}\n",
      "  (Session info: chrome=95.0.4638.69)\n",
      "\n",
      "Failed to get job experience: Message: no such element: Unable to locate element: {\"method\":\"css selector\",\"selector\":\".job-list-intro\"}\n",
      "  (Session info: chrome=95.0.4638.69)\n",
      "\n",
      "Failed to get job degree: Message: no such element: Unable to locate element: {\"method\":\"css selector\",\"selector\":\".job-list-intro\"}\n",
      "  (Session info: chrome=95.0.4638.69)\n",
      "\n",
      "Failed to get job description: list index out of range\n",
      "Failed to get job area: Message: no such element: Unable to locate element: {\"method\":\"css selector\",\"selector\":\".job-list-intro\"}\n",
      "  (Session info: chrome=95.0.4638.69)\n",
      "\n",
      "Failed to get job experience: Message: no such element: Unable to locate element: {\"method\":\"css selector\",\"selector\":\".job-list-intro\"}\n",
      "  (Session info: chrome=95.0.4638.69)\n",
      "\n",
      "Failed to get job degree: Message: no such element: Unable to locate element: {\"method\":\"css selector\",\"selector\":\".job-list-intro\"}\n",
      "  (Session info: chrome=95.0.4638.69)\n",
      "\n",
      "Failed to get job description: list index out of range\n"
     ]
    },
    {
     "name": "stdout",
     "output_type": "stream",
     "text": [
      "Page 149 with 22 jobs.\n"
     ]
    },
    {
     "name": "stderr",
     "output_type": "stream",
     "text": [
      "Failed to get job area: Message: no such element: Unable to locate element: {\"method\":\"css selector\",\"selector\":\".job-list-intro\"}\n",
      "  (Session info: chrome=95.0.4638.69)\n",
      "\n",
      "Failed to get job experience: Message: no such element: Unable to locate element: {\"method\":\"css selector\",\"selector\":\".job-list-intro\"}\n",
      "  (Session info: chrome=95.0.4638.69)\n",
      "\n",
      "Failed to get job degree: Message: no such element: Unable to locate element: {\"method\":\"css selector\",\"selector\":\".job-list-intro\"}\n",
      "  (Session info: chrome=95.0.4638.69)\n",
      "\n",
      "Failed to get job description: list index out of range\n",
      "Failed to get job area: Message: no such element: Unable to locate element: {\"method\":\"css selector\",\"selector\":\".job-list-intro\"}\n",
      "  (Session info: chrome=95.0.4638.69)\n",
      "\n",
      "Failed to get job experience: Message: no such element: Unable to locate element: {\"method\":\"css selector\",\"selector\":\".job-list-intro\"}\n",
      "  (Session info: chrome=95.0.4638.69)\n",
      "\n",
      "Failed to get job degree: Message: no such element: Unable to locate element: {\"method\":\"css selector\",\"selector\":\".job-list-intro\"}\n",
      "  (Session info: chrome=95.0.4638.69)\n",
      "\n",
      "Failed to get job description: list index out of range\n"
     ]
    },
    {
     "name": "stdout",
     "output_type": "stream",
     "text": [
      "Page 150 with 22 jobs.\n"
     ]
    },
    {
     "name": "stderr",
     "output_type": "stream",
     "text": [
      "Failed to get job area: Message: no such element: Unable to locate element: {\"method\":\"css selector\",\"selector\":\".job-list-intro\"}\n",
      "  (Session info: chrome=95.0.4638.69)\n",
      "\n",
      "Failed to get job experience: Message: no such element: Unable to locate element: {\"method\":\"css selector\",\"selector\":\".job-list-intro\"}\n",
      "  (Session info: chrome=95.0.4638.69)\n",
      "\n",
      "Failed to get job degree: Message: no such element: Unable to locate element: {\"method\":\"css selector\",\"selector\":\".job-list-intro\"}\n",
      "  (Session info: chrome=95.0.4638.69)\n",
      "\n",
      "Failed to get job description: list index out of range\n",
      "Failed to get job area: Message: no such element: Unable to locate element: {\"method\":\"css selector\",\"selector\":\".job-list-intro\"}\n",
      "  (Session info: chrome=95.0.4638.69)\n",
      "\n",
      "Failed to get job experience: Message: no such element: Unable to locate element: {\"method\":\"css selector\",\"selector\":\".job-list-intro\"}\n",
      "  (Session info: chrome=95.0.4638.69)\n",
      "\n",
      "Failed to get job degree: Message: no such element: Unable to locate element: {\"method\":\"css selector\",\"selector\":\".job-list-intro\"}\n",
      "  (Session info: chrome=95.0.4638.69)\n",
      "\n",
      "Failed to get job description: list index out of range\n"
     ]
    }
   ],
   "source": [
    "all_jobs_info = crawl_all_page_info()"
   ]
  },
  {
   "cell_type": "code",
   "execution_count": 19,
   "metadata": {},
   "outputs": [
    {
     "name": "stdout",
     "output_type": "stream",
     "text": [
      "3310\n"
     ]
    }
   ],
   "source": [
    "print(len(all_jobs_info))"
   ]
  },
  {
   "cell_type": "markdown",
   "metadata": {},
   "source": [
    "## Data processing and saving"
   ]
  },
  {
   "cell_type": "code",
   "execution_count": 20,
   "metadata": {},
   "outputs": [],
   "source": [
    "import pandas as pd"
   ]
  },
  {
   "cell_type": "code",
   "execution_count": 21,
   "metadata": {},
   "outputs": [
    {
     "name": "stdout",
     "output_type": "stream",
     "text": [
      "<class 'pandas.core.frame.DataFrame'>\n",
      "RangeIndex: 3310 entries, 0 to 3309\n",
      "Data columns (total 7 columns):\n",
      " #   Column                Non-Null Count  Dtype \n",
      "---  ------                --------------  ----- \n",
      " 0   job_item_name         3010 non-null   object\n",
      " 1   job_item_comapny      3010 non-null   object\n",
      " 2   job_item_area         3310 non-null   object\n",
      " 3   job_item_experience   3310 non-null   object\n",
      " 4   job_item_degree       3310 non-null   object\n",
      " 5   job_item_salary       3310 non-null   object\n",
      " 6   job_item_description  3310 non-null   object\n",
      "dtypes: object(7)\n",
      "memory usage: 181.1+ KB\n"
     ]
    }
   ],
   "source": [
    "df = pd.DataFrame(all_jobs_info)\n",
    "df.info()"
   ]
  },
  {
   "cell_type": "code",
   "execution_count": 22,
   "metadata": {},
   "outputs": [],
   "source": [
    "df.to_csv('../data/104_IT_jobs.csv', index=False)"
   ]
  },
  {
   "cell_type": "code",
   "execution_count": null,
   "metadata": {},
   "outputs": [],
   "source": []
  }
 ],
 "metadata": {
  "interpreter": {
   "hash": "984944ce4eefbed249e2a3501e72ee0777f56e66d10a0a53283275062444400f"
  },
  "kernelspec": {
   "display_name": "Python 3.9.6 64-bit",
   "name": "python3"
  },
  "language_info": {
   "codemirror_mode": {
    "name": "ipython",
    "version": 3
   },
   "file_extension": ".py",
   "mimetype": "text/x-python",
   "name": "python",
   "nbconvert_exporter": "python",
   "pygments_lexer": "ipython3",
   "version": "3.9.6"
  },
  "orig_nbformat": 4
 },
 "nbformat": 4,
 "nbformat_minor": 2
}
